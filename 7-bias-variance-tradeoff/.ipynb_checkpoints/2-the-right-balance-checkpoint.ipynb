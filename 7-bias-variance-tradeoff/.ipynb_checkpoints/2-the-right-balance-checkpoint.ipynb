{
 "cells": [
  {
   "cell_type": "markdown",
   "metadata": {},
   "source": [
    "# The bias variance tradeoff"
   ]
  },
  {
   "cell_type": "markdown",
   "metadata": {},
   "source": [
    "### Introduction"
   ]
  },
  {
   "cell_type": "markdown",
   "metadata": {},
   "source": [
    "We have now been exposed to the three different sources of error that can arise in our model.  Here are the three sources:\n",
    "\n",
    "* **bias** when our model does not include one or more features that contributes to variations in outcomes of our data.  \n",
    "* **variance** when we include too many features in our model that make our models too flexible, such that it picks up on randomness in the data.  \n",
    "* **irreducible error** which occurs due to a degree of randomness in our target variable. "
   ]
  },
  {
   "cell_type": "markdown",
   "metadata": {},
   "source": [
    "As we know, we cannot eliminate irreducible error.  But we can develop techniques for not including too few parameters and thus contributing bias, or too many parameters and thus introducing variance, into our model."
   ]
  },
  {
   "cell_type": "markdown",
   "metadata": {},
   "source": [
    "### Setting up our data"
   ]
  },
  {
   "cell_type": "markdown",
   "metadata": {},
   "source": [
    "So far we have seen a model that suffers from bias, one from variance, and another that has the correct number of variables.  In this lesson, we'll take a look at each of these types of models togther and see how they compare.\n",
    "\n",
    "Now to create these three models, we'll just use the same process of inititializing our model, fitting the data and looking at some scores.  The only difference between the models will be the features that we pass into the models.  Lucky for us, we already have these features loaded in a separate file.  \n",
    "\n",
    "So let's load up the data, and then fit three different models with the following features:\n",
    "\n",
    "1. temperatures,\n",
    "2. temperatures and weekends, and\n",
    "3. temperatures, weekends and ages"
   ]
  },
  {
   "cell_type": "code",
   "execution_count": 2,
   "metadata": {},
   "outputs": [
    {
     "data": {
      "text/plain": [
       "[array([2.87988515]),\n",
       " array([ 3.07299452, 38.61313304]),\n",
       " array([ 3.07698899, 38.62306381, -0.05584566])]"
      ]
     },
     "execution_count": 2,
     "metadata": {},
     "output_type": "execute_result"
    }
   ],
   "source": [
    "from sklearn.linear_model import LinearRegression\n",
    "from data import input_temps, temps_and_is_weekends, temps_weekends_and_ages, customers_with_errors\n",
    "feature_datasets = [input_temps, temps_and_is_weekends, temps_weekends_and_ages]\n",
    "models = []\n",
    "for dataset in feature_datasets:\n",
    "    model = LinearRegression()\n",
    "    model.fit(dataset, customers_with_errors)\n",
    "    models.append(model)\n",
    "models\n",
    "\n",
    "intercepts = [model.intercept_ for model in models]\n",
    "# [35.62031572335471, 9.854773197812762, 12.155548281106803]\n",
    "\n",
    "coefs = [model.coef_ for model in models]\n",
    "coefs"
   ]
  },
  {
   "cell_type": "markdown",
   "metadata": {},
   "source": [
    "Ok, let's take a look at these models."
   ]
  },
  {
   "cell_type": "code",
   "execution_count": 2,
   "metadata": {},
   "outputs": [
    {
     "data": {
      "application/vnd.plotly.v1+json": {
       "config": {
        "linkText": "Export to plot.ly",
        "plotlyServerURL": "https://plot.ly",
        "showLink": false
       },
       "data": [
        {
         "mode": "markers",
         "name": "data",
         "text": [],
         "type": "scatter",
         "uid": "ab59cce0-297f-4cc0-9189-5b524f627be1",
         "x": [
          30,
          31,
          32,
          32,
          33,
          33,
          33,
          33,
          38,
          42,
          42,
          43,
          45,
          45,
          47,
          53,
          56,
          57,
          58,
          58,
          59,
          59,
          59,
          62,
          64,
          67,
          67,
          70,
          72,
          74,
          78,
          78,
          79,
          83,
          84,
          84,
          85,
          86,
          87,
          87,
          88,
          90,
          92,
          93,
          93,
          94,
          97,
          99,
          100,
          101
         ],
         "y": [
          125,
          133,
          170,
          79,
          84,
          124,
          142,
          172,
          144,
          193,
          197,
          151,
          169,
          174,
          137,
          217,
          161,
          189,
          156,
          191,
          200,
          167,
          224,
          206,
          197,
          232,
          267,
          285,
          228,
          262,
          237,
          288,
          316,
          257,
          264,
          249,
          292,
          240,
          296,
          242,
          267,
          319,
          315,
          279,
          317,
          326,
          298,
          374,
          336,
          316
         ]
        },
        {
         "mode": "lines",
         "name": "temps",
         "text": [],
         "type": "scatter",
         "uid": "673db7b0-ab88-48bb-8a74-5c4cddec7caa",
         "x": [
          30,
          31,
          32,
          32,
          33,
          33,
          33,
          33,
          38,
          42,
          42,
          43,
          45,
          45,
          47,
          53,
          56,
          57,
          58,
          58,
          59,
          59,
          59,
          62,
          64,
          67,
          67,
          70,
          72,
          74,
          78,
          78,
          79,
          83,
          84,
          84,
          85,
          86,
          87,
          87,
          88,
          90,
          92,
          93,
          93,
          94,
          97,
          99,
          100,
          101
         ],
         "y": [
          122.01687025115665,
          124.89675540208339,
          127.77664055301011,
          127.77664055301011,
          130.65652570393684,
          130.65652570393684,
          130.65652570393684,
          130.65652570393684,
          145.05595145857052,
          156.57549206227742,
          156.57549206227742,
          159.45537721320414,
          165.21514751505762,
          165.21514751505762,
          170.97491781691107,
          188.25422872247148,
          196.89388417525166,
          199.77376932617838,
          202.65365447710514,
          202.65365447710514,
          205.53353962803186,
          205.53353962803186,
          205.53353962803186,
          214.17319508081206,
          219.93296538266551,
          228.57262083544572,
          228.57262083544572,
          237.2122762882259,
          242.97204659007937,
          248.73181689193282,
          260.25135749563975,
          260.25135749563975,
          263.1312426465665,
          274.65078325027343,
          277.53066840120016,
          277.53066840120016,
          280.4105535521269,
          283.2904387030536,
          286.17032385398034,
          286.17032385398034,
          289.05020900490706,
          294.8099793067605,
          300.56974960861396,
          303.4496347595407,
          303.4496347595407,
          306.3295199104674,
          314.9691753632477,
          320.72894566510115,
          323.6088308160279,
          326.4887159669546
         ]
        },
        {
         "mode": "lines",
         "name": "temps, weekends",
         "text": [],
         "type": "scatter",
         "uid": "5ed3aaee-79ad-4dc5-8d29-84d47c28d2bc",
         "x": [
          30,
          31,
          32,
          32,
          33,
          33,
          33,
          33,
          38,
          42,
          42,
          43,
          45,
          45,
          47,
          53,
          56,
          57,
          58,
          58,
          59,
          59,
          59,
          62,
          64,
          67,
          67,
          70,
          72,
          74,
          78,
          78,
          79,
          83,
          84,
          84,
          85,
          86,
          87,
          87,
          88,
          90,
          92,
          93,
          93,
          94,
          97,
          99,
          100,
          101
         ],
         "y": [
          102.04460888016085,
          105.11760340290579,
          146.80373096611726,
          108.19059792565072,
          111.26359244839566,
          149.8767254888622,
          149.8767254888622,
          149.8767254888622,
          165.2416981025869,
          177.53367619356663,
          177.53367619356663,
          141.99353767584503,
          148.1395267213349,
          186.75265976180145,
          154.28551576682477,
          211.33661594376093,
          181.9424664715292,
          185.01546099427412,
          188.08845551701907,
          188.08845551701907,
          229.77458308023054,
          191.161450039764,
          191.161450039764,
          200.3804336079988,
          206.52642265348868,
          215.7454062217235,
          254.35853926219005,
          263.57752283042487,
          231.11037883544816,
          237.25636788093803,
          288.16147901238435,
          249.5483459719178,
          291.23447353512927,
          264.91331858564246,
          267.98631310838744,
          267.98631310838744,
          271.05930763113236,
          274.1323021538773,
          277.2052966766222,
          277.2052966766222,
          280.2782911993671,
          325.0374132853236,
          292.5702692903469,
          295.64326381309183,
          295.64326381309183,
          337.3293913763033,
          307.93524190407163,
          352.694363990028,
          317.1542254723064,
          320.2272199950513
         ]
        },
        {
         "mode": "lines",
         "name": "temps, weekends, ages",
         "text": [],
         "type": "scatter",
         "uid": "8ff24448-f0a0-4607-b291-71d55598e46b",
         "x": [
          30,
          31,
          32,
          32,
          33,
          33,
          33,
          33,
          38,
          42,
          42,
          43,
          45,
          45,
          47,
          53,
          56,
          57,
          58,
          58,
          59,
          59,
          59,
          62,
          64,
          67,
          67,
          70,
          72,
          74,
          78,
          78,
          79,
          83,
          84,
          84,
          85,
          86,
          87,
          87,
          88,
          90,
          92,
          93,
          93,
          94,
          97,
          99,
          100,
          101
         ],
         "y": [
          102.90153957485495,
          105.8668372488243,
          147.56689004663093,
          107.93860438545978,
          111.74158693817962,
          149.86203981759988,
          150.02957679334997,
          148.80097230451594,
          165.58205872478047,
          176.49387322474067,
          178.50431693374182,
          141.00364406778954,
          148.66545483181255,
          186.3391424425659,
          153.14406305658378,
          211.06674568882127,
          181.2837292454754,
          184.86332916386178,
          187.32601591058082,
          187.661089862081,
          229.1377600255542,
          191.35238109763412,
          192.1900659763846,
          201.47687860837624,
          206.40225210181433,
          215.29814512372238,
          254.42381985764322,
          263.431404196718,
          230.7947813965695,
          236.61368542734147,
          288.8291553459738,
          248.80995007471907,
          291.8502986785265,
          265.3118082020668,
          268.4446428517862,
          269.17063641337,
          271.6891688186724,
          274.26354688255816,
          277.84314680094457,
          278.01068377669463,
          279.74737696182996,
          324.52441875077267,
          292.5579438536246,
          295.13232191751035,
          294.96478494176023,
          338.00513354556773,
          307.6636605163881,
          352.5523936224976,
          316.6153991968795,
          320.2508447738493
         ]
        }
       ],
       "layout": {
        "autosize": true,
        "xaxis": {
         "autorange": true,
         "range": [
          25.39902352418997,
          105.60097647581003
         ],
         "type": "linear"
        },
        "yaxis": {
         "autorange": true,
         "range": [
          57.39171974522293,
          395.60828025477707
         ],
         "type": "linear"
        }
       }
      },
      "image/png": "[encoded data removed]",
      "text/html": [
       "<div>\n",
       "        \n",
       "        \n",
       "            <div id=\"a620391e-81fd-4da7-80e6-456de3675d23\" class=\"plotly-graph-div\" style=\"height:525px; width:100%;\"></div>\n",
       "            <script type=\"text/javascript\">\n",
       "                require([\"plotly\"], function(Plotly) {\n",
       "                    window.PLOTLYENV=window.PLOTLYENV || {};\n",
       "                    window.PLOTLYENV.BASE_URL='https://plot.ly';\n",
       "                    \n",
       "                if (document.getElementById(\"a620391e-81fd-4da7-80e6-456de3675d23\")) {\n",
       "                    Plotly.newPlot(\n",
       "                        'a620391e-81fd-4da7-80e6-456de3675d23',\n",
       "                        [{\"mode\": \"markers\", \"name\": \"data\", \"text\": [], \"type\": \"scatter\", \"uid\": \"ab59cce0-297f-4cc0-9189-5b524f627be1\", \"x\": [30, 31, 32, 32, 33, 33, 33, 33, 38, 42, 42, 43, 45, 45, 47, 53, 56, 57, 58, 58, 59, 59, 59, 62, 64, 67, 67, 70, 72, 74, 78, 78, 79, 83, 84, 84, 85, 86, 87, 87, 88, 90, 92, 93, 93, 94, 97, 99, 100, 101], \"y\": [125, 133, 170, 79, 84, 124, 142, 172, 144, 193, 197, 151, 169, 174, 137, 217, 161, 189, 156, 191, 200, 167, 224, 206, 197, 232, 267, 285, 228, 262, 237, 288, 316, 257, 264, 249, 292, 240, 296, 242, 267, 319, 315, 279, 317, 326, 298, 374, 336, 316]}, {\"mode\": \"lines\", \"name\": \"temps\", \"text\": [], \"type\": \"scatter\", \"uid\": \"673db7b0-ab88-48bb-8a74-5c4cddec7caa\", \"x\": [30, 31, 32, 32, 33, 33, 33, 33, 38, 42, 42, 43, 45, 45, 47, 53, 56, 57, 58, 58, 59, 59, 59, 62, 64, 67, 67, 70, 72, 74, 78, 78, 79, 83, 84, 84, 85, 86, 87, 87, 88, 90, 92, 93, 93, 94, 97, 99, 100, 101], \"y\": [122.01687025115665, 124.89675540208339, 127.77664055301011, 127.77664055301011, 130.65652570393684, 130.65652570393684, 130.65652570393684, 130.65652570393684, 145.05595145857052, 156.57549206227742, 156.57549206227742, 159.45537721320414, 165.21514751505762, 165.21514751505762, 170.97491781691107, 188.25422872247148, 196.89388417525166, 199.77376932617838, 202.65365447710514, 202.65365447710514, 205.53353962803186, 205.53353962803186, 205.53353962803186, 214.17319508081206, 219.93296538266551, 228.57262083544572, 228.57262083544572, 237.2122762882259, 242.97204659007937, 248.73181689193282, 260.25135749563975, 260.25135749563975, 263.1312426465665, 274.65078325027343, 277.53066840120016, 277.53066840120016, 280.4105535521269, 283.2904387030536, 286.17032385398034, 286.17032385398034, 289.05020900490706, 294.8099793067605, 300.56974960861396, 303.4496347595407, 303.4496347595407, 306.3295199104674, 314.9691753632477, 320.72894566510115, 323.6088308160279, 326.4887159669546]}, {\"mode\": \"lines\", \"name\": \"temps, weekends\", \"text\": [], \"type\": \"scatter\", \"uid\": \"5ed3aaee-79ad-4dc5-8d29-84d47c28d2bc\", \"x\": [30, 31, 32, 32, 33, 33, 33, 33, 38, 42, 42, 43, 45, 45, 47, 53, 56, 57, 58, 58, 59, 59, 59, 62, 64, 67, 67, 70, 72, 74, 78, 78, 79, 83, 84, 84, 85, 86, 87, 87, 88, 90, 92, 93, 93, 94, 97, 99, 100, 101], \"y\": [102.04460888016085, 105.11760340290579, 146.80373096611726, 108.19059792565072, 111.26359244839566, 149.8767254888622, 149.8767254888622, 149.8767254888622, 165.2416981025869, 177.53367619356663, 177.53367619356663, 141.99353767584503, 148.1395267213349, 186.75265976180145, 154.28551576682477, 211.33661594376093, 181.9424664715292, 185.01546099427412, 188.08845551701907, 188.08845551701907, 229.77458308023054, 191.161450039764, 191.161450039764, 200.3804336079988, 206.52642265348868, 215.7454062217235, 254.35853926219005, 263.57752283042487, 231.11037883544816, 237.25636788093803, 288.16147901238435, 249.5483459719178, 291.23447353512927, 264.91331858564246, 267.98631310838744, 267.98631310838744, 271.05930763113236, 274.1323021538773, 277.2052966766222, 277.2052966766222, 280.2782911993671, 325.0374132853236, 292.5702692903469, 295.64326381309183, 295.64326381309183, 337.3293913763033, 307.93524190407163, 352.694363990028, 317.1542254723064, 320.2272199950513]}, {\"mode\": \"lines\", \"name\": \"temps, weekends, ages\", \"text\": [], \"type\": \"scatter\", \"uid\": \"8ff24448-f0a0-4607-b291-71d55598e46b\", \"x\": [30, 31, 32, 32, 33, 33, 33, 33, 38, 42, 42, 43, 45, 45, 47, 53, 56, 57, 58, 58, 59, 59, 59, 62, 64, 67, 67, 70, 72, 74, 78, 78, 79, 83, 84, 84, 85, 86, 87, 87, 88, 90, 92, 93, 93, 94, 97, 99, 100, 101], \"y\": [102.90153957485495, 105.8668372488243, 147.56689004663093, 107.93860438545978, 111.74158693817962, 149.86203981759988, 150.02957679334997, 148.80097230451594, 165.58205872478047, 176.49387322474067, 178.50431693374182, 141.00364406778954, 148.66545483181255, 186.3391424425659, 153.14406305658378, 211.06674568882127, 181.2837292454754, 184.86332916386178, 187.32601591058082, 187.661089862081, 229.1377600255542, 191.35238109763412, 192.1900659763846, 201.47687860837624, 206.40225210181433, 215.29814512372238, 254.42381985764322, 263.431404196718, 230.7947813965695, 236.61368542734147, 288.8291553459738, 248.80995007471907, 291.8502986785265, 265.3118082020668, 268.4446428517862, 269.17063641337, 271.6891688186724, 274.26354688255816, 277.84314680094457, 278.01068377669463, 279.74737696182996, 324.52441875077267, 292.5579438536246, 295.13232191751035, 294.96478494176023, 338.00513354556773, 307.6636605163881, 352.5523936224976, 316.6153991968795, 320.2508447738493]}],\n",
       "                        {},\n",
       "                        {\"showLink\": false, \"linkText\": \"Export to plot.ly\", \"plotlyServerURL\": \"https://plot.ly\", \"responsive\": true}\n",
       "                    ).then(function(){\n",
       "                            \n",
       "var gd = document.getElementById('a620391e-81fd-4da7-80e6-456de3675d23');\n",
       "var x = new MutationObserver(function (mutations, observer) {{\n",
       "        var display = window.getComputedStyle(gd).display;\n",
       "        if (!display || display === 'none') {{\n",
       "            console.log([gd, 'removed!']);\n",
       "            Plotly.purge(gd);\n",
       "            observer.disconnect();\n",
       "        }}\n",
       "}});\n",
       "\n",
       "// Listen for the removal of the full notebook cells\n",
       "var notebookContainer = gd.closest('#notebook-container');\n",
       "if (notebookContainer) {{\n",
       "    x.observe(notebookContainer, {childList: true});\n",
       "}}\n",
       "\n",
       "// Listen for the clearing of the current output cell\n",
       "var outputEl = gd.closest('.output');\n",
       "if (outputEl) {{\n",
       "    x.observe(outputEl, {childList: true});\n",
       "}}\n",
       "\n",
       "                        })\n",
       "                };\n",
       "                });\n",
       "            </script>\n",
       "        </div>"
      ]
     },
     "metadata": {},
     "output_type": "display_data"
    }
   ],
   "source": [
    "from data import data_trace, prediction_traces\n",
    "from graph import plot\n",
    "plot([data_trace,*prediction_traces])"
   ]
  },
  {
   "cell_type": "markdown",
   "metadata": {},
   "source": [
    "> Now it may look like there are only two models, but there are three, and they are different.  Hover your cursor over the plot and you can see the slight differences between our two feature and three feature models."
   ]
  },
  {
   "cell_type": "markdown",
   "metadata": {},
   "source": [
    "### Choosing a model"
   ]
  },
  {
   "cell_type": "markdown",
   "metadata": {},
   "source": [
    "Now let's move into our process for choosing a model.  The first thing we may want to do is look at the scores for each of these models."
   ]
  },
  {
   "cell_type": "code",
   "execution_count": 4,
   "metadata": {},
   "outputs": [
    {
     "data": {
      "text/plain": [
       "[27.945349336535738, 21.565735597602885, 21.556603670493452]"
      ]
     },
     "execution_count": 4,
     "metadata": {},
     "output_type": "execute_result"
    }
   ],
   "source": [
    "from sklearn.metrics import mean_squared_error\n",
    "from math import sqrt\n",
    "[sqrt(mean_squared_error(customers_with_errors,model.predict(dataset))) for model, dataset in zip(models, feature_datasets)]"
   ]
  },
  {
   "cell_type": "markdown",
   "metadata": {},
   "source": [
    "Now we can see that each of has progressively better scores."
   ]
  },
  {
   "cell_type": "markdown",
   "metadata": {},
   "source": [
    "However, as we mentioned previously the new feature in our last model is the influence of our random list of cashier ages to customers.  This model is just using this random list to find an association between cashier age and customers that doesn't exist.  It's simply coincidence that there exists this association.  This is another case of us overfitting to the randomness in the data"
   ]
  },
  {
   "cell_type": "markdown",
   "metadata": {},
   "source": [
    "### But how do we know?"
   ]
  },
  {
   "cell_type": "markdown",
   "metadata": {},
   "source": [
    "Now the way to detect this overfitting is to use a holdout set.  Here's how we do this:\n",
    "\n",
    "1. We separate our model into two groups.  \n",
    "    * A random selection of 80 percent of the data, and then the remaining 20 percent of the data.  \n",
    "2. We'll then train our data on just the 80 percent of the data\n",
    "3. Finally, we see how well our model performs on the remaining 20 percent of the data that was not a part of the training process.  "
   ]
  },
  {
   "cell_type": "markdown",
   "metadata": {},
   "source": [
    "Here's why this should work:\n",
    "\n",
    "1. **If the association is real**, then the detected association should continue to be informative even on data the our model did not see.  \n",
    "2. **If the association is not real** then this means that our model just found a random association that is not likely to be replicated on the holdout set."
   ]
  },
  {
   "cell_type": "markdown",
   "metadata": {},
   "source": [
    "### Time to try it"
   ]
  },
  {
   "cell_type": "markdown",
   "metadata": {},
   "source": [
    "Ok, let's try it.  We'll create holdout sets by splitting our data into a group of holdout training data and holdout data.  So let's first train the three models on the training datasets.  We'll do this by selecting roughly two thirds of the data to train our model on and use the rest of the data for the holdout set."
   ]
  },
  {
   "cell_type": "code",
   "execution_count": 9,
   "metadata": {},
   "outputs": [],
   "source": [
    "trained_models = []\n",
    "training_predictions = []\n",
    "for feature_data in feature_datasets:\n",
    "    model = LinearRegression()\n",
    "    model.fit(feature_data[0:30], customers_with_errors[0:30])\n",
    "    trained_models.append(model)"
   ]
  },
  {
   "cell_type": "markdown",
   "metadata": {},
   "source": [
    "And we can see how well our feature data fits to the data that we trained on."
   ]
  },
  {
   "cell_type": "code",
   "execution_count": 10,
   "metadata": {},
   "outputs": [],
   "source": [
    "training_predictions = []\n",
    "for feature_data, trained_model in zip(feature_datasets, trained_models):\n",
    "    training_predictions.append(trained_model.predict(feature_data[0:30]))"
   ]
  },
  {
   "cell_type": "code",
   "execution_count": 11,
   "metadata": {},
   "outputs": [
    {
     "data": {
      "text/plain": [
       "[28.123394526498657, 20.233133908472176, 19.11337786070657]"
      ]
     },
     "execution_count": 11,
     "metadata": {},
     "output_type": "execute_result"
    }
   ],
   "source": [
    "from sklearn.metrics import mean_squared_error\n",
    "from numpy import sqrt\n",
    "training_rmses = [sqrt(mean_squared_error(training_prediction, customers_with_errors[0:30])) for training_prediction in training_predictions]\n",
    "training_rmses"
   ]
  },
  {
   "cell_type": "markdown",
   "metadata": {},
   "source": [
    "So as we can see on our training data, our training errors decrease with every new parameter that we add.  Now let's see how each of our trained models performs with our holdout data."
   ]
  },
  {
   "cell_type": "code",
   "execution_count": 13,
   "metadata": {},
   "outputs": [],
   "source": [
    "holdout_predictions = []\n",
    "for feature_data, trained_model in zip(feature_datasets, trained_models):\n",
    "    holdout_predictions.append(trained_model.predict(feature_data[30:]))"
   ]
  },
  {
   "cell_type": "code",
   "execution_count": 15,
   "metadata": {},
   "outputs": [
    {
     "data": {
      "text/plain": [
       "[27.73131229156565, 24.182266312981024, 28.926874485322074]"
      ]
     },
     "execution_count": 15,
     "metadata": {},
     "output_type": "execute_result"
    }
   ],
   "source": [
    "from sklearn.metrics import mean_squared_error\n",
    "from numpy import sqrt\n",
    "holdout_rmses = [sqrt(mean_squared_error(holdout_prediction, customers_with_errors[30:])) for holdout_prediction in holdout_predictions]\n",
    "holdout_rmses"
   ]
  },
  {
   "cell_type": "markdown",
   "metadata": {},
   "source": [
    "So here we can see that our models do not improve with each added parameter.  Rather we see that our bias variance tradeoff reflected in these scores.  The first score is for our one parameter model, which is biased.  Then the second score has our two parameter model, which has the proper features of temps and weekend.  And our final model has three an irrelevant parameter of `random_ages` and thus suffers from variance. "
   ]
  },
  {
   "cell_type": "markdown",
   "metadata": {},
   "source": [
    "| model                  |train rmse | holdout rmse |  \n",
    "| ---------------------- |:---------:| :------------:|\n",
    "| temps, ages, weekend   | 28.12     |  27.73        |\n",
    "| temps, weekend         | 20.23     |  24.18        |\n",
    "| temps                  | 19.13     |  28.92         | "
   ]
  },
  {
   "cell_type": "code",
   "execution_count": 32,
   "metadata": {},
   "outputs": [
    {
     "data": {
      "application/vnd.plotly.v1+json": {
       "config": {
        "linkText": "Export to plot.ly",
        "plotlyServerURL": "https://plot.ly",
        "showLink": false
       },
       "data": [
        {
         "mode": "lines",
         "name": "holdout",
         "text": [],
         "type": "scatter",
         "uid": "16b7af0b-34c9-42c9-bd6b-16ee5196b02a",
         "x": [
          1,
          2,
          3
         ],
         "y": [
          27.73131229156565,
          24.182266312981024,
          28.926874485322074
         ]
        },
        {
         "mode": "lines",
         "name": "training",
         "text": [],
         "type": "scatter",
         "uid": "44d1aa3f-033e-4aa3-a724-f6c53d9ebf00",
         "x": [
          1,
          2,
          3
         ],
         "y": [
          28.123394526498657,
          20.233133908472176,
          19.11337786070657
         ]
        }
       ],
       "layout": {
        "autosize": true,
        "xaxis": {
         "autorange": true,
         "range": [
          1,
          3
         ],
         "type": "linear"
        },
        "yaxis": {
         "autorange": true,
         "range": [
          18.56818360378349,
          29.472068742245156
         ],
         "type": "linear"
        }
       }
      },
      "image/png": "[encoded data removed]",
      "text/html": [
       "<div>\n",
       "        \n",
       "        \n",
       "            <div id=\"966c6ea2-5cf9-4d54-9a06-dc1b66f8156f\" class=\"plotly-graph-div\" style=\"height:525px; width:100%;\"></div>\n",
       "            <script type=\"text/javascript\">\n",
       "                require([\"plotly\"], function(Plotly) {\n",
       "                    window.PLOTLYENV=window.PLOTLYENV || {};\n",
       "                    window.PLOTLYENV.BASE_URL='https://plot.ly';\n",
       "                    \n",
       "                if (document.getElementById(\"966c6ea2-5cf9-4d54-9a06-dc1b66f8156f\")) {\n",
       "                    Plotly.newPlot(\n",
       "                        '966c6ea2-5cf9-4d54-9a06-dc1b66f8156f',\n",
       "                        [{\"mode\": \"lines\", \"name\": \"holdout\", \"text\": [], \"type\": \"scatter\", \"uid\": \"16b7af0b-34c9-42c9-bd6b-16ee5196b02a\", \"x\": [1, 2, 3], \"y\": [27.73131229156565, 24.182266312981024, 28.926874485322074]}, {\"mode\": \"lines\", \"name\": \"training\", \"text\": [], \"type\": \"scatter\", \"uid\": \"44d1aa3f-033e-4aa3-a724-f6c53d9ebf00\", \"x\": [1, 2, 3], \"y\": [28.123394526498657, 20.233133908472176, 19.11337786070657]}],\n",
       "                        {},\n",
       "                        {\"showLink\": false, \"linkText\": \"Export to plot.ly\", \"plotlyServerURL\": \"https://plot.ly\", \"responsive\": true}\n",
       "                    ).then(function(){\n",
       "                            \n",
       "var gd = document.getElementById('966c6ea2-5cf9-4d54-9a06-dc1b66f8156f');\n",
       "var x = new MutationObserver(function (mutations, observer) {{\n",
       "        var display = window.getComputedStyle(gd).display;\n",
       "        if (!display || display === 'none') {{\n",
       "            console.log([gd, 'removed!']);\n",
       "            Plotly.purge(gd);\n",
       "            observer.disconnect();\n",
       "        }}\n",
       "}});\n",
       "\n",
       "// Listen for the removal of the full notebook cells\n",
       "var notebookContainer = gd.closest('#notebook-container');\n",
       "if (notebookContainer) {{\n",
       "    x.observe(notebookContainer, {childList: true});\n",
       "}}\n",
       "\n",
       "// Listen for the clearing of the current output cell\n",
       "var outputEl = gd.closest('.output');\n",
       "if (outputEl) {{\n",
       "    x.observe(outputEl, {childList: true});\n",
       "}}\n",
       "\n",
       "                        })\n",
       "                };\n",
       "                });\n",
       "            </script>\n",
       "        </div>"
      ]
     },
     "metadata": {},
     "output_type": "display_data"
    }
   ],
   "source": [
    "from graph import trace_values\n",
    "model_parameters = [1, 2, 3]\n",
    "training_trace = trace_values(model_parameters, training_rmses, mode = 'lines', name = 'training')\n",
    "holdout_trace = trace_values(model_parameters, holdout_rmses, mode = 'lines', name = 'holdout')\n",
    "plot([holdout_trace, training_trace])"
   ]
  },
  {
   "cell_type": "markdown",
   "metadata": {},
   "source": [
    "The above is a typical graph in machine learning.  As we add more features, the training scores tend to continue to improve.  However, at a certain point adding too many features has our model suffer from variance, so our holdout scores do not continue to improve.  The peak of our holdout scores is showing our best version of the model, which is the second model.\n",
    "\n",
    "So this technique can help us toanswer when our models suffer from bias and when they suffer from variance.  \n",
    "* In the first model, where we are only training on temperatures, our model suffers from bias, as it does not capture the variation that comes from being a weekend.  \n",
    "* In the third model, we suffer from overfitting, which increases our error due to variance.  By adding an irrelevant feature such as age of the cashier to train on, our model's error decreases on the training set.  But this is just the model adjusting to randomness, which we see because our model does not generalize to future data. \n",
    "* The second model, where the error of our holdout set reaches the lowest point, is the model we choose."
   ]
  },
  {
   "cell_type": "markdown",
   "metadata": {},
   "source": [
    "### Summary"
   ]
  },
  {
   "cell_type": "markdown",
   "metadata": {},
   "source": [
    "In this lesson, we learned about the bias variance tradeoff.  There are two main charts that we saw.  The first is that as we add more features, our models become more flexible, and are able to capture the variation in the data."
   ]
  },
  {
   "cell_type": "markdown",
   "metadata": {},
   "source": [
    "But the second shows some of the variation in the data is likely randomness.  We see that as we add more features, the error on our training dataset continues to reduce.  However, at a certain point these improved scores on our training set are due to the models fitting to randomness in the data that is unlikely to generalize.  We see this, when by adding more parameters the performance on the holdout set gets worse.  This displays overfitting to the training set.  To combat against overfitting, we choose the model that performs best on the holdout set."
   ]
  }
 ],
 "metadata": {
  "kernelspec": {
   "display_name": "Python 3",
   "language": "python",
   "name": "python3"
  },
  "language_info": {
   "codemirror_mode": {
    "name": "ipython",
    "version": 3
   },
   "file_extension": ".py",
   "mimetype": "text/x-python",
   "name": "python",
   "nbconvert_exporter": "python",
   "pygments_lexer": "ipython3",
   "version": "3.7.4"
  }
 },
 "nbformat": 4,
 "nbformat_minor": 4
}
