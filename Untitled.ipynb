{
 "cells": [
  {
   "cell_type": "markdown",
   "metadata": {},
   "source": [
    "1. Finding Ideas\n",
    "\n",
    "* Data Journalism \n",
    "    * Urban Institute\n",
    "    * Propublica\n",
    "* Reddit \n",
    "    * Datasets\n",
    "* Kaggle \n",
    "    * Kernels\n",
    "    \n",
    "* What questions are you trying to answer?\n",
    "* For whom?  Who will act on this information?\n",
    "\n",
    "* So what?\n",
    "    * \n",
    "    \n",
    "2. Datasets\n",
    "    * Google data \n",
    "    \n",
    "    "
   ]
  },
  {
   "cell_type": "markdown",
   "metadata": {},
   "source": [
    "### So far..."
   ]
  },
  {
   "cell_type": "markdown",
   "metadata": {},
   "source": [
    "1. Hypothesis Functino\n",
    "2. Cost Function\n",
    "3. Optimization Procedure"
   ]
  },
  {
   "cell_type": "code",
   "execution_count": null,
   "metadata": {},
   "outputs": [],
   "source": []
  }
 ],
 "metadata": {
  "kernelspec": {
   "display_name": "Python 3",
   "language": "python",
   "name": "python3"
  },
  "language_info": {
   "codemirror_mode": {
    "name": "ipython",
    "version": 3
   },
   "file_extension": ".py",
   "mimetype": "text/x-python",
   "name": "python",
   "nbconvert_exporter": "python",
   "pygments_lexer": "ipython3",
   "version": "3.7.4"
  }
 },
 "nbformat": 4,
 "nbformat_minor": 4
}
