{
 "cells": [
  {
   "cell_type": "markdown",
   "metadata": {},
   "source": [
    "# Validation and Feature Selection Lab"
   ]
  },
  {
   "cell_type": "markdown",
   "metadata": {},
   "source": [
    "### Introduction"
   ]
  },
  {
   "cell_type": "markdown",
   "metadata": {},
   "source": [
    "In this lab, we'll work use our learnings about feature selection and validation sets to better select features for our model, and evaluate our model's performance."
   ]
  },
  {
   "cell_type": "markdown",
   "metadata": {},
   "source": [
    "### Loading our Data"
   ]
  },
  {
   "cell_type": "code",
   "execution_count": 46,
   "metadata": {},
   "outputs": [],
   "source": [
    "import pandas as pd\n",
    "\n",
    "housing_df = pd.read_csv('./kc_house_data.csv')"
   ]
  },
  {
   "cell_type": "code",
   "execution_count": 47,
   "metadata": {},
   "outputs": [
    {
     "data": {
      "text/html": [
       "<div>\n",
       "<style scoped>\n",
       "    .dataframe tbody tr th:only-of-type {\n",
       "        vertical-align: middle;\n",
       "    }\n",
       "\n",
       "    .dataframe tbody tr th {\n",
       "        vertical-align: top;\n",
       "    }\n",
       "\n",
       "    .dataframe thead th {\n",
       "        text-align: right;\n",
       "    }\n",
       "</style>\n",
       "<table border=\"1\" class=\"dataframe\">\n",
       "  <thead>\n",
       "    <tr style=\"text-align: right;\">\n",
       "      <th></th>\n",
       "      <th>id</th>\n",
       "      <th>date</th>\n",
       "      <th>price</th>\n",
       "      <th>bedrooms</th>\n",
       "      <th>bathrooms</th>\n",
       "      <th>sqft_living</th>\n",
       "      <th>sqft_lot</th>\n",
       "      <th>floors</th>\n",
       "      <th>waterfront</th>\n",
       "      <th>view</th>\n",
       "      <th>...</th>\n",
       "      <th>grade</th>\n",
       "      <th>sqft_above</th>\n",
       "      <th>sqft_basement</th>\n",
       "      <th>yr_built</th>\n",
       "      <th>yr_renovated</th>\n",
       "      <th>zipcode</th>\n",
       "      <th>lat</th>\n",
       "      <th>long</th>\n",
       "      <th>sqft_living15</th>\n",
       "      <th>sqft_lot15</th>\n",
       "    </tr>\n",
       "  </thead>\n",
       "  <tbody>\n",
       "    <tr>\n",
       "      <th>0</th>\n",
       "      <td>7129300520</td>\n",
       "      <td>20141013T000000</td>\n",
       "      <td>221900.0</td>\n",
       "      <td>3</td>\n",
       "      <td>1.00</td>\n",
       "      <td>1180</td>\n",
       "      <td>5650</td>\n",
       "      <td>1.0</td>\n",
       "      <td>0</td>\n",
       "      <td>0</td>\n",
       "      <td>...</td>\n",
       "      <td>7</td>\n",
       "      <td>1180</td>\n",
       "      <td>0</td>\n",
       "      <td>1955</td>\n",
       "      <td>0</td>\n",
       "      <td>98178</td>\n",
       "      <td>47.5112</td>\n",
       "      <td>-122.257</td>\n",
       "      <td>1340</td>\n",
       "      <td>5650</td>\n",
       "    </tr>\n",
       "    <tr>\n",
       "      <th>1</th>\n",
       "      <td>6414100192</td>\n",
       "      <td>20141209T000000</td>\n",
       "      <td>538000.0</td>\n",
       "      <td>3</td>\n",
       "      <td>2.25</td>\n",
       "      <td>2570</td>\n",
       "      <td>7242</td>\n",
       "      <td>2.0</td>\n",
       "      <td>0</td>\n",
       "      <td>0</td>\n",
       "      <td>...</td>\n",
       "      <td>7</td>\n",
       "      <td>2170</td>\n",
       "      <td>400</td>\n",
       "      <td>1951</td>\n",
       "      <td>1991</td>\n",
       "      <td>98125</td>\n",
       "      <td>47.7210</td>\n",
       "      <td>-122.319</td>\n",
       "      <td>1690</td>\n",
       "      <td>7639</td>\n",
       "    </tr>\n",
       "  </tbody>\n",
       "</table>\n",
       "<p>2 rows × 21 columns</p>\n",
       "</div>"
      ],
      "text/plain": [
       "           id             date     price  bedrooms  bathrooms  sqft_living  \\\n",
       "0  7129300520  20141013T000000  221900.0         3       1.00         1180   \n",
       "1  6414100192  20141209T000000  538000.0         3       2.25         2570   \n",
       "\n",
       "   sqft_lot  floors  waterfront  view  ...  grade  sqft_above  sqft_basement  \\\n",
       "0      5650     1.0           0     0  ...      7        1180              0   \n",
       "1      7242     2.0           0     0  ...      7        2170            400   \n",
       "\n",
       "   yr_built  yr_renovated  zipcode      lat     long  sqft_living15  \\\n",
       "0      1955             0    98178  47.5112 -122.257           1340   \n",
       "1      1951          1991    98125  47.7210 -122.319           1690   \n",
       "\n",
       "   sqft_lot15  \n",
       "0        5650  \n",
       "1        7639  \n",
       "\n",
       "[2 rows x 21 columns]"
      ]
     },
     "execution_count": 47,
     "metadata": {},
     "output_type": "execute_result"
    }
   ],
   "source": [
    "housing_df[:2]"
   ]
  },
  {
   "cell_type": "markdown",
   "metadata": {},
   "source": [
    "Let's take a look at the data."
   ]
  },
  {
   "cell_type": "code",
   "execution_count": 48,
   "metadata": {},
   "outputs": [
    {
     "name": "stdout",
     "output_type": "stream",
     "text": [
      "<class 'pandas.core.frame.DataFrame'>\n",
      "RangeIndex: 21613 entries, 0 to 21612\n",
      "Data columns (total 21 columns):\n",
      "id               21613 non-null int64\n",
      "date             21613 non-null object\n",
      "price            21613 non-null float64\n",
      "bedrooms         21613 non-null int64\n",
      "bathrooms        21613 non-null float64\n",
      "sqft_living      21613 non-null int64\n",
      "sqft_lot         21613 non-null int64\n",
      "floors           21613 non-null float64\n",
      "waterfront       21613 non-null int64\n",
      "view             21613 non-null int64\n",
      "condition        21613 non-null int64\n",
      "grade            21613 non-null int64\n",
      "sqft_above       21613 non-null int64\n",
      "sqft_basement    21613 non-null int64\n",
      "yr_built         21613 non-null int64\n",
      "yr_renovated     21613 non-null int64\n",
      "zipcode          21613 non-null int64\n",
      "lat              21613 non-null float64\n",
      "long             21613 non-null float64\n",
      "sqft_living15    21613 non-null int64\n",
      "sqft_lot15       21613 non-null int64\n",
      "dtypes: float64(5), int64(15), object(1)\n",
      "memory usage: 3.5+ MB\n"
     ]
    }
   ],
   "source": [
    "housing_df.info()"
   ]
  },
  {
   "cell_type": "markdown",
   "metadata": {},
   "source": [
    "As we can see, none of our data has nan values and only the date column is non-numeric.  Let's change the date column to be a datetime column, and change the name of the column to be `sale_date`."
   ]
  },
  {
   "cell_type": "code",
   "execution_count": 49,
   "metadata": {},
   "outputs": [],
   "source": [
    "date = pd.to_datetime(housing_df['date'])"
   ]
  },
  {
   "cell_type": "code",
   "execution_count": 50,
   "metadata": {},
   "outputs": [],
   "source": [
    "housing_df = housing_df.assign(sale_date = date)\n",
    "housing_df = housing_df.drop(columns = ['date'])"
   ]
  },
  {
   "cell_type": "code",
   "execution_count": 51,
   "metadata": {},
   "outputs": [
    {
     "data": {
      "text/plain": [
       "dtype('<M8[ns]')"
      ]
     },
     "execution_count": 51,
     "metadata": {},
     "output_type": "execute_result"
    }
   ],
   "source": [
    "housing_df['sale_date'].dtype\n",
    "# dtype('<M8[ns]')"
   ]
  },
  {
   "cell_type": "code",
   "execution_count": 52,
   "metadata": {},
   "outputs": [
    {
     "data": {
      "text/plain": [
       "False"
      ]
     },
     "execution_count": 52,
     "metadata": {},
     "output_type": "execute_result"
    }
   ],
   "source": [
    "'date' in housing_df.columns\n",
    "# False"
   ]
  },
  {
   "cell_type": "markdown",
   "metadata": {},
   "source": [
    "### Missing Value Analysis and Feature Engineering"
   ]
  },
  {
   "cell_type": "markdown",
   "metadata": {},
   "source": [
    "> In future lessons, we will learn how to look for additional missing data in our dataset, and extract further features from our dataset.  But we haven't learned the best ways of doing that yet."
   ]
  },
  {
   "cell_type": "markdown",
   "metadata": {},
   "source": [
    "Still let's perform some basic feature engineering with the `sale_date`.  Our machine learning model cannot handle datetimes, so we'll need to extract what we can from the date.  Let's add a `sale_month` column and a `sale_year` column."
   ]
  },
  {
   "cell_type": "code",
   "execution_count": 53,
   "metadata": {},
   "outputs": [],
   "source": [
    "sale_month = housing_df['sale_date'].map(lambda x: x.month)"
   ]
  },
  {
   "cell_type": "code",
   "execution_count": 54,
   "metadata": {},
   "outputs": [],
   "source": [
    "sale_year = housing_df['sale_date'].map(lambda x: x.year)"
   ]
  },
  {
   "cell_type": "code",
   "execution_count": 55,
   "metadata": {},
   "outputs": [],
   "source": [
    "housing_df = housing_df.assign(sale_month = sale_month, sale_year = sale_year)"
   ]
  },
  {
   "cell_type": "markdown",
   "metadata": {},
   "source": [
    "Let's sort our dataframe by the sale_date, and then remove our `sale_date` column."
   ]
  },
  {
   "cell_type": "code",
   "execution_count": 57,
   "metadata": {},
   "outputs": [],
   "source": [
    "sorted_housing_df = housing_df.sort_values('sale_date')"
   ]
  },
  {
   "cell_type": "code",
   "execution_count": 61,
   "metadata": {},
   "outputs": [
    {
     "data": {
      "text/plain": [
       "16768   2014-05-02\n",
       "9596    2014-05-02\n",
       "9587    2014-05-02\n",
       "20602   2014-05-02\n",
       "11577   2014-05-02\n",
       "Name: sale_date, dtype: datetime64[ns]"
      ]
     },
     "execution_count": 61,
     "metadata": {},
     "output_type": "execute_result"
    }
   ],
   "source": [
    "sorted_housing_df['sale_date'][:5]\n",
    "# 16768   2014-05-02\n",
    "# 9596    2014-05-02\n",
    "# 9587    2014-05-02\n",
    "# 20602   2014-05-02\n",
    "# 11577   2014-05-02\n",
    "# Name: sale_date, dtype: datetime64[ns]\n"
   ]
  },
  {
   "cell_type": "code",
   "execution_count": 62,
   "metadata": {},
   "outputs": [],
   "source": [
    "sorted_housing_df = sorted_housing_df.drop(columns = ['sale_date'])"
   ]
  },
  {
   "cell_type": "code",
   "execution_count": 63,
   "metadata": {},
   "outputs": [
    {
     "data": {
      "text/plain": [
       "False"
      ]
     },
     "execution_count": 63,
     "metadata": {},
     "output_type": "execute_result"
    }
   ],
   "source": [
    "'sale_date' in sorted_housing_df.columns\n",
    "# False"
   ]
  },
  {
   "cell_type": "code",
   "execution_count": 66,
   "metadata": {},
   "outputs": [
    {
     "data": {
      "text/html": [
       "<div>\n",
       "<style scoped>\n",
       "    .dataframe tbody tr th:only-of-type {\n",
       "        vertical-align: middle;\n",
       "    }\n",
       "\n",
       "    .dataframe tbody tr th {\n",
       "        vertical-align: top;\n",
       "    }\n",
       "\n",
       "    .dataframe thead th {\n",
       "        text-align: right;\n",
       "    }\n",
       "</style>\n",
       "<table border=\"1\" class=\"dataframe\">\n",
       "  <thead>\n",
       "    <tr style=\"text-align: right;\">\n",
       "      <th></th>\n",
       "      <th>sale_month</th>\n",
       "      <th>sale_year</th>\n",
       "    </tr>\n",
       "  </thead>\n",
       "  <tbody>\n",
       "    <tr>\n",
       "      <th>16768</th>\n",
       "      <td>5</td>\n",
       "      <td>2014</td>\n",
       "    </tr>\n",
       "    <tr>\n",
       "      <th>9596</th>\n",
       "      <td>5</td>\n",
       "      <td>2014</td>\n",
       "    </tr>\n",
       "    <tr>\n",
       "      <th>9587</th>\n",
       "      <td>5</td>\n",
       "      <td>2014</td>\n",
       "    </tr>\n",
       "  </tbody>\n",
       "</table>\n",
       "</div>"
      ],
      "text/plain": [
       "       sale_month  sale_year\n",
       "16768           5       2014\n",
       "9596            5       2014\n",
       "9587            5       2014"
      ]
     },
     "execution_count": 66,
     "metadata": {},
     "output_type": "execute_result"
    }
   ],
   "source": [
    "sorted_housing_df[['sale_month', 'sale_year']][:3]\n",
    "# \tsale_month\tsale_year\n",
    "# 16768\t5\t2014\n",
    "# 9596\t5\t2014\n",
    "# 9587\t5\t2014"
   ]
  },
  {
   "cell_type": "code",
   "execution_count": 147,
   "metadata": {},
   "outputs": [
    {
     "data": {
      "text/html": [
       "<div>\n",
       "<style scoped>\n",
       "    .dataframe tbody tr th:only-of-type {\n",
       "        vertical-align: middle;\n",
       "    }\n",
       "\n",
       "    .dataframe tbody tr th {\n",
       "        vertical-align: top;\n",
       "    }\n",
       "\n",
       "    .dataframe thead th {\n",
       "        text-align: right;\n",
       "    }\n",
       "</style>\n",
       "<table border=\"1\" class=\"dataframe\">\n",
       "  <thead>\n",
       "    <tr style=\"text-align: right;\">\n",
       "      <th></th>\n",
       "      <th>id</th>\n",
       "      <th>price</th>\n",
       "      <th>bedrooms</th>\n",
       "      <th>bathrooms</th>\n",
       "      <th>sqft_living</th>\n",
       "      <th>sqft_lot</th>\n",
       "      <th>floors</th>\n",
       "      <th>waterfront</th>\n",
       "      <th>view</th>\n",
       "      <th>condition</th>\n",
       "      <th>...</th>\n",
       "      <th>sqft_basement</th>\n",
       "      <th>yr_built</th>\n",
       "      <th>yr_renovated</th>\n",
       "      <th>zipcode</th>\n",
       "      <th>lat</th>\n",
       "      <th>long</th>\n",
       "      <th>sqft_living15</th>\n",
       "      <th>sqft_lot15</th>\n",
       "      <th>sale_month</th>\n",
       "      <th>sale_year</th>\n",
       "    </tr>\n",
       "  </thead>\n",
       "  <tbody>\n",
       "    <tr>\n",
       "      <th>16768</th>\n",
       "      <td>5561000190</td>\n",
       "      <td>437500.0</td>\n",
       "      <td>3</td>\n",
       "      <td>2.25</td>\n",
       "      <td>1970</td>\n",
       "      <td>35100</td>\n",
       "      <td>2.0</td>\n",
       "      <td>0</td>\n",
       "      <td>0</td>\n",
       "      <td>4</td>\n",
       "      <td>...</td>\n",
       "      <td>0</td>\n",
       "      <td>1977</td>\n",
       "      <td>0</td>\n",
       "      <td>98027</td>\n",
       "      <td>47.4635</td>\n",
       "      <td>-121.991</td>\n",
       "      <td>2340</td>\n",
       "      <td>35100</td>\n",
       "      <td>5</td>\n",
       "      <td>2014</td>\n",
       "    </tr>\n",
       "    <tr>\n",
       "      <th>9596</th>\n",
       "      <td>472000620</td>\n",
       "      <td>790000.0</td>\n",
       "      <td>3</td>\n",
       "      <td>2.50</td>\n",
       "      <td>2600</td>\n",
       "      <td>4750</td>\n",
       "      <td>1.0</td>\n",
       "      <td>0</td>\n",
       "      <td>0</td>\n",
       "      <td>4</td>\n",
       "      <td>...</td>\n",
       "      <td>900</td>\n",
       "      <td>1951</td>\n",
       "      <td>0</td>\n",
       "      <td>98117</td>\n",
       "      <td>47.6833</td>\n",
       "      <td>-122.400</td>\n",
       "      <td>2380</td>\n",
       "      <td>4750</td>\n",
       "      <td>5</td>\n",
       "      <td>2014</td>\n",
       "    </tr>\n",
       "  </tbody>\n",
       "</table>\n",
       "<p>2 rows × 22 columns</p>\n",
       "</div>"
      ],
      "text/plain": [
       "               id     price  bedrooms  bathrooms  sqft_living  sqft_lot  \\\n",
       "16768  5561000190  437500.0         3       2.25         1970     35100   \n",
       "9596    472000620  790000.0         3       2.50         2600      4750   \n",
       "\n",
       "       floors  waterfront  view  condition  ...  sqft_basement  yr_built  \\\n",
       "16768     2.0           0     0          4  ...              0      1977   \n",
       "9596      1.0           0     0          4  ...            900      1951   \n",
       "\n",
       "       yr_renovated  zipcode      lat     long  sqft_living15  sqft_lot15  \\\n",
       "16768             0    98027  47.4635 -121.991           2340       35100   \n",
       "9596              0    98117  47.6833 -122.400           2380        4750   \n",
       "\n",
       "       sale_month  sale_year  \n",
       "16768           5       2014  \n",
       "9596            5       2014  \n",
       "\n",
       "[2 rows x 22 columns]"
      ]
     },
     "execution_count": 147,
     "metadata": {},
     "output_type": "execute_result"
    }
   ],
   "source": [
    "sorted_housing_df[:2]"
   ]
  },
  {
   "cell_type": "markdown",
   "metadata": {},
   "source": [
    "Let's do some initial feature selection.  In general our strategy will be to include as many features as possible.  So right now, let's eliminate `id` as it doesn't contain information, and `price` as this will be our target."
   ]
  },
  {
   "cell_type": "code",
   "execution_count": 179,
   "metadata": {},
   "outputs": [],
   "source": [
    "X = sorted_housing_df.drop(columns = ['id', 'price'])"
   ]
  },
  {
   "cell_type": "markdown",
   "metadata": {},
   "source": [
    "Let's also remove our geographic columns, as we'll learn how to work with geographic columns later, and they can contribute to variance as they are not linear features."
   ]
  },
  {
   "cell_type": "code",
   "execution_count": 180,
   "metadata": {},
   "outputs": [],
   "source": [
    "X = X.drop(columns = ['zipcode', 'lat', 'long'])"
   ]
  },
  {
   "cell_type": "markdown",
   "metadata": {},
   "source": [
    "Next, let's assign our variable `y` to be the price."
   ]
  },
  {
   "cell_type": "code",
   "execution_count": 181,
   "metadata": {},
   "outputs": [],
   "source": [
    "y = sorted_housing_df['price']"
   ]
  },
  {
   "cell_type": "markdown",
   "metadata": {},
   "source": [
    "### Splitting our Data"
   ]
  },
  {
   "cell_type": "markdown",
   "metadata": {},
   "source": [
    "Ok, now that our data is transformed, we can split our data training validation and test sets, and then perform feature selection.  Before dividing our data, let's get an overview how large our dataset is."
   ]
  },
  {
   "cell_type": "code",
   "execution_count": 108,
   "metadata": {},
   "outputs": [
    {
     "data": {
      "text/plain": [
       "(21613, 20)"
      ]
     },
     "execution_count": 108,
     "metadata": {},
     "output_type": "execute_result"
    }
   ],
   "source": [
    "X_scaled_df.shape"
   ]
  },
  {
   "cell_type": "markdown",
   "metadata": {},
   "source": [
    "So we have 21500 records.  That's a good amount.  Let's get a sense of when these records are from, to see how spread out our data is over time.  Plot a histogram of the years of the records."
   ]
  },
  {
   "cell_type": "code",
   "execution_count": 81,
   "metadata": {},
   "outputs": [
    {
     "data": {
      "text/plain": [
       "<matplotlib.axes._subplots.AxesSubplot at 0x1a271004d0>"
      ]
     },
     "execution_count": 81,
     "metadata": {},
     "output_type": "execute_result"
    },
    {
     "data": {
      "image/png": "[encoded data removed]",
      "text/plain": [
       "<Figure size 432x288 with 1 Axes>"
      ]
     },
     "metadata": {
      "needs_background": "light"
     },
     "output_type": "display_data"
    }
   ],
   "source": [
    "X['sale_year'].plot.hist()"
   ]
  },
  {
   "cell_type": "markdown",
   "metadata": {},
   "source": [
    "So there is not a huge gap in times in our data - we have sales between 2014 and 2015.  This means that we don't have to be too concerned about spending our most recent data on validation and testing.  But one thing to be aware of is that because we only have two years of data, we may not want to consume all of our data for specific months.  This is our most recent row."
   ]
  },
  {
   "cell_type": "code",
   "execution_count": 187,
   "metadata": {},
   "outputs": [
    {
     "data": {
      "text/html": [
       "<div>\n",
       "<style scoped>\n",
       "    .dataframe tbody tr th:only-of-type {\n",
       "        vertical-align: middle;\n",
       "    }\n",
       "\n",
       "    .dataframe tbody tr th {\n",
       "        vertical-align: top;\n",
       "    }\n",
       "\n",
       "    .dataframe thead th {\n",
       "        text-align: right;\n",
       "    }\n",
       "</style>\n",
       "<table border=\"1\" class=\"dataframe\">\n",
       "  <thead>\n",
       "    <tr style=\"text-align: right;\">\n",
       "      <th></th>\n",
       "      <th>bedrooms</th>\n",
       "      <th>bathrooms</th>\n",
       "      <th>sqft_living</th>\n",
       "      <th>sqft_lot</th>\n",
       "      <th>floors</th>\n",
       "      <th>waterfront</th>\n",
       "      <th>view</th>\n",
       "      <th>condition</th>\n",
       "      <th>grade</th>\n",
       "      <th>sqft_above</th>\n",
       "      <th>sqft_basement</th>\n",
       "      <th>yr_built</th>\n",
       "      <th>yr_renovated</th>\n",
       "      <th>sqft_living15</th>\n",
       "      <th>sqft_lot15</th>\n",
       "      <th>sale_month</th>\n",
       "      <th>sale_year</th>\n",
       "    </tr>\n",
       "  </thead>\n",
       "  <tbody>\n",
       "    <tr>\n",
       "      <th>16594</th>\n",
       "      <td>4</td>\n",
       "      <td>2.25</td>\n",
       "      <td>3750</td>\n",
       "      <td>5000</td>\n",
       "      <td>2.0</td>\n",
       "      <td>0</td>\n",
       "      <td>0</td>\n",
       "      <td>5</td>\n",
       "      <td>8</td>\n",
       "      <td>2440</td>\n",
       "      <td>1310</td>\n",
       "      <td>1924</td>\n",
       "      <td>0</td>\n",
       "      <td>2170</td>\n",
       "      <td>4590</td>\n",
       "      <td>5</td>\n",
       "      <td>2015</td>\n",
       "    </tr>\n",
       "  </tbody>\n",
       "</table>\n",
       "</div>"
      ],
      "text/plain": [
       "       bedrooms  bathrooms  sqft_living  sqft_lot  floors  waterfront  view  \\\n",
       "16594         4       2.25         3750      5000     2.0           0     0   \n",
       "\n",
       "       condition  grade  sqft_above  sqft_basement  yr_built  yr_renovated  \\\n",
       "16594          5      8        2440           1310      1924             0   \n",
       "\n",
       "       sqft_living15  sqft_lot15  sale_month  sale_year  \n",
       "16594           2170        4590           5       2015  "
      ]
     },
     "execution_count": 187,
     "metadata": {},
     "output_type": "execute_result"
    }
   ],
   "source": [
    "X[-1:]"
   ]
  },
  {
   "cell_type": "markdown",
   "metadata": {},
   "source": [
    "And let's see how far back 4000 rows takes us."
   ]
  },
  {
   "cell_type": "code",
   "execution_count": 185,
   "metadata": {},
   "outputs": [
    {
     "data": {
      "text/html": [
       "<div>\n",
       "<style scoped>\n",
       "    .dataframe tbody tr th:only-of-type {\n",
       "        vertical-align: middle;\n",
       "    }\n",
       "\n",
       "    .dataframe tbody tr th {\n",
       "        vertical-align: top;\n",
       "    }\n",
       "\n",
       "    .dataframe thead th {\n",
       "        text-align: right;\n",
       "    }\n",
       "</style>\n",
       "<table border=\"1\" class=\"dataframe\">\n",
       "  <thead>\n",
       "    <tr style=\"text-align: right;\">\n",
       "      <th></th>\n",
       "      <th>bedrooms</th>\n",
       "      <th>bathrooms</th>\n",
       "      <th>sqft_living</th>\n",
       "      <th>sqft_lot</th>\n",
       "      <th>floors</th>\n",
       "      <th>waterfront</th>\n",
       "      <th>view</th>\n",
       "      <th>condition</th>\n",
       "      <th>grade</th>\n",
       "      <th>sqft_above</th>\n",
       "      <th>sqft_basement</th>\n",
       "      <th>yr_built</th>\n",
       "      <th>yr_renovated</th>\n",
       "      <th>sqft_living15</th>\n",
       "      <th>sqft_lot15</th>\n",
       "      <th>sale_month</th>\n",
       "      <th>sale_year</th>\n",
       "    </tr>\n",
       "  </thead>\n",
       "  <tbody>\n",
       "    <tr>\n",
       "      <th>7433</th>\n",
       "      <td>5</td>\n",
       "      <td>3.5</td>\n",
       "      <td>4050</td>\n",
       "      <td>20925</td>\n",
       "      <td>2.0</td>\n",
       "      <td>0</td>\n",
       "      <td>3</td>\n",
       "      <td>3</td>\n",
       "      <td>10</td>\n",
       "      <td>3020</td>\n",
       "      <td>1030</td>\n",
       "      <td>1973</td>\n",
       "      <td>2005</td>\n",
       "      <td>3880</td>\n",
       "      <td>18321</td>\n",
       "      <td>3</td>\n",
       "      <td>2015</td>\n",
       "    </tr>\n",
       "  </tbody>\n",
       "</table>\n",
       "</div>"
      ],
      "text/plain": [
       "      bedrooms  bathrooms  sqft_living  sqft_lot  floors  waterfront  view  \\\n",
       "7433         5        3.5         4050     20925     2.0           0     3   \n",
       "\n",
       "      condition  grade  sqft_above  sqft_basement  yr_built  yr_renovated  \\\n",
       "7433          3     10        3020           1030      1973          2005   \n",
       "\n",
       "      sqft_living15  sqft_lot15  sale_month  sale_year  \n",
       "7433           3880       18321           3       2015  "
      ]
     },
     "execution_count": 185,
     "metadata": {},
     "output_type": "execute_result"
    }
   ],
   "source": [
    "X[-4001:-4000]"
   ]
  },
  {
   "cell_type": "markdown",
   "metadata": {},
   "source": [
    "Whereas another 4000 will take us into the previous year."
   ]
  },
  {
   "cell_type": "code",
   "execution_count": 186,
   "metadata": {},
   "outputs": [
    {
     "data": {
      "text/html": [
       "<div>\n",
       "<style scoped>\n",
       "    .dataframe tbody tr th:only-of-type {\n",
       "        vertical-align: middle;\n",
       "    }\n",
       "\n",
       "    .dataframe tbody tr th {\n",
       "        vertical-align: top;\n",
       "    }\n",
       "\n",
       "    .dataframe thead th {\n",
       "        text-align: right;\n",
       "    }\n",
       "</style>\n",
       "<table border=\"1\" class=\"dataframe\">\n",
       "  <thead>\n",
       "    <tr style=\"text-align: right;\">\n",
       "      <th></th>\n",
       "      <th>bedrooms</th>\n",
       "      <th>bathrooms</th>\n",
       "      <th>sqft_living</th>\n",
       "      <th>sqft_lot</th>\n",
       "      <th>floors</th>\n",
       "      <th>waterfront</th>\n",
       "      <th>view</th>\n",
       "      <th>condition</th>\n",
       "      <th>grade</th>\n",
       "      <th>sqft_above</th>\n",
       "      <th>sqft_basement</th>\n",
       "      <th>yr_built</th>\n",
       "      <th>yr_renovated</th>\n",
       "      <th>sqft_living15</th>\n",
       "      <th>sqft_lot15</th>\n",
       "      <th>sale_month</th>\n",
       "      <th>sale_year</th>\n",
       "    </tr>\n",
       "  </thead>\n",
       "  <tbody>\n",
       "    <tr>\n",
       "      <th>4579</th>\n",
       "      <td>4</td>\n",
       "      <td>1.75</td>\n",
       "      <td>1650</td>\n",
       "      <td>6900</td>\n",
       "      <td>1.0</td>\n",
       "      <td>0</td>\n",
       "      <td>0</td>\n",
       "      <td>3</td>\n",
       "      <td>7</td>\n",
       "      <td>910</td>\n",
       "      <td>740</td>\n",
       "      <td>1978</td>\n",
       "      <td>1993</td>\n",
       "      <td>1540</td>\n",
       "      <td>7645</td>\n",
       "      <td>12</td>\n",
       "      <td>2014</td>\n",
       "    </tr>\n",
       "  </tbody>\n",
       "</table>\n",
       "</div>"
      ],
      "text/plain": [
       "      bedrooms  bathrooms  sqft_living  sqft_lot  floors  waterfront  view  \\\n",
       "4579         4       1.75         1650      6900     1.0           0     0   \n",
       "\n",
       "      condition  grade  sqft_above  sqft_basement  yr_built  yr_renovated  \\\n",
       "4579          3      7         910            740      1978          1993   \n",
       "\n",
       "      sqft_living15  sqft_lot15  sale_month  sale_year  \n",
       "4579           1540        7645          12       2014  "
      ]
     },
     "execution_count": 186,
     "metadata": {},
     "output_type": "execute_result"
    }
   ],
   "source": [
    "X[-8001:-8000]"
   ]
  },
  {
   "cell_type": "markdown",
   "metadata": {},
   "source": [
    "It would be nice to allow our model to see some 2015 data, so that it can determine if the year is influential.  So let's allocate the last 2000 observations to our test set, and the 2000 before that to the validation set.  The rest is the training set."
   ]
  },
  {
   "cell_type": "code",
   "execution_count": 195,
   "metadata": {},
   "outputs": [],
   "source": [
    "X_test = X[-2000:]\n",
    "y_test = y[-2000:]\n",
    "\n",
    "X_validate = X[-4000:-2000]\n",
    "y_validate = y[-4000:-2000]\n",
    "\n",
    "X_train = X[:-4000]\n",
    "y_train = y[:-4000]"
   ]
  },
  {
   "cell_type": "code",
   "execution_count": 196,
   "metadata": {},
   "outputs": [
    {
     "data": {
      "text/plain": [
       "(      sale_year  sale_month\n",
       " 7433       2015           3,\n",
       "       sale_year  sale_month\n",
       " 1021       2015           4,\n",
       "        sale_year  sale_month\n",
       " 16594       2015           5)"
      ]
     },
     "execution_count": 196,
     "metadata": {},
     "output_type": "execute_result"
    }
   ],
   "source": [
    "sale_cols = ['sale_year', 'sale_month']\n",
    "X_train[-1:][sale_cols], X_validate[-1:][sale_cols], X_test[-1:][sale_cols]"
   ]
  },
  {
   "cell_type": "markdown",
   "metadata": {},
   "source": [
    "Before moving on, let's train our model."
   ]
  },
  {
   "cell_type": "code",
   "execution_count": 197,
   "metadata": {},
   "outputs": [],
   "source": [
    "from sklearn.linear_model import LinearRegression"
   ]
  },
  {
   "cell_type": "code",
   "execution_count": 198,
   "metadata": {},
   "outputs": [],
   "source": [
    "model = LinearRegression().fit(X_train, y_train)"
   ]
  },
  {
   "cell_type": "code",
   "execution_count": 199,
   "metadata": {},
   "outputs": [
    {
     "data": {
      "text/plain": [
       "0.6190954414632961"
      ]
     },
     "execution_count": 199,
     "metadata": {},
     "output_type": "execute_result"
    }
   ],
   "source": [
    "model.score(X_validate, y_validate)"
   ]
  },
  {
   "cell_type": "markdown",
   "metadata": {},
   "source": [
    "Ok, not too bad."
   ]
  },
  {
   "cell_type": "markdown",
   "metadata": {},
   "source": [
    "### Scaling our Data"
   ]
  },
  {
   "cell_type": "markdown",
   "metadata": {},
   "source": [
    "Now that we've performed some basic feature engineering and divided our data.  Let's move onto scaling our data."
   ]
  },
  {
   "cell_type": "code",
   "execution_count": 200,
   "metadata": {},
   "outputs": [],
   "source": [
    "from sklearn.preprocessing import StandardScaler\n",
    "transformer = StandardScaler()\n",
    "X_train_scaled = transformer.fit_transform(X_train)"
   ]
  },
  {
   "cell_type": "markdown",
   "metadata": {},
   "source": [
    "Once you have scaled the data once, you can call `transform` on the validation data using the same `transformer`."
   ]
  },
  {
   "cell_type": "code",
   "execution_count": 202,
   "metadata": {},
   "outputs": [],
   "source": [
    "X_validate_scaled = transformer.transform(X_validate)"
   ]
  },
  {
   "cell_type": "markdown",
   "metadata": {},
   "source": [
    "One annoying thing about scaling our data is that we then lose a sense of our columns."
   ]
  },
  {
   "cell_type": "code",
   "execution_count": 203,
   "metadata": {},
   "outputs": [
    {
     "data": {
      "text/plain": [
       "array([[-0.40007305,  0.16654127, -0.12714512,  0.52118016,  0.92982032,\n",
       "        -0.08788627, -0.30543791,  0.87668489,  1.13039067,  0.21054702,\n",
       "        -0.65827427,  0.20447298, -0.21264288,  0.50954597,  0.85687474,\n",
       "        -0.69872446, -0.45127518],\n",
       "       [-0.40007305,  0.49016125,  0.55362948, -0.26377938, -0.91859112,\n",
       "        -0.08788627, -0.30543791,  0.87668489,  1.13039067, -0.11326886,\n",
       "         1.36222672, -0.68078079, -0.21264288,  0.56768548, -0.3003021 ,\n",
       "        -0.69872446, -0.45127518]])"
      ]
     },
     "execution_count": 203,
     "metadata": {},
     "output_type": "execute_result"
    }
   ],
   "source": [
    "X_train_scaled[:2]"
   ]
  },
  {
   "cell_type": "markdown",
   "metadata": {},
   "source": [
    "Change our array back to a dataframe, and assign the columns in X to be the columns here."
   ]
  },
  {
   "cell_type": "code",
   "execution_count": 204,
   "metadata": {},
   "outputs": [],
   "source": [
    "X_train_scaled_df = pd.DataFrame(X_train_scaled, columns = X.columns)"
   ]
  },
  {
   "cell_type": "code",
   "execution_count": 205,
   "metadata": {},
   "outputs": [
    {
     "data": {
      "text/html": [
       "<div>\n",
       "<style scoped>\n",
       "    .dataframe tbody tr th:only-of-type {\n",
       "        vertical-align: middle;\n",
       "    }\n",
       "\n",
       "    .dataframe tbody tr th {\n",
       "        vertical-align: top;\n",
       "    }\n",
       "\n",
       "    .dataframe thead th {\n",
       "        text-align: right;\n",
       "    }\n",
       "</style>\n",
       "<table border=\"1\" class=\"dataframe\">\n",
       "  <thead>\n",
       "    <tr style=\"text-align: right;\">\n",
       "      <th></th>\n",
       "      <th>bedrooms</th>\n",
       "      <th>bathrooms</th>\n",
       "      <th>sqft_living</th>\n",
       "      <th>sqft_lot</th>\n",
       "      <th>floors</th>\n",
       "      <th>waterfront</th>\n",
       "      <th>view</th>\n",
       "      <th>condition</th>\n",
       "      <th>grade</th>\n",
       "      <th>sqft_above</th>\n",
       "      <th>sqft_basement</th>\n",
       "      <th>yr_built</th>\n",
       "      <th>yr_renovated</th>\n",
       "      <th>sqft_living15</th>\n",
       "      <th>sqft_lot15</th>\n",
       "      <th>sale_month</th>\n",
       "      <th>sale_year</th>\n",
       "    </tr>\n",
       "  </thead>\n",
       "  <tbody>\n",
       "    <tr>\n",
       "      <th>0</th>\n",
       "      <td>-0.400073</td>\n",
       "      <td>0.166541</td>\n",
       "      <td>-0.127145</td>\n",
       "      <td>0.521180</td>\n",
       "      <td>0.929820</td>\n",
       "      <td>-0.087886</td>\n",
       "      <td>-0.305438</td>\n",
       "      <td>0.876685</td>\n",
       "      <td>1.130391</td>\n",
       "      <td>0.210547</td>\n",
       "      <td>-0.658274</td>\n",
       "      <td>0.204473</td>\n",
       "      <td>-0.212643</td>\n",
       "      <td>0.509546</td>\n",
       "      <td>0.856875</td>\n",
       "      <td>-0.698724</td>\n",
       "      <td>-0.451275</td>\n",
       "    </tr>\n",
       "    <tr>\n",
       "      <th>1</th>\n",
       "      <td>-0.400073</td>\n",
       "      <td>0.490161</td>\n",
       "      <td>0.553629</td>\n",
       "      <td>-0.263779</td>\n",
       "      <td>-0.918591</td>\n",
       "      <td>-0.087886</td>\n",
       "      <td>-0.305438</td>\n",
       "      <td>0.876685</td>\n",
       "      <td>1.130391</td>\n",
       "      <td>-0.113269</td>\n",
       "      <td>1.362227</td>\n",
       "      <td>-0.680781</td>\n",
       "      <td>-0.212643</td>\n",
       "      <td>0.567685</td>\n",
       "      <td>-0.300302</td>\n",
       "      <td>-0.698724</td>\n",
       "      <td>-0.451275</td>\n",
       "    </tr>\n",
       "  </tbody>\n",
       "</table>\n",
       "</div>"
      ],
      "text/plain": [
       "   bedrooms  bathrooms  sqft_living  sqft_lot    floors  waterfront      view  \\\n",
       "0 -0.400073   0.166541    -0.127145  0.521180  0.929820   -0.087886 -0.305438   \n",
       "1 -0.400073   0.490161     0.553629 -0.263779 -0.918591   -0.087886 -0.305438   \n",
       "\n",
       "   condition     grade  sqft_above  sqft_basement  yr_built  yr_renovated  \\\n",
       "0   0.876685  1.130391    0.210547      -0.658274  0.204473     -0.212643   \n",
       "1   0.876685  1.130391   -0.113269       1.362227 -0.680781     -0.212643   \n",
       "\n",
       "   sqft_living15  sqft_lot15  sale_month  sale_year  \n",
       "0       0.509546    0.856875   -0.698724  -0.451275  \n",
       "1       0.567685   -0.300302   -0.698724  -0.451275  "
      ]
     },
     "execution_count": 205,
     "metadata": {},
     "output_type": "execute_result"
    }
   ],
   "source": [
    "X_train_scaled_df[:2]"
   ]
  },
  {
   "cell_type": "markdown",
   "metadata": {},
   "source": [
    "And do the same with the validation data."
   ]
  },
  {
   "cell_type": "code",
   "execution_count": 206,
   "metadata": {},
   "outputs": [],
   "source": [
    "X_validate_scaled_df = pd.DataFrame(X_validate_scaled, columns = X.columns)"
   ]
  },
  {
   "cell_type": "code",
   "execution_count": 207,
   "metadata": {},
   "outputs": [
    {
     "data": {
      "text/html": [
       "<div>\n",
       "<style scoped>\n",
       "    .dataframe tbody tr th:only-of-type {\n",
       "        vertical-align: middle;\n",
       "    }\n",
       "\n",
       "    .dataframe tbody tr th {\n",
       "        vertical-align: top;\n",
       "    }\n",
       "\n",
       "    .dataframe thead th {\n",
       "        text-align: right;\n",
       "    }\n",
       "</style>\n",
       "<table border=\"1\" class=\"dataframe\">\n",
       "  <thead>\n",
       "    <tr style=\"text-align: right;\">\n",
       "      <th></th>\n",
       "      <th>bedrooms</th>\n",
       "      <th>bathrooms</th>\n",
       "      <th>sqft_living</th>\n",
       "      <th>sqft_lot</th>\n",
       "      <th>floors</th>\n",
       "      <th>waterfront</th>\n",
       "      <th>view</th>\n",
       "      <th>condition</th>\n",
       "      <th>grade</th>\n",
       "      <th>sqft_above</th>\n",
       "      <th>sqft_basement</th>\n",
       "      <th>yr_built</th>\n",
       "      <th>yr_renovated</th>\n",
       "      <th>sqft_living15</th>\n",
       "      <th>sqft_lot15</th>\n",
       "      <th>sale_month</th>\n",
       "      <th>sale_year</th>\n",
       "    </tr>\n",
       "  </thead>\n",
       "  <tbody>\n",
       "    <tr>\n",
       "      <th>0</th>\n",
       "      <td>-0.400073</td>\n",
       "      <td>0.166541</td>\n",
       "      <td>1.061509</td>\n",
       "      <td>-0.137177</td>\n",
       "      <td>0.929820</td>\n",
       "      <td>-0.087886</td>\n",
       "      <td>-0.305438</td>\n",
       "      <td>-0.638629</td>\n",
       "      <td>1.977751</td>\n",
       "      <td>0.378452</td>\n",
       "      <td>1.496927</td>\n",
       "      <td>0.544955</td>\n",
       "      <td>-0.212643</td>\n",
       "      <td>1.657801</td>\n",
       "      <td>-0.121102</td>\n",
       "      <td>-1.337947</td>\n",
       "      <td>2.215943</td>\n",
       "    </tr>\n",
       "    <tr>\n",
       "      <th>1</th>\n",
       "      <td>-0.400073</td>\n",
       "      <td>-0.157079</td>\n",
       "      <td>-0.462129</td>\n",
       "      <td>-0.180809</td>\n",
       "      <td>-0.918591</td>\n",
       "      <td>-0.087886</td>\n",
       "      <td>-0.305438</td>\n",
       "      <td>-0.638629</td>\n",
       "      <td>-0.564329</td>\n",
       "      <td>-0.796880</td>\n",
       "      <td>0.531576</td>\n",
       "      <td>0.408762</td>\n",
       "      <td>-0.212643</td>\n",
       "      <td>-0.638709</td>\n",
       "      <td>-0.189846</td>\n",
       "      <td>-1.337947</td>\n",
       "      <td>2.215943</td>\n",
       "    </tr>\n",
       "  </tbody>\n",
       "</table>\n",
       "</div>"
      ],
      "text/plain": [
       "   bedrooms  bathrooms  sqft_living  sqft_lot    floors  waterfront      view  \\\n",
       "0 -0.400073   0.166541     1.061509 -0.137177  0.929820   -0.087886 -0.305438   \n",
       "1 -0.400073  -0.157079    -0.462129 -0.180809 -0.918591   -0.087886 -0.305438   \n",
       "\n",
       "   condition     grade  sqft_above  sqft_basement  yr_built  yr_renovated  \\\n",
       "0  -0.638629  1.977751    0.378452       1.496927  0.544955     -0.212643   \n",
       "1  -0.638629 -0.564329   -0.796880       0.531576  0.408762     -0.212643   \n",
       "\n",
       "   sqft_living15  sqft_lot15  sale_month  sale_year  \n",
       "0       1.657801   -0.121102   -1.337947   2.215943  \n",
       "1      -0.638709   -0.189846   -1.337947   2.215943  "
      ]
     },
     "execution_count": 207,
     "metadata": {},
     "output_type": "execute_result"
    }
   ],
   "source": [
    "X_validate_scaled_df[:2]"
   ]
  },
  {
   "cell_type": "markdown",
   "metadata": {},
   "source": [
    "### Feature Selection"
   ]
  },
  {
   "cell_type": "markdown",
   "metadata": {},
   "source": [
    "Ok, now it's time to perform feature selection.  Let's fit our model again, and use the coefficients of our model to sort our features by order of importance.\n",
    "\n",
    "> Our score should be the same."
   ]
  },
  {
   "cell_type": "code",
   "execution_count": 116,
   "metadata": {},
   "outputs": [],
   "source": [
    "from sklearn.linear_model import LinearRegression"
   ]
  },
  {
   "cell_type": "code",
   "execution_count": 403,
   "metadata": {},
   "outputs": [
    {
     "data": {
      "text/plain": [
       "LinearRegression(copy_X=True, fit_intercept=True, n_jobs=None, normalize=False)"
      ]
     },
     "execution_count": 403,
     "metadata": {},
     "output_type": "execute_result"
    }
   ],
   "source": [
    "model = LinearRegression()\n",
    "model.fit(X_train_scaled_df, y_train)"
   ]
  },
  {
   "cell_type": "code",
   "execution_count": 404,
   "metadata": {},
   "outputs": [
    {
     "data": {
      "text/plain": [
       "0.6190954414632183"
      ]
     },
     "execution_count": 404,
     "metadata": {},
     "output_type": "execute_result"
    }
   ],
   "source": [
    "model.score(X_validate_scaled_df, y_validate)"
   ]
  },
  {
   "cell_type": "markdown",
   "metadata": {},
   "source": [
    "Ok, now we can use the coeficients to perform feature selection.  Return the columns and the related coefficients, sorted from largest to smallest by absolute value."
   ]
  },
  {
   "cell_type": "code",
   "execution_count": 405,
   "metadata": {},
   "outputs": [
    {
     "data": {
      "text/plain": [
       "array([15, 16,  3, 12, 13, 14,  7,  4,  1,  6, 10,  0,  5,  9,  2, 11,  8])"
      ]
     },
     "execution_count": 405,
     "metadata": {},
     "output_type": "execute_result"
    }
   ],
   "source": [
    "sorted_idcs = np.argsort(np.absolute(model.coef_))\n",
    "sorted_idcs"
   ]
  },
  {
   "cell_type": "code",
   "execution_count": 406,
   "metadata": {},
   "outputs": [],
   "source": [
    "sorted_cols = X_train_scaled_df.columns[sorted_idcs][::-1]\n",
    "sorted_coef = model.coef_[sorted_idcs][::-1]"
   ]
  },
  {
   "cell_type": "code",
   "execution_count": 407,
   "metadata": {},
   "outputs": [
    {
     "data": {
      "text/plain": [
       "array([['grade', 138836.31679376948],\n",
       "       ['yr_built', -101790.58028249719],\n",
       "       ['sqft_living', 78287.60048048769],\n",
       "       ['sqft_above', 67873.70025402229],\n",
       "       ['waterfront', 49773.09979959703],\n",
       "       ['bedrooms', -36493.80787921594],\n",
       "       ['sqft_basement', 35594.618127523405],\n",
       "       ['view', 35147.109199198654],\n",
       "       ['bathrooms', 34642.41372185266],\n",
       "       ['floors', 14596.913311944081],\n",
       "       ['condition', 13624.900481106748],\n",
       "       ['sqft_lot15', -13270.10570317243],\n",
       "       ['sqft_living15', 12748.83638370339],\n",
       "       ['yr_renovated', 5011.776176784931],\n",
       "       ['sqft_lot', -4060.1168984997607],\n",
       "       ['sale_year', 3368.824213386116],\n",
       "       ['sale_month', -780.5262792850269]], dtype=object)"
      ]
     },
     "execution_count": 407,
     "metadata": {},
     "output_type": "execute_result"
    }
   ],
   "source": [
    "sorted_coef_and_cols = np.stack([sorted_cols, sorted_coef], axis = 1)\n",
    "sorted_coef_and_cols"
   ]
  },
  {
   "cell_type": "markdown",
   "metadata": {},
   "source": [
    "Now order the columns of the `X_train` and `X_validate` sets in order of feature importance."
   ]
  },
  {
   "cell_type": "code",
   "execution_count": 408,
   "metadata": {},
   "outputs": [],
   "source": [
    "sorted_cols = sorted_coef_and_cols[:, 0]"
   ]
  },
  {
   "cell_type": "code",
   "execution_count": 409,
   "metadata": {},
   "outputs": [
    {
     "data": {
      "text/html": [
       "<div>\n",
       "<style scoped>\n",
       "    .dataframe tbody tr th:only-of-type {\n",
       "        vertical-align: middle;\n",
       "    }\n",
       "\n",
       "    .dataframe tbody tr th {\n",
       "        vertical-align: top;\n",
       "    }\n",
       "\n",
       "    .dataframe thead th {\n",
       "        text-align: right;\n",
       "    }\n",
       "</style>\n",
       "<table border=\"1\" class=\"dataframe\">\n",
       "  <thead>\n",
       "    <tr style=\"text-align: right;\">\n",
       "      <th></th>\n",
       "      <th>grade</th>\n",
       "      <th>yr_built</th>\n",
       "      <th>sqft_living</th>\n",
       "      <th>sqft_above</th>\n",
       "      <th>waterfront</th>\n",
       "      <th>bedrooms</th>\n",
       "      <th>sqft_basement</th>\n",
       "      <th>view</th>\n",
       "      <th>bathrooms</th>\n",
       "      <th>floors</th>\n",
       "      <th>condition</th>\n",
       "      <th>sqft_lot15</th>\n",
       "      <th>sqft_living15</th>\n",
       "      <th>yr_renovated</th>\n",
       "      <th>sqft_lot</th>\n",
       "      <th>sale_year</th>\n",
       "      <th>sale_month</th>\n",
       "    </tr>\n",
       "  </thead>\n",
       "  <tbody>\n",
       "    <tr>\n",
       "      <th>0</th>\n",
       "      <td>1.130391</td>\n",
       "      <td>0.204473</td>\n",
       "      <td>-0.127145</td>\n",
       "      <td>0.210547</td>\n",
       "      <td>-0.087886</td>\n",
       "      <td>-0.400073</td>\n",
       "      <td>-0.658274</td>\n",
       "      <td>-0.305438</td>\n",
       "      <td>0.166541</td>\n",
       "      <td>0.92982</td>\n",
       "      <td>0.876685</td>\n",
       "      <td>0.856875</td>\n",
       "      <td>0.509546</td>\n",
       "      <td>-0.212643</td>\n",
       "      <td>0.52118</td>\n",
       "      <td>-0.451275</td>\n",
       "      <td>-0.698724</td>\n",
       "    </tr>\n",
       "  </tbody>\n",
       "</table>\n",
       "</div>"
      ],
      "text/plain": [
       "      grade  yr_built  sqft_living  sqft_above  waterfront  bedrooms  \\\n",
       "0  1.130391  0.204473    -0.127145    0.210547   -0.087886 -0.400073   \n",
       "\n",
       "   sqft_basement      view  bathrooms   floors  condition  sqft_lot15  \\\n",
       "0      -0.658274 -0.305438   0.166541  0.92982   0.876685    0.856875   \n",
       "\n",
       "   sqft_living15  yr_renovated  sqft_lot  sale_year  sale_month  \n",
       "0       0.509546     -0.212643   0.52118  -0.451275   -0.698724  "
      ]
     },
     "execution_count": 409,
     "metadata": {},
     "output_type": "execute_result"
    }
   ],
   "source": [
    "X_train_sorted_cols_df = X_train_scaled_df[sorted_cols]\n",
    "X_train_sorted_cols_df[:1]"
   ]
  },
  {
   "cell_type": "code",
   "execution_count": 410,
   "metadata": {},
   "outputs": [],
   "source": [
    "# \tsqft_living\tgrade\twaterfront\tbathrooms\tview\tcondition\tsqft_living15\tfloors\tyr_renovated\tsale_month\tsale_year\tsqft_lot\tsqft_lot15\tbedrooms\tyr_built\tsqft_basement\tsqft_above\n",
    "# 0\t-0.127145\t1.130391\t-0.087886\t0.166541\t-0.305438\t0.876685\t0.509546\t0.92982\t-0.212643\t-0.698724\t-0.451275\t0.52118\t0.856875\t-0.400073\t0.204473\t-0.658274\t0.210547"
   ]
  },
  {
   "cell_type": "code",
   "execution_count": 411,
   "metadata": {},
   "outputs": [],
   "source": [
    "X_validate_sorted_cols_df = X_validate_scaled_df[sorted_cols]"
   ]
  },
  {
   "cell_type": "code",
   "execution_count": 412,
   "metadata": {},
   "outputs": [
    {
     "data": {
      "text/html": [
       "<div>\n",
       "<style scoped>\n",
       "    .dataframe tbody tr th:only-of-type {\n",
       "        vertical-align: middle;\n",
       "    }\n",
       "\n",
       "    .dataframe tbody tr th {\n",
       "        vertical-align: top;\n",
       "    }\n",
       "\n",
       "    .dataframe thead th {\n",
       "        text-align: right;\n",
       "    }\n",
       "</style>\n",
       "<table border=\"1\" class=\"dataframe\">\n",
       "  <thead>\n",
       "    <tr style=\"text-align: right;\">\n",
       "      <th></th>\n",
       "      <th>grade</th>\n",
       "      <th>yr_built</th>\n",
       "      <th>sqft_living</th>\n",
       "      <th>sqft_above</th>\n",
       "      <th>waterfront</th>\n",
       "      <th>bedrooms</th>\n",
       "      <th>sqft_basement</th>\n",
       "      <th>view</th>\n",
       "      <th>bathrooms</th>\n",
       "      <th>floors</th>\n",
       "      <th>condition</th>\n",
       "      <th>sqft_lot15</th>\n",
       "      <th>sqft_living15</th>\n",
       "      <th>yr_renovated</th>\n",
       "      <th>sqft_lot</th>\n",
       "      <th>sale_year</th>\n",
       "      <th>sale_month</th>\n",
       "    </tr>\n",
       "  </thead>\n",
       "  <tbody>\n",
       "    <tr>\n",
       "      <th>0</th>\n",
       "      <td>1.977751</td>\n",
       "      <td>0.544955</td>\n",
       "      <td>1.061509</td>\n",
       "      <td>0.378452</td>\n",
       "      <td>-0.087886</td>\n",
       "      <td>-0.400073</td>\n",
       "      <td>1.496927</td>\n",
       "      <td>-0.305438</td>\n",
       "      <td>0.166541</td>\n",
       "      <td>0.92982</td>\n",
       "      <td>-0.638629</td>\n",
       "      <td>-0.121102</td>\n",
       "      <td>1.657801</td>\n",
       "      <td>-0.212643</td>\n",
       "      <td>-0.137177</td>\n",
       "      <td>2.215943</td>\n",
       "      <td>-1.337947</td>\n",
       "    </tr>\n",
       "  </tbody>\n",
       "</table>\n",
       "</div>"
      ],
      "text/plain": [
       "      grade  yr_built  sqft_living  sqft_above  waterfront  bedrooms  \\\n",
       "0  1.977751  0.544955     1.061509    0.378452   -0.087886 -0.400073   \n",
       "\n",
       "   sqft_basement      view  bathrooms   floors  condition  sqft_lot15  \\\n",
       "0       1.496927 -0.305438   0.166541  0.92982  -0.638629   -0.121102   \n",
       "\n",
       "   sqft_living15  yr_renovated  sqft_lot  sale_year  sale_month  \n",
       "0       1.657801     -0.212643 -0.137177   2.215943   -1.337947  "
      ]
     },
     "execution_count": 412,
     "metadata": {},
     "output_type": "execute_result"
    }
   ],
   "source": [
    "X_validate_sorted_cols_df[:1]\n",
    "\n"
   ]
  },
  {
   "cell_type": "code",
   "execution_count": 348,
   "metadata": {},
   "outputs": [
    {
     "data": {
      "text/plain": [
       "(2000, 17)"
      ]
     },
     "execution_count": 348,
     "metadata": {},
     "output_type": "execute_result"
    }
   ],
   "source": [
    "X_validate_sorted_cols_df.shape"
   ]
  },
  {
   "cell_type": "markdown",
   "metadata": {},
   "source": [
    "Let's begin by creating a set of datasets for our training data by 1 to n columns from `X_validate_sorted_cols_df` by order of importance.  "
   ]
  },
  {
   "cell_type": "markdown",
   "metadata": {},
   "source": [
    "> There should be 16 datasets when were done."
   ]
  },
  {
   "cell_type": "code",
   "execution_count": 413,
   "metadata": {},
   "outputs": [],
   "source": [
    "X_train_datasets = [X_train_sorted_cols_df.iloc[:, :i] for i in range(1, 18)]"
   ]
  },
  {
   "cell_type": "code",
   "execution_count": 415,
   "metadata": {},
   "outputs": [
    {
     "data": {
      "text/html": [
       "<div>\n",
       "<style scoped>\n",
       "    .dataframe tbody tr th:only-of-type {\n",
       "        vertical-align: middle;\n",
       "    }\n",
       "\n",
       "    .dataframe tbody tr th {\n",
       "        vertical-align: top;\n",
       "    }\n",
       "\n",
       "    .dataframe thead th {\n",
       "        text-align: right;\n",
       "    }\n",
       "</style>\n",
       "<table border=\"1\" class=\"dataframe\">\n",
       "  <thead>\n",
       "    <tr style=\"text-align: right;\">\n",
       "      <th></th>\n",
       "      <th>grade</th>\n",
       "    </tr>\n",
       "  </thead>\n",
       "  <tbody>\n",
       "    <tr>\n",
       "      <th>0</th>\n",
       "      <td>1.130391</td>\n",
       "    </tr>\n",
       "    <tr>\n",
       "      <th>1</th>\n",
       "      <td>1.130391</td>\n",
       "    </tr>\n",
       "  </tbody>\n",
       "</table>\n",
       "</div>"
      ],
      "text/plain": [
       "      grade\n",
       "0  1.130391\n",
       "1  1.130391"
      ]
     },
     "execution_count": 415,
     "metadata": {},
     "output_type": "execute_result"
    }
   ],
   "source": [
    "X_train_datasets[0][:2]\n",
    "# bedrooms\n",
    "# 0\t-0.398737\n",
    "# 1\t-0.398737"
   ]
  },
  {
   "cell_type": "code",
   "execution_count": 416,
   "metadata": {},
   "outputs": [
    {
     "data": {
      "text/html": [
       "<div>\n",
       "<style scoped>\n",
       "    .dataframe tbody tr th:only-of-type {\n",
       "        vertical-align: middle;\n",
       "    }\n",
       "\n",
       "    .dataframe tbody tr th {\n",
       "        vertical-align: top;\n",
       "    }\n",
       "\n",
       "    .dataframe thead th {\n",
       "        text-align: right;\n",
       "    }\n",
       "</style>\n",
       "<table border=\"1\" class=\"dataframe\">\n",
       "  <thead>\n",
       "    <tr style=\"text-align: right;\">\n",
       "      <th></th>\n",
       "      <th>grade</th>\n",
       "      <th>yr_built</th>\n",
       "      <th>sqft_living</th>\n",
       "      <th>sqft_above</th>\n",
       "      <th>waterfront</th>\n",
       "      <th>bedrooms</th>\n",
       "      <th>sqft_basement</th>\n",
       "      <th>view</th>\n",
       "      <th>bathrooms</th>\n",
       "      <th>floors</th>\n",
       "      <th>condition</th>\n",
       "      <th>sqft_lot15</th>\n",
       "      <th>sqft_living15</th>\n",
       "      <th>yr_renovated</th>\n",
       "      <th>sqft_lot</th>\n",
       "      <th>sale_year</th>\n",
       "      <th>sale_month</th>\n",
       "    </tr>\n",
       "  </thead>\n",
       "  <tbody>\n",
       "    <tr>\n",
       "      <th>0</th>\n",
       "      <td>1.130391</td>\n",
       "      <td>0.204473</td>\n",
       "      <td>-0.127145</td>\n",
       "      <td>0.210547</td>\n",
       "      <td>-0.087886</td>\n",
       "      <td>-0.400073</td>\n",
       "      <td>-0.658274</td>\n",
       "      <td>-0.305438</td>\n",
       "      <td>0.166541</td>\n",
       "      <td>0.929820</td>\n",
       "      <td>0.876685</td>\n",
       "      <td>0.856875</td>\n",
       "      <td>0.509546</td>\n",
       "      <td>-0.212643</td>\n",
       "      <td>0.521180</td>\n",
       "      <td>-0.451275</td>\n",
       "      <td>-0.698724</td>\n",
       "    </tr>\n",
       "    <tr>\n",
       "      <th>1</th>\n",
       "      <td>1.130391</td>\n",
       "      <td>-0.680781</td>\n",
       "      <td>0.553629</td>\n",
       "      <td>-0.113269</td>\n",
       "      <td>-0.087886</td>\n",
       "      <td>-0.400073</td>\n",
       "      <td>1.362227</td>\n",
       "      <td>-0.305438</td>\n",
       "      <td>0.490161</td>\n",
       "      <td>-0.918591</td>\n",
       "      <td>0.876685</td>\n",
       "      <td>-0.300302</td>\n",
       "      <td>0.567685</td>\n",
       "      <td>-0.212643</td>\n",
       "      <td>-0.263779</td>\n",
       "      <td>-0.451275</td>\n",
       "      <td>-0.698724</td>\n",
       "    </tr>\n",
       "  </tbody>\n",
       "</table>\n",
       "</div>"
      ],
      "text/plain": [
       "      grade  yr_built  sqft_living  sqft_above  waterfront  bedrooms  \\\n",
       "0  1.130391  0.204473    -0.127145    0.210547   -0.087886 -0.400073   \n",
       "1  1.130391 -0.680781     0.553629   -0.113269   -0.087886 -0.400073   \n",
       "\n",
       "   sqft_basement      view  bathrooms    floors  condition  sqft_lot15  \\\n",
       "0      -0.658274 -0.305438   0.166541  0.929820   0.876685    0.856875   \n",
       "1       1.362227 -0.305438   0.490161 -0.918591   0.876685   -0.300302   \n",
       "\n",
       "   sqft_living15  yr_renovated  sqft_lot  sale_year  sale_month  \n",
       "0       0.509546     -0.212643  0.521180  -0.451275   -0.698724  \n",
       "1       0.567685     -0.212643 -0.263779  -0.451275   -0.698724  "
      ]
     },
     "execution_count": 416,
     "metadata": {},
     "output_type": "execute_result"
    }
   ],
   "source": [
    "X_train_datasets[-1][:2]\n",
    "# \tbedrooms\tbathrooms\tsqft_living\tsqft_lot\tfloors\twaterfront\tview\tcondition\tgrade\tsqft_above\tsqft_basement\tyr_built\tyr_renovated\tzipcode\tlat\tlong\tsqft_living15\tsqft_lot15\tsale_month\tsale_year\n",
    "# 0\t-0.398737\t0.175607\t-0.119662\t0.482696\t0.936506\t-0.087173\t-0.305759\t0.907554\t1.142667\t0.219316\t-0.658681\t0.204096\t-0.210128\t-0.952078\t-0.696826\t1.582789\t0.515699\t0.817899\t-0.505394\t-0.690655\n",
    "# 1\t-0.398737\t0.500221\t0.566299\t-0.250050\t-0.915427\t-0.087173\t-0.305759\t0.907554\t1.142667\t-0.106743\t1.374919\t-0.681079\t-0.210128\t0.730045\t0.889485\t-1.321523\t0.574061\t-0.293678\t-0.505394\t-0.690655"
   ]
  },
  {
   "cell_type": "code",
   "execution_count": 417,
   "metadata": {},
   "outputs": [],
   "source": [
    "X_validation_datasets = [X_validate_sorted_cols_df.iloc[:, :i] for i in range(1, 18)]"
   ]
  },
  {
   "cell_type": "code",
   "execution_count": 418,
   "metadata": {},
   "outputs": [
    {
     "data": {
      "text/plain": [
       "(2000, 1)"
      ]
     },
     "execution_count": 418,
     "metadata": {},
     "output_type": "execute_result"
    }
   ],
   "source": [
    "X_validation_datasets[0].shape"
   ]
  },
  {
   "cell_type": "code",
   "execution_count": 423,
   "metadata": {},
   "outputs": [
    {
     "data": {
      "text/html": [
       "<div>\n",
       "<style scoped>\n",
       "    .dataframe tbody tr th:only-of-type {\n",
       "        vertical-align: middle;\n",
       "    }\n",
       "\n",
       "    .dataframe tbody tr th {\n",
       "        vertical-align: top;\n",
       "    }\n",
       "\n",
       "    .dataframe thead th {\n",
       "        text-align: right;\n",
       "    }\n",
       "</style>\n",
       "<table border=\"1\" class=\"dataframe\">\n",
       "  <thead>\n",
       "    <tr style=\"text-align: right;\">\n",
       "      <th></th>\n",
       "      <th>grade</th>\n",
       "    </tr>\n",
       "  </thead>\n",
       "  <tbody>\n",
       "    <tr>\n",
       "      <th>0</th>\n",
       "      <td>1.977751</td>\n",
       "    </tr>\n",
       "    <tr>\n",
       "      <th>1</th>\n",
       "      <td>-0.564329</td>\n",
       "    </tr>\n",
       "  </tbody>\n",
       "</table>\n",
       "</div>"
      ],
      "text/plain": [
       "      grade\n",
       "0  1.977751\n",
       "1 -0.564329"
      ]
     },
     "execution_count": 423,
     "metadata": {},
     "output_type": "execute_result"
    }
   ],
   "source": [
    "X_validation_datasets[0][:2]"
   ]
  },
  {
   "cell_type": "code",
   "execution_count": 419,
   "metadata": {},
   "outputs": [
    {
     "data": {
      "text/plain": [
       "(2000,)"
      ]
     },
     "execution_count": 419,
     "metadata": {},
     "output_type": "execute_result"
    }
   ],
   "source": [
    "y_validate.shape"
   ]
  },
  {
   "cell_type": "markdown",
   "metadata": {},
   "source": [
    "Ok, now let's create a separate model for each of our training datatsets, and then evaluate the performance on the validation datasets."
   ]
  },
  {
   "cell_type": "code",
   "execution_count": 424,
   "metadata": {},
   "outputs": [],
   "source": [
    "trained_models = [LinearRegression().fit(X_train, y_train) for X_train in X_train_datasets]"
   ]
  },
  {
   "cell_type": "code",
   "execution_count": 425,
   "metadata": {},
   "outputs": [],
   "source": [
    "model_scores = [train_model.score(X_validation, y_validate) \n",
    "                for X_validation, train_model \n",
    "                in zip(X_validation_datasets, trained_models)]"
   ]
  },
  {
   "cell_type": "code",
   "execution_count": 426,
   "metadata": {},
   "outputs": [
    {
     "data": {
      "text/plain": [
       "[0.4053380440665897,\n",
       " 0.4899088511946995,\n",
       " 0.5717998433450644,\n",
       " 0.5728928677207712,\n",
       " 0.6017730203588975,\n",
       " 0.6053559741628769,\n",
       " 0.6053559741628769,\n",
       " 0.6129705564283209,\n",
       " 0.6156319529519583,\n",
       " 0.6153500371327996,\n",
       " 0.6153681296984064,\n",
       " 0.6143169643835164,\n",
       " 0.6164987325065734,\n",
       " 0.6159903523685051,\n",
       " 0.6148762075573468,\n",
       " 0.6192834942955159,\n",
       " 0.6190954414632186]"
      ]
     },
     "execution_count": 426,
     "metadata": {},
     "output_type": "execute_result"
    }
   ],
   "source": [
    "model_scores"
   ]
  },
  {
   "cell_type": "code",
   "execution_count": 428,
   "metadata": {},
   "outputs": [
    {
     "data": {
      "text/plain": [
       "[0.4053380440665897,\n",
       " 0.4899088511946995,\n",
       " 0.5717998433450644,\n",
       " 0.5728928677207712,\n",
       " 0.6017730203588975,\n",
       " 0.6053559741628769,\n",
       " 0.6053559741628769,\n",
       " 0.6129705564283209,\n",
       " 0.6156319529519583]"
      ]
     },
     "execution_count": 428,
     "metadata": {},
     "output_type": "execute_result"
    }
   ],
   "source": [
    "model_scores[:9]"
   ]
  },
  {
   "cell_type": "code",
   "execution_count": 429,
   "metadata": {},
   "outputs": [
    {
     "data": {
      "text/plain": [
       "Index(['grade', 'yr_built', 'sqft_living', 'sqft_above', 'waterfront',\n",
       "       'bedrooms', 'sqft_basement', 'view', 'bathrooms'],\n",
       "      dtype='object')"
      ]
     },
     "execution_count": 429,
     "metadata": {},
     "output_type": "execute_result"
    }
   ],
   "source": [
    "X_train_sorted_cols_df.columns[:9]"
   ]
  },
  {
   "cell_type": "markdown",
   "metadata": {},
   "source": [
    "Well it looks our scores peak at about 61 percent better than the mean, and including a single feature.  "
   ]
  },
  {
   "cell_type": "markdown",
   "metadata": {},
   "source": [
    "Let's just select these top 9 features.  Then combine our training and validation data, finally, score our model on the test set."
   ]
  },
  {
   "cell_type": "code",
   "execution_count": 430,
   "metadata": {},
   "outputs": [],
   "source": [
    "selected_cols = X_train_sorted_cols_df.columns[:9]"
   ]
  },
  {
   "cell_type": "code",
   "execution_count": 431,
   "metadata": {},
   "outputs": [],
   "source": [
    "selected_X_train = X_train[selected_cols]"
   ]
  },
  {
   "cell_type": "code",
   "execution_count": 432,
   "metadata": {},
   "outputs": [],
   "source": [
    "selected_X_validate = X_validate[selected_cols]"
   ]
  },
  {
   "cell_type": "code",
   "execution_count": 433,
   "metadata": {},
   "outputs": [
    {
     "data": {
      "text/html": [
       "<div>\n",
       "<style scoped>\n",
       "    .dataframe tbody tr th:only-of-type {\n",
       "        vertical-align: middle;\n",
       "    }\n",
       "\n",
       "    .dataframe tbody tr th {\n",
       "        vertical-align: top;\n",
       "    }\n",
       "\n",
       "    .dataframe thead th {\n",
       "        text-align: right;\n",
       "    }\n",
       "</style>\n",
       "<table border=\"1\" class=\"dataframe\">\n",
       "  <thead>\n",
       "    <tr style=\"text-align: right;\">\n",
       "      <th></th>\n",
       "      <th>grade</th>\n",
       "      <th>yr_built</th>\n",
       "      <th>sqft_living</th>\n",
       "      <th>sqft_above</th>\n",
       "      <th>waterfront</th>\n",
       "      <th>bedrooms</th>\n",
       "      <th>sqft_basement</th>\n",
       "      <th>view</th>\n",
       "      <th>bathrooms</th>\n",
       "    </tr>\n",
       "  </thead>\n",
       "  <tbody>\n",
       "    <tr>\n",
       "      <th>16768</th>\n",
       "      <td>9</td>\n",
       "      <td>1977</td>\n",
       "      <td>1970</td>\n",
       "      <td>1970</td>\n",
       "      <td>0</td>\n",
       "      <td>3</td>\n",
       "      <td>0</td>\n",
       "      <td>0</td>\n",
       "      <td>2.25</td>\n",
       "    </tr>\n",
       "    <tr>\n",
       "      <th>9596</th>\n",
       "      <td>9</td>\n",
       "      <td>1951</td>\n",
       "      <td>2600</td>\n",
       "      <td>1700</td>\n",
       "      <td>0</td>\n",
       "      <td>3</td>\n",
       "      <td>900</td>\n",
       "      <td>0</td>\n",
       "      <td>2.50</td>\n",
       "    </tr>\n",
       "  </tbody>\n",
       "</table>\n",
       "</div>"
      ],
      "text/plain": [
       "       grade  yr_built  sqft_living  sqft_above  waterfront  bedrooms  \\\n",
       "16768      9      1977         1970        1970           0         3   \n",
       "9596       9      1951         2600        1700           0         3   \n",
       "\n",
       "       sqft_basement  view  bathrooms  \n",
       "16768              0     0       2.25  \n",
       "9596             900     0       2.50  "
      ]
     },
     "execution_count": 433,
     "metadata": {},
     "output_type": "execute_result"
    }
   ],
   "source": [
    "selected_X_train[:2]"
   ]
  },
  {
   "cell_type": "code",
   "execution_count": 434,
   "metadata": {},
   "outputs": [],
   "source": [
    "combined_X_df = pd.concat([selected_X_train, selected_X_validate])"
   ]
  },
  {
   "cell_type": "code",
   "execution_count": 435,
   "metadata": {},
   "outputs": [],
   "source": [
    "y_combined = pd.concat([y_train, y_validate])"
   ]
  },
  {
   "cell_type": "code",
   "execution_count": 436,
   "metadata": {},
   "outputs": [],
   "source": [
    "selected_model = LinearRegression().fit(combined_X_df, y_combined)"
   ]
  },
  {
   "cell_type": "code",
   "execution_count": 437,
   "metadata": {},
   "outputs": [
    {
     "data": {
      "text/plain": [
       "0.6338842028361624"
      ]
     },
     "execution_count": 437,
     "metadata": {},
     "output_type": "execute_result"
    }
   ],
   "source": [
    "selected_model.score(X_test[selected_cols], y_test)"
   ]
  },
  {
   "cell_type": "markdown",
   "metadata": {},
   "source": [
    "Ok, not too bad."
   ]
  },
  {
   "cell_type": "markdown",
   "metadata": {},
   "source": [
    "And if we remove grade we get the following:"
   ]
  },
  {
   "cell_type": "code",
   "execution_count": 438,
   "metadata": {},
   "outputs": [],
   "source": [
    "selected_model = LinearRegression().fit(combined_X_df.iloc[:, 1:], y_combined)"
   ]
  },
  {
   "cell_type": "code",
   "execution_count": 439,
   "metadata": {},
   "outputs": [
    {
     "data": {
      "text/plain": [
       "0.5613837635074814"
      ]
     },
     "execution_count": 439,
     "metadata": {},
     "output_type": "execute_result"
    }
   ],
   "source": [
    "selected_model.score(X_test[selected_cols[1:]], y_test)"
   ]
  },
  {
   "cell_type": "code",
   "execution_count": 448,
   "metadata": {},
   "outputs": [
    {
     "data": {
      "text/plain": [
       "(array([-2.88065107e+03,  1.69713453e+02,  1.13550841e+02,  5.42766415e+05,\n",
       "        -5.42665987e+04,  5.61626121e+01,  6.46936831e+04,  7.78885350e+04]),\n",
       " Index(['yr_built', 'sqft_living', 'sqft_above', 'waterfront', 'bedrooms',\n",
       "        'sqft_basement', 'view', 'bathrooms'],\n",
       "       dtype='object'))"
      ]
     },
     "execution_count": 448,
     "metadata": {},
     "output_type": "execute_result"
    }
   ],
   "source": [
    "selected_model.coef_, X_test[selected_cols].columns[1:]"
   ]
  },
  {
   "cell_type": "markdown",
   "metadata": {},
   "source": [
    "### Summary"
   ]
  },
  {
   "cell_type": "markdown",
   "metadata": {},
   "source": [
    "Take a break!"
   ]
  }
 ],
 "metadata": {
  "kernelspec": {
   "display_name": "Python 3",
   "language": "python",
   "name": "python3"
  },
  "language_info": {
   "codemirror_mode": {
    "name": "ipython",
    "version": 3
   },
   "file_extension": ".py",
   "mimetype": "text/x-python",
   "name": "python",
   "nbconvert_exporter": "python",
   "pygments_lexer": "ipython3",
   "version": "3.7.4"
  }
 },
 "nbformat": 4,
 "nbformat_minor": 4
}
