{
 "cells": [
  {
   "cell_type": "markdown",
   "metadata": {},
   "source": [
    "# A perfect world"
   ]
  },
  {
   "cell_type": "markdown",
   "metadata": {},
   "source": [
    "### Introduction"
   ]
  },
  {
   "cell_type": "markdown",
   "metadata": {},
   "source": [
    "In the last lesson, we discussed the different types of error that we see when we train our machine learning models: irreducible error, variance and bias.  Now the first two of these errors are due to randomness.  In the lessons that follow, we'll explore these errors in turn.  \n",
    "\n",
    "Our technique for exploring errors is to first construct our data in such a way that these errors do not exist.  Doing so will have two benefits:\n",
    "\n",
    "1. The easiest way to appreciate and visualize our different errors is to see what a machine learning model looks like when they do not exist.\n",
    "2. The ability to create artificial datasets is crucial to our ability to explore new techniques and algorithms\n",
    "\n",
    "Let's get going."
   ]
  },
  {
   "cell_type": "markdown",
   "metadata": {},
   "source": [
    "### Imagining a world without error"
   ]
  },
  {
   "cell_type": "markdown",
   "metadata": {},
   "source": [
    "Ok, so in this lesson, we'll create a dataset that our machine learning model can perfectly predict.  Then we'll train our model on this dataset."
   ]
  },
  {
   "cell_type": "markdown",
   "metadata": {},
   "source": [
    "Here's our scenario.\n",
    "\n",
    "Imagine that we are hired by a restaurant to predict the number of customers who enter our restaurant each day.  The restaurant wants to reduce the amount it wastes on purchasing extra food supplies.  It knows that temperature affects the number of customers it sees each day, but it doesn't know by how much.\n",
    "\n",
    "In other words, our model looks like the following:"
   ]
  },
  {
   "cell_type": "markdown",
   "metadata": {},
   "source": [
    "$$ customers = \\theta_1*temperature + \\theta_0 $$"
   ]
  },
  {
   "cell_type": "markdown",
   "metadata": {},
   "source": [
    "> Here we use the variable theta, $\\theta$ to represent the parameter for temperature that we are trying top discover.  Previously, we have used $x_1$ or $m$ for this.  $\\theta_1$ is equivalent to our coefficient parameter and $\\theta_0$ is equivalent to our intercept parameter."
   ]
  },
  {
   "cell_type": "markdown",
   "metadata": {},
   "source": [
    "Now we don't have any data yet from the restaurant -- they haven't yet hired us -- so we need to create a mock dataset ourselves.  Let's first explore how to create a synthetic dataset, and then we'll see what our model from this data looks like."
   ]
  },
  {
   "cell_type": "markdown",
   "metadata": {},
   "source": [
    "#### 1. Creating random numbers"
   ]
  },
  {
   "cell_type": "markdown",
   "metadata": {},
   "source": [
    "We know that our only feature is temperature and our target is the number of customers.  So we can start off by feature variable data -- a list of random temperatures between 30 degrees and 101 degrees."
   ]
  },
  {
   "cell_type": "code",
   "execution_count": 10,
   "metadata": {},
   "outputs": [
    {
     "data": {
      "text/plain": [
       "[38, 62, 45]"
      ]
     },
     "execution_count": 10,
     "metadata": {},
     "output_type": "execute_result"
    }
   ],
   "source": [
    "from random import randint\n",
    "random_temperatures = [randint(30,101) for num in range(0, 50)]\n",
    "random_temperatures[0:3]"
   ]
  },
  {
   "cell_type": "markdown",
   "metadata": {},
   "source": [
    "> Press shift + enter on the cell above multiple times.  \n",
    "\n",
    "Notice that every time the cell is executed, a different set of numbers is generated.  This makes sense, but it can also be problematic.  We don't want this process to generate a list of random numbers that we cannot reproduce.  What if something goes wrong?  We'll need the ability to recreate our data so that we can then carefully explore everything that went wrong.  \n",
    "\n",
    "So we want the ability to generate the same list of random, really pseudo-random numbers, each time.  We do this by *seeding* our random number generator. "
   ]
  },
  {
   "cell_type": "markdown",
   "metadata": {},
   "source": [
    "Let's see how seeding works."
   ]
  },
  {
   "cell_type": "code",
   "execution_count": 9,
   "metadata": {},
   "outputs": [
    {
     "data": {
      "text/plain": [
       "3"
      ]
     },
     "execution_count": 9,
     "metadata": {},
     "output_type": "execute_result"
    }
   ],
   "source": [
    "from random import randint\n",
    "import random\n",
    "random.seed(1)\n",
    "randint(1, 10)"
   ]
  },
  {
   "cell_type": "markdown",
   "metadata": {},
   "source": [
    "Seeding configures our random number generator to generate the same sequence of numbers.  Try re-executing the cell above, notice that the first random number is always 3."
   ]
  },
  {
   "cell_type": "markdown",
   "metadata": {},
   "source": [
    "So now let's use seeding to generate a list of 50 random numbers that will be the same list even if we re-execute the cell."
   ]
  },
  {
   "cell_type": "code",
   "execution_count": 14,
   "metadata": {},
   "outputs": [
    {
     "data": {
      "text/plain": [
       "[47, 38, 62]"
      ]
     },
     "execution_count": 14,
     "metadata": {},
     "output_type": "execute_result"
    }
   ],
   "source": [
    "from random import randint\n",
    "random.seed(1)\n",
    "random_temperatures = [randint(30,101) for num in range(0, 50)]\n",
    "random_temperatures[0:3]"
   ]
  },
  {
   "cell_type": "markdown",
   "metadata": {},
   "source": [
    "So the first three numbers will always be 47, 38, and 62."
   ]
  },
  {
   "cell_type": "markdown",
   "metadata": {},
   "source": [
    "### 2. Generate perfect outcomes"
   ]
  },
  {
   "cell_type": "markdown",
   "metadata": {},
   "source": [
    "Ok, so now that we have generated a list of random temperatures, our inputs, it's time to generate our outcomes.  \n",
    "\n",
    "Remember our goal for now is to construct a perfect dataset, so we want to do this in a way that these outcomes have no randomness in them.  Also remember that our the restaurant believes that the true model follows the following form: "
   ]
  },
  {
   "cell_type": "markdown",
   "metadata": {},
   "source": [
    "$$ customers = \\theta_1*temperature + \\theta_0 $$"
   ]
  },
  {
   "cell_type": "markdown",
   "metadata": {},
   "source": [
    "Let's assume that $\\theta_1 = 3$ and $\\theta_0 = 10$.  We then have the following model:\n",
    "\n",
    "$$ customers = 3*temperature + 10 $$\n",
    "\n",
    "And we should be able to construct a dataset that perfectly matches this model.  Here it is."
   ]
  },
  {
   "cell_type": "code",
   "execution_count": 16,
   "metadata": {},
   "outputs": [
    {
     "data": {
      "text/plain": [
       "[151, 124, 196]"
      ]
     },
     "execution_count": 16,
     "metadata": {},
     "output_type": "execute_result"
    }
   ],
   "source": [
    "perfect_customers = [3*temp + 10 for temp in random_temperatures]\n",
    "perfect_customers[0:3]"
   ]
  },
  {
   "cell_type": "markdown",
   "metadata": {},
   "source": [
    "Ok, so let's plot our data."
   ]
  },
  {
   "cell_type": "code",
   "execution_count": 17,
   "metadata": {},
   "outputs": [
    {
     "data": {
      "text/html": [
       "        <script type=\"text/javascript\">\n",
       "        window.PlotlyConfig = {MathJaxConfig: 'local'};\n",
       "        if (window.MathJax) {MathJax.Hub.Config({SVG: {font: \"STIX-Web\"}});}\n",
       "        if (typeof require !== 'undefined') {\n",
       "        require.undef(\"plotly\");\n",
       "        requirejs.config({\n",
       "            paths: {\n",
       "                'plotly': ['https://cdn.plot.ly/plotly-latest.min']\n",
       "            }\n",
       "        });\n",
       "        require(['plotly'], function(Plotly) {\n",
       "            window._Plotly = Plotly;\n",
       "        });\n",
       "        }\n",
       "        </script>\n",
       "        "
      ]
     },
     "metadata": {},
     "output_type": "display_data"
    },
    {
     "data": {
      "application/vnd.plotly.v1+json": {
       "config": {
        "linkText": "Export to plot.ly",
        "plotlyServerURL": "https://plot.ly",
        "showLink": false
       },
       "data": [
        {
         "mode": "markers",
         "name": "initial data",
         "text": [],
         "type": "scatter",
         "uid": "c8469a34-90b2-47d4-930d-c9270684eee3",
         "x": [
          47,
          38,
          62,
          45,
          93,
          87,
          90,
          78,
          56,
          42,
          92,
          33,
          79,
          85,
          30,
          87,
          64,
          59,
          43,
          70,
          33,
          32,
          33,
          99,
          31,
          78,
          57,
          84,
          33,
          97,
          58,
          86,
          93,
          100,
          59,
          74,
          59,
          58,
          88,
          67,
          32,
          83,
          101,
          42,
          53,
          67,
          45,
          72,
          94,
          84
         ],
         "y": [
          151,
          124,
          196,
          145,
          289,
          271,
          280,
          244,
          178,
          136,
          286,
          109,
          247,
          265,
          100,
          271,
          202,
          187,
          139,
          220,
          109,
          106,
          109,
          307,
          103,
          244,
          181,
          262,
          109,
          301,
          184,
          268,
          289,
          310,
          187,
          232,
          187,
          184,
          274,
          211,
          106,
          259,
          313,
          136,
          169,
          211,
          145,
          226,
          292,
          262
         ]
        }
       ],
       "layout": {
        "autosize": true,
        "xaxis": {
         "autorange": true,
         "range": [
          25.592375136997028,
          105.40762486300298
         ],
         "title": {
          "text": "temperature"
         },
         "type": "linear"
        },
        "yaxis": {
         "autorange": true,
         "range": [
          84.39808917197452,
          328.6019108280255
         ],
         "title": {
          "text": "customers"
         },
         "type": "linear"
        }
       }
      },
      "image/png": "[encoded data removed]",
      "text/html": [
       "<div>\n",
       "        \n",
       "        \n",
       "            <div id=\"f78dde88-6a60-4453-a942-57d10858b446\" class=\"plotly-graph-div\" style=\"height:525px; width:100%;\"></div>\n",
       "            <script type=\"text/javascript\">\n",
       "                require([\"plotly\"], function(Plotly) {\n",
       "                    window.PLOTLYENV=window.PLOTLYENV || {};\n",
       "                    window.PLOTLYENV.BASE_URL='https://plot.ly';\n",
       "                    \n",
       "                if (document.getElementById(\"f78dde88-6a60-4453-a942-57d10858b446\")) {\n",
       "                    Plotly.newPlot(\n",
       "                        'f78dde88-6a60-4453-a942-57d10858b446',\n",
       "                        [{\"mode\": \"markers\", \"name\": \"initial data\", \"text\": [], \"type\": \"scatter\", \"uid\": \"c8469a34-90b2-47d4-930d-c9270684eee3\", \"x\": [47, 38, 62, 45, 93, 87, 90, 78, 56, 42, 92, 33, 79, 85, 30, 87, 64, 59, 43, 70, 33, 32, 33, 99, 31, 78, 57, 84, 33, 97, 58, 86, 93, 100, 59, 74, 59, 58, 88, 67, 32, 83, 101, 42, 53, 67, 45, 72, 94, 84], \"y\": [151, 124, 196, 145, 289, 271, 280, 244, 178, 136, 286, 109, 247, 265, 100, 271, 202, 187, 139, 220, 109, 106, 109, 307, 103, 244, 181, 262, 109, 301, 184, 268, 289, 310, 187, 232, 187, 184, 274, 211, 106, 259, 313, 136, 169, 211, 145, 226, 292, 262]}],\n",
       "                        {\"xaxis\": {\"title\": {\"text\": \"temperature\"}}, \"yaxis\": {\"title\": {\"text\": \"customers\"}}},\n",
       "                        {\"showLink\": false, \"linkText\": \"Export to plot.ly\", \"plotlyServerURL\": \"https://plot.ly\", \"responsive\": true}\n",
       "                    ).then(function(){\n",
       "                            \n",
       "var gd = document.getElementById('f78dde88-6a60-4453-a942-57d10858b446');\n",
       "var x = new MutationObserver(function (mutations, observer) {{\n",
       "        var display = window.getComputedStyle(gd).display;\n",
       "        if (!display || display === 'none') {{\n",
       "            console.log([gd, 'removed!']);\n",
       "            Plotly.purge(gd);\n",
       "            observer.disconnect();\n",
       "        }}\n",
       "}});\n",
       "\n",
       "// Listen for the removal of the full notebook cells\n",
       "var notebookContainer = gd.closest('#notebook-container');\n",
       "if (notebookContainer) {{\n",
       "    x.observe(notebookContainer, {childList: true});\n",
       "}}\n",
       "\n",
       "// Listen for the clearing of the current output cell\n",
       "var outputEl = gd.closest('.output');\n",
       "if (outputEl) {{\n",
       "    x.observe(outputEl, {childList: true});\n",
       "}}\n",
       "\n",
       "                        })\n",
       "                };\n",
       "                });\n",
       "            </script>\n",
       "        </div>"
      ]
     },
     "metadata": {},
     "output_type": "display_data"
    }
   ],
   "source": [
    "from graph import trace_values, plot\n",
    "data_trace = trace_values(random_temperatures, perfect_customers, name = 'initial data')\n",
    "layout = {'yaxis': {'title': 'customers'}, 'xaxis': {'title': 'temperature'}}\n",
    "plot([data_trace], layout = layout)"
   ]
  },
  {
   "cell_type": "markdown",
   "metadata": {},
   "source": [
    "Ok, so our restaurant observed the above beautiful data of temperatures and customers. "
   ]
  },
  {
   "cell_type": "markdown",
   "metadata": {},
   "source": [
    "### 3. Training our linear model"
   ]
  },
  {
   "cell_type": "markdown",
   "metadata": {},
   "source": [
    "Now so far we created a synthetic dataset.  And to create a perfect synthetic dataset, we started off with our true model, and then created our dataset from there.\n",
    "\n",
    "But normally, we do not know the true underlying model.  Instead we use a machine learning algorithm to approximate it.  Let's imagine we did not know that our underlying model was $ customers = 3x + 10$ and see how good our regression model is approximating this underlying model."
   ]
  },
  {
   "cell_type": "markdown",
   "metadata": {},
   "source": [
    "1. Transform dataset into rows"
   ]
  },
  {
   "cell_type": "markdown",
   "metadata": {},
   "source": [
    "SciKit learn takes feature variables in the form of a nested list.  So we wrap each of our temperatures in a list like so:"
   ]
  },
  {
   "cell_type": "code",
   "execution_count": 18,
   "metadata": {},
   "outputs": [],
   "source": [
    "temperature_inputs = [[temperature] for temperature in random_temperatures]"
   ]
  },
  {
   "cell_type": "markdown",
   "metadata": {},
   "source": [
    "This takes our data from here:"
   ]
  },
  {
   "cell_type": "code",
   "execution_count": 19,
   "metadata": {},
   "outputs": [
    {
     "data": {
      "text/plain": [
       "[47, 38, 62]"
      ]
     },
     "execution_count": 19,
     "metadata": {},
     "output_type": "execute_result"
    }
   ],
   "source": [
    "random_temperatures[0:3]"
   ]
  },
  {
   "cell_type": "markdown",
   "metadata": {},
   "source": [
    "To here:"
   ]
  },
  {
   "cell_type": "code",
   "execution_count": 20,
   "metadata": {},
   "outputs": [
    {
     "data": {
      "text/plain": [
       "[[47], [38], [62]]"
      ]
     },
     "execution_count": 20,
     "metadata": {},
     "output_type": "execute_result"
    }
   ],
   "source": [
    "temperature_inputs[0:3]"
   ]
  },
  {
   "cell_type": "markdown",
   "metadata": {},
   "source": [
    "2. Fit the model and view the estimated parameters"
   ]
  },
  {
   "cell_type": "markdown",
   "metadata": {},
   "source": [
    "Next we go through our standard steps of training our linear regression model, to see if the model can detect the underlying pattern in the data."
   ]
  },
  {
   "cell_type": "code",
   "execution_count": 22,
   "metadata": {},
   "outputs": [
    {
     "data": {
      "text/plain": [
       "array([3.])"
      ]
     },
     "execution_count": 22,
     "metadata": {},
     "output_type": "execute_result"
    }
   ],
   "source": [
    "from sklearn.linear_model import LinearRegression\n",
    "perfect_model = LinearRegression()\n",
    "perfect_model.fit(temperature_inputs, perfect_customers)\n",
    "\n",
    "perfect_model.coef_"
   ]
  },
  {
   "cell_type": "code",
   "execution_count": 23,
   "metadata": {},
   "outputs": [
    {
     "data": {
      "text/plain": [
       "10.000000000000028"
      ]
     },
     "execution_count": 23,
     "metadata": {},
     "output_type": "execute_result"
    }
   ],
   "source": [
    "perfect_model.intercept_"
   ]
  },
  {
   "cell_type": "markdown",
   "metadata": {},
   "source": [
    "Hot damn! Our regression model started off not knowing the underlying true model, but by feeding it data, it was able to discover this model.  \n",
    "\n",
    "We can confirm that this model matches the data well, by scoring the model against this data with the root mean squared error."
   ]
  },
  {
   "cell_type": "code",
   "execution_count": 25,
   "metadata": {},
   "outputs": [],
   "source": [
    "from sklearn.metrics import mean_squared_error\n",
    "from math import sqrt"
   ]
  },
  {
   "cell_type": "code",
   "execution_count": 29,
   "metadata": {},
   "outputs": [
    {
     "data": {
      "text/plain": [
       "6.029155041345696e-15"
      ]
     },
     "execution_count": 29,
     "metadata": {},
     "output_type": "execute_result"
    }
   ],
   "source": [
    "sqrt(mean_squared_error(perfect_customers, perfect_model.predict(temperature_inputs)))"
   ]
  },
  {
   "cell_type": "markdown",
   "metadata": {},
   "source": [
    "That number is a very small number.  We can plug it into Google, and calculate that it's $0.0000018$.  So just like we expect, our model predicts quite accurately."
   ]
  },
  {
   "cell_type": "markdown",
   "metadata": {},
   "source": [
    "### 4. Releasing the model"
   ]
  },
  {
   "cell_type": "markdown",
   "metadata": {},
   "source": [
    "Now that this model has been trained on our data, we can try the model on data it has not yet seen.  Because we have a world where the underlying model has $customers =  3*temp + 10 $, and this what our model predicts, our model will predict the new number of customers perfectly."
   ]
  },
  {
   "cell_type": "code",
   "execution_count": 30,
   "metadata": {},
   "outputs": [
    {
     "data": {
      "text/plain": [
       "[94, 54, 68]"
      ]
     },
     "execution_count": 30,
     "metadata": {},
     "output_type": "execute_result"
    }
   ],
   "source": [
    "new_random_temperatures  = [randint(30,101) for num in range(0, 50)]\n",
    "new_perfect_customers = [3*temp + 10 for temp in new_random_temperatures]\n",
    "new_random_temperatures[0:3]"
   ]
  },
  {
   "cell_type": "code",
   "execution_count": 31,
   "metadata": {},
   "outputs": [
    {
     "data": {
      "text/plain": [
       "[[94], [54], [68]]"
      ]
     },
     "execution_count": 31,
     "metadata": {},
     "output_type": "execute_result"
    }
   ],
   "source": [
    "input_new_temperatures = [[temp] for temp in new_random_temperatures]\n",
    "input_new_temperatures[0:3]"
   ]
  },
  {
   "cell_type": "code",
   "execution_count": 33,
   "metadata": {},
   "outputs": [
    {
     "data": {
      "text/plain": [
       "4.4938668397781774e-15"
      ]
     },
     "execution_count": 33,
     "metadata": {},
     "output_type": "execute_result"
    }
   ],
   "source": [
    "new_predictions = perfect_model.predict(input_new_temperatures)\n",
    "sqrt(mean_squared_error(new_perfect_customers, new_predictions))"
   ]
  },
  {
   "cell_type": "markdown",
   "metadata": {},
   "source": [
    "So our model predicts our future data with almost no error as well."
   ]
  },
  {
   "cell_type": "code",
   "execution_count": 37,
   "metadata": {},
   "outputs": [
    {
     "data": {
      "application/vnd.plotly.v1+json": {
       "config": {
        "linkText": "Export to plot.ly",
        "plotlyServerURL": "https://plot.ly",
        "showLink": false
       },
       "data": [
        {
         "mode": "markers",
         "name": "new data",
         "text": [],
         "type": "scatter",
         "uid": "00472598-28d0-481d-bddb-423dd22eb3b2",
         "x": [
          94,
          54,
          68,
          66,
          93,
          94,
          80,
          34,
          91,
          61,
          81,
          83,
          52,
          76,
          100,
          77,
          41,
          86,
          95,
          43,
          50,
          96,
          80,
          77,
          92,
          33,
          90,
          35,
          69,
          80,
          51,
          51,
          94,
          59,
          31,
          55,
          99,
          100,
          59,
          81,
          95,
          74,
          75,
          88,
          64,
          100,
          30,
          79,
          95,
          46
         ],
         "y": [
          292,
          172,
          214,
          208,
          289,
          292,
          250,
          112,
          283,
          193,
          253,
          259,
          166,
          238,
          310,
          241,
          133,
          268,
          295,
          139,
          160,
          298,
          250,
          241,
          286,
          109,
          280,
          115,
          217,
          250,
          163,
          163,
          292,
          187,
          103,
          175,
          307,
          310,
          187,
          253,
          295,
          232,
          235,
          274,
          202,
          310,
          100,
          247,
          295,
          148
         ]
        },
        {
         "mode": "lines",
         "name": "trained model",
         "text": [],
         "type": "scatter",
         "uid": "e5a81e33-8948-4e68-b8bd-750467a1f6c3",
         "x": [
          94,
          54,
          68,
          66,
          93,
          94,
          80,
          34,
          91,
          61,
          81,
          83,
          52,
          76,
          100,
          77,
          41,
          86,
          95,
          43,
          50,
          96,
          80,
          77,
          92,
          33,
          90,
          35,
          69,
          80,
          51,
          51,
          94,
          59,
          31,
          55,
          99,
          100,
          59,
          81,
          95,
          74,
          75,
          88,
          64,
          100,
          30,
          79,
          95,
          46
         ],
         "y": [
          292,
          172,
          214,
          208,
          289,
          292,
          250,
          112.00000000000001,
          283,
          193,
          253,
          259,
          166,
          238,
          310,
          241,
          133,
          268,
          295,
          139,
          160,
          298,
          250,
          241,
          286,
          109.00000000000001,
          280,
          115.00000000000001,
          217,
          250,
          163,
          163,
          292,
          187,
          103.00000000000001,
          175,
          307,
          310,
          187,
          253,
          295,
          232,
          235,
          274,
          202,
          310,
          100.00000000000001,
          247,
          295,
          148
         ]
        }
       ],
       "layout": {
        "autosize": true,
        "xaxis": {
         "autorange": true,
         "range": [
          25.60527228581339,
          104.39472771418662
         ],
         "title": {
          "text": "temperature"
         },
         "type": "linear"
        },
        "yaxis": {
         "autorange": true,
         "range": [
          84.61783439490446,
          325.38216560509557
         ],
         "title": {
          "text": "customers"
         },
         "type": "linear"
        }
       }
      },
      "image/png": "[encoded data removed]",
      "text/html": [
       "<div>\n",
       "        \n",
       "        \n",
       "            <div id=\"011c306c-9b4a-4917-87b2-a71072a21fd6\" class=\"plotly-graph-div\" style=\"height:525px; width:100%;\"></div>\n",
       "            <script type=\"text/javascript\">\n",
       "                require([\"plotly\"], function(Plotly) {\n",
       "                    window.PLOTLYENV=window.PLOTLYENV || {};\n",
       "                    window.PLOTLYENV.BASE_URL='https://plot.ly';\n",
       "                    \n",
       "                if (document.getElementById(\"011c306c-9b4a-4917-87b2-a71072a21fd6\")) {\n",
       "                    Plotly.newPlot(\n",
       "                        '011c306c-9b4a-4917-87b2-a71072a21fd6',\n",
       "                        [{\"mode\": \"markers\", \"name\": \"new data\", \"text\": [], \"type\": \"scatter\", \"uid\": \"00472598-28d0-481d-bddb-423dd22eb3b2\", \"x\": [94, 54, 68, 66, 93, 94, 80, 34, 91, 61, 81, 83, 52, 76, 100, 77, 41, 86, 95, 43, 50, 96, 80, 77, 92, 33, 90, 35, 69, 80, 51, 51, 94, 59, 31, 55, 99, 100, 59, 81, 95, 74, 75, 88, 64, 100, 30, 79, 95, 46], \"y\": [292, 172, 214, 208, 289, 292, 250, 112, 283, 193, 253, 259, 166, 238, 310, 241, 133, 268, 295, 139, 160, 298, 250, 241, 286, 109, 280, 115, 217, 250, 163, 163, 292, 187, 103, 175, 307, 310, 187, 253, 295, 232, 235, 274, 202, 310, 100, 247, 295, 148]}, {\"mode\": \"lines\", \"name\": \"trained model\", \"text\": [], \"type\": \"scatter\", \"uid\": \"e5a81e33-8948-4e68-b8bd-750467a1f6c3\", \"x\": [94, 54, 68, 66, 93, 94, 80, 34, 91, 61, 81, 83, 52, 76, 100, 77, 41, 86, 95, 43, 50, 96, 80, 77, 92, 33, 90, 35, 69, 80, 51, 51, 94, 59, 31, 55, 99, 100, 59, 81, 95, 74, 75, 88, 64, 100, 30, 79, 95, 46], \"y\": [292.0, 172.0, 214.0, 208.0, 289.0, 292.0, 250.0, 112.00000000000001, 283.0, 193.0, 253.0, 259.0, 166.0, 238.0, 310.0, 241.0, 133.0, 268.0, 295.0, 139.0, 160.0, 298.0, 250.0, 241.0, 286.0, 109.00000000000001, 280.0, 115.00000000000001, 217.0, 250.0, 163.0, 163.0, 292.0, 187.0, 103.00000000000001, 175.0, 307.0, 310.0, 187.0, 253.0, 295.0, 232.0, 235.0, 274.0, 202.0, 310.0, 100.00000000000001, 247.0, 295.0, 148.0]}],\n",
       "                        {\"xaxis\": {\"title\": {\"text\": \"temperature\"}}, \"yaxis\": {\"title\": {\"text\": \"customers\"}}},\n",
       "                        {\"showLink\": false, \"linkText\": \"Export to plot.ly\", \"plotlyServerURL\": \"https://plot.ly\", \"responsive\": true}\n",
       "                    ).then(function(){\n",
       "                            \n",
       "var gd = document.getElementById('011c306c-9b4a-4917-87b2-a71072a21fd6');\n",
       "var x = new MutationObserver(function (mutations, observer) {{\n",
       "        var display = window.getComputedStyle(gd).display;\n",
       "        if (!display || display === 'none') {{\n",
       "            console.log([gd, 'removed!']);\n",
       "            Plotly.purge(gd);\n",
       "            observer.disconnect();\n",
       "        }}\n",
       "}});\n",
       "\n",
       "// Listen for the removal of the full notebook cells\n",
       "var notebookContainer = gd.closest('#notebook-container');\n",
       "if (notebookContainer) {{\n",
       "    x.observe(notebookContainer, {childList: true});\n",
       "}}\n",
       "\n",
       "// Listen for the clearing of the current output cell\n",
       "var outputEl = gd.closest('.output');\n",
       "if (outputEl) {{\n",
       "    x.observe(outputEl, {childList: true});\n",
       "}}\n",
       "\n",
       "                        })\n",
       "                };\n",
       "                });\n",
       "            </script>\n",
       "        </div>"
      ]
     },
     "metadata": {},
     "output_type": "display_data"
    }
   ],
   "source": [
    "from graph import trace_values, plot\n",
    "model_trace = trace_values(new_random_temperatures, new_predictions, name = 'trained model', mode = 'lines')\n",
    "new_data_trace = trace_values(new_random_temperatures, new_perfect_customers, name = 'new data')\n",
    "plot([new_data_trace, model_trace], layout = layout)"
   ]
  },
  {
   "cell_type": "markdown",
   "metadata": {},
   "source": [
    "### Summary"
   ]
  },
  {
   "cell_type": "markdown",
   "metadata": {},
   "source": [
    "In this lesson, we saw a couple things.\n",
    "\n",
    "First, we saw how to generate a dataset.  To do this, we first created a list of random inputs, our temperatures.  Then we created the corresponding outputs by simply creating outputs that were a function of our inputs.\n",
    "\n",
    "The second thing we saw was what occurs when we train our model on a dataset that perfectly follows a linear equation.  What happens is our model can perfectly discover the underlying model.  We saw this when we trained our model on our dataset.  It perfectly discovered the parameters underlying the data,  $customers = 3*temperature + 10$.  We also saw that saw that our model also predicted data it had not previously seen, so long as the outputs also followed the underlying formula.\n",
    "\n",
    "We'll use this perfect scenario by way of comparison to see what occurs when we do not have perfect data."
   ]
  }
 ],
 "metadata": {
  "kernelspec": {
   "display_name": "Python 3",
   "language": "python",
   "name": "python3"
  },
  "language_info": {
   "codemirror_mode": {
    "name": "ipython",
    "version": 3
   },
   "file_extension": ".py",
   "mimetype": "text/x-python",
   "name": "python",
   "nbconvert_exporter": "python",
   "pygments_lexer": "ipython3",
   "version": "3.7.3"
  }
 },
 "nbformat": 4,
 "nbformat_minor": 2
}
