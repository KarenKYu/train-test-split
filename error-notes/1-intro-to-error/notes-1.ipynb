{
 "cells": [
  {
   "cell_type": "markdown",
   "metadata": {},
   "source": [
    "# What could go wrong"
   ]
  },
  {
   "cell_type": "markdown",
   "metadata": {},
   "source": [
    "### Introduction"
   ]
  },
  {
   "cell_type": "markdown",
   "metadata": {},
   "source": [
    "As data scientists, we too, can call ourselves a creator.  We do research on data that we have gathered, train our machine learning model to find the parameters that best predict our data.  Then we release our model into production to have that model make predictions on real data that has never before been seen.  \n",
    "\n",
    "And just like other creators, we find that things can go wrong once we release our creation into production.  If we're not careful, we'll see that the accurate predictions we made on our training data doesn't occur in production.  \n",
    "\n",
    "In this section we'll explore some of the things that can go wrong."
   ]
  },
  {
   "cell_type": "markdown",
   "metadata": {},
   "source": [
    "### Let us count the ways"
   ]
  },
  {
   "cell_type": "markdown",
   "metadata": {},
   "source": [
    "When we develop a machine learning model, we use our model to predict future outcomes.  But we don't expect our model to be perfect.  As we know, the difference between what our model predicts and what we observe is our error.  As we'll see in this section, the error that we see in our model can come from three different sources: randomness, bias, and variance."
   ]
  },
  {
   "cell_type": "markdown",
   "metadata": {},
   "source": [
    "### Imagining a world without error"
   ]
  },
  {
   "cell_type": "markdown",
   "metadata": {},
   "source": [
    "In the real world, we'll never encounter a machine learning model that perfectly predicts the outcomes of data.  \n",
    "\n",
    "* But here, in this lesson, *we can create a dataset that our machine learning model can perfectly predict*.  Let's see how."
   ]
  },
  {
   "cell_type": "markdown",
   "metadata": {},
   "source": [
    "We'll return to our scenario of using temperatures to predict customers.  "
   ]
  },
  {
   "cell_type": "markdown",
   "metadata": {},
   "source": [
    "#### 1. Creating random numbers"
   ]
  },
  {
   "cell_type": "markdown",
   "metadata": {},
   "source": [
    "Let's start by creating some random temperatures."
   ]
  },
  {
   "cell_type": "code",
   "execution_count": 1,
   "metadata": {},
   "outputs": [
    {
     "data": {
      "text/plain": [
       "[57, 54, 78]"
      ]
     },
     "execution_count": 1,
     "metadata": {},
     "output_type": "execute_result"
    }
   ],
   "source": [
    "from random import randint\n",
    "random_temperatures = list(map(lambda num: randint(30,101), range(0, 50)))\n",
    "random_temperatures[0:3]"
   ]
  },
  {
   "cell_type": "markdown",
   "metadata": {},
   "source": [
    "Press shift + enter on the cell above multiple times.  Notice that every time the cell is executed, a different set of numbers is generated.  This makes sense, but it can also be problematic.  We don't want this process to generate a list of random numbers that perhaps results in a difficult to understand scenario, that no one else has.  So we can ensure that the same list of random numbers are generated each time, by *seeding* our random number generator. "
   ]
  },
  {
   "cell_type": "markdown",
   "metadata": {},
   "source": [
    "Let's see how seeding works."
   ]
  },
  {
   "cell_type": "code",
   "execution_count": 3,
   "metadata": {},
   "outputs": [
    {
     "data": {
      "text/plain": [
       "3"
      ]
     },
     "execution_count": 3,
     "metadata": {},
     "output_type": "execute_result"
    }
   ],
   "source": [
    "from random import randint\n",
    "import random\n",
    "random.seed(1)\n",
    "randint(1, 10)"
   ]
  },
  {
   "cell_type": "markdown",
   "metadata": {},
   "source": [
    "Seeding configures our random number generator to generate the same sequence of numbers.  Try re-executing the cell above, notice that the first random number is always 3."
   ]
  },
  {
   "cell_type": "markdown",
   "metadata": {},
   "source": [
    "So now let's use seeding to generate a list of 50 random numbers that will be the same list even if we re-execute the cell."
   ]
  },
  {
   "cell_type": "code",
   "execution_count": 4,
   "metadata": {},
   "outputs": [
    {
     "data": {
      "text/plain": [
       "[47, 38, 62]"
      ]
     },
     "execution_count": 4,
     "metadata": {},
     "output_type": "execute_result"
    }
   ],
   "source": [
    "from random import randint\n",
    "random.seed(1)\n",
    "random_temperatures = list(map(lambda num: randint(30,101), range(0, 50)))\n",
    "random_temperatures[0:3]"
   ]
  },
  {
   "cell_type": "markdown",
   "metadata": {},
   "source": [
    "So the first three numbers will always be 47, 38, and 62."
   ]
  },
  {
   "cell_type": "markdown",
   "metadata": {},
   "source": [
    "### 2. Generate some outcomes and model"
   ]
  },
  {
   "cell_type": "markdown",
   "metadata": {},
   "source": [
    "Ok, so now let's imagine that our restaurant sees the following list of customers related to the data generated above."
   ]
  },
  {
   "cell_type": "code",
   "execution_count": 5,
   "metadata": {},
   "outputs": [],
   "source": [
    "perfect_customers = list(map(lambda temp: 3*temp + 10, random_temperatures))"
   ]
  },
  {
   "cell_type": "markdown",
   "metadata": {},
   "source": [
    "We created our data according to the formula $y = 3*temperature + 10$.  Let's call this our **true model**.  In other words, this is the real process that generates this data.  And as we know, the goal of machine learning is to take a look at the data, and try to discover the true underlying model."
   ]
  },
  {
   "cell_type": "markdown",
   "metadata": {},
   "source": [
    "Ok, so let's plot our data."
   ]
  },
  {
   "cell_type": "code",
   "execution_count": 7,
   "metadata": {},
   "outputs": [
    {
     "data": {
      "application/vnd.plotly.v1+json": {
       "config": {
        "linkText": "Export to plot.ly",
        "plotlyServerURL": "https://plot.ly",
        "showLink": false
       },
       "data": [
        {
         "mode": "markers",
         "name": "initial data",
         "text": [],
         "type": "scatter",
         "uid": "56d0a12e-8392-49d5-8380-914d1afb424b",
         "x": [
          47,
          38,
          62,
          45,
          93,
          87,
          90,
          78,
          56,
          42,
          92,
          33,
          79,
          85,
          30,
          87,
          64,
          59,
          43,
          70,
          33,
          32,
          33,
          99,
          31,
          78,
          57,
          84,
          33,
          97,
          58,
          86,
          93,
          100,
          59,
          74,
          59,
          58,
          88,
          67,
          32,
          83,
          101,
          42,
          53,
          67,
          45,
          72,
          94,
          84
         ],
         "y": [
          151,
          124,
          196,
          145,
          289,
          271,
          280,
          244,
          178,
          136,
          286,
          109,
          247,
          265,
          100,
          271,
          202,
          187,
          139,
          220,
          109,
          106,
          109,
          307,
          103,
          244,
          181,
          262,
          109,
          301,
          184,
          268,
          289,
          310,
          187,
          232,
          187,
          184,
          274,
          211,
          106,
          259,
          313,
          136,
          169,
          211,
          145,
          226,
          292,
          262
         ]
        }
       ],
       "layout": {
        "autosize": true,
        "xaxis": {
         "autorange": true,
         "range": [
          25.58776091081594,
          105.41223908918406
         ],
         "title": {
          "text": "temperature"
         },
         "type": "linear"
        },
        "yaxis": {
         "autorange": true,
         "range": [
          84.39808917197452,
          328.6019108280255
         ],
         "title": {
          "text": "customers"
         },
         "type": "linear"
        }
       }
      },
      "image/png": "[encoded data removed]",
      "text/html": [
       "<div id=\"23ec6c31-0c87-4d97-9847-7448bbb2bcc3\" style=\"height: 525px; width: 100%;\" class=\"plotly-graph-div\"></div><script type=\"text/javascript\">require([\"plotly\"], function(Plotly) { window.PLOTLYENV=window.PLOTLYENV || {};window.PLOTLYENV.BASE_URL=\"https://plot.ly\";Plotly.newPlot(\"23ec6c31-0c87-4d97-9847-7448bbb2bcc3\", [{\"mode\": \"markers\", \"name\": \"initial data\", \"text\": [], \"x\": [47, 38, 62, 45, 93, 87, 90, 78, 56, 42, 92, 33, 79, 85, 30, 87, 64, 59, 43, 70, 33, 32, 33, 99, 31, 78, 57, 84, 33, 97, 58, 86, 93, 100, 59, 74, 59, 58, 88, 67, 32, 83, 101, 42, 53, 67, 45, 72, 94, 84], \"y\": [151, 124, 196, 145, 289, 271, 280, 244, 178, 136, 286, 109, 247, 265, 100, 271, 202, 187, 139, 220, 109, 106, 109, 307, 103, 244, 181, 262, 109, 301, 184, 268, 289, 310, 187, 232, 187, 184, 274, 211, 106, 259, 313, 136, 169, 211, 145, 226, 292, 262], \"type\": \"scatter\", \"uid\": \"d45bb361-1963-4037-b560-1854821e20a9\"}], {\"xaxis\": {\"title\": {\"text\": \"temperature\"}}, \"yaxis\": {\"title\": {\"text\": \"customers\"}}}, {\"showLink\": false, \"linkText\": \"Export to plot.ly\", \"plotlyServerURL\": \"https://plot.ly\"})});</script><script type=\"text/javascript\">window.addEventListener(\"resize\", function(){window._Plotly.Plots.resize(document.getElementById(\"23ec6c31-0c87-4d97-9847-7448bbb2bcc3\"));});</script>"
      ],
      "text/vnd.plotly.v1+html": [
       "<div id=\"23ec6c31-0c87-4d97-9847-7448bbb2bcc3\" style=\"height: 525px; width: 100%;\" class=\"plotly-graph-div\"></div><script type=\"text/javascript\">require([\"plotly\"], function(Plotly) { window.PLOTLYENV=window.PLOTLYENV || {};window.PLOTLYENV.BASE_URL=\"https://plot.ly\";Plotly.newPlot(\"23ec6c31-0c87-4d97-9847-7448bbb2bcc3\", [{\"mode\": \"markers\", \"name\": \"initial data\", \"text\": [], \"x\": [47, 38, 62, 45, 93, 87, 90, 78, 56, 42, 92, 33, 79, 85, 30, 87, 64, 59, 43, 70, 33, 32, 33, 99, 31, 78, 57, 84, 33, 97, 58, 86, 93, 100, 59, 74, 59, 58, 88, 67, 32, 83, 101, 42, 53, 67, 45, 72, 94, 84], \"y\": [151, 124, 196, 145, 289, 271, 280, 244, 178, 136, 286, 109, 247, 265, 100, 271, 202, 187, 139, 220, 109, 106, 109, 307, 103, 244, 181, 262, 109, 301, 184, 268, 289, 310, 187, 232, 187, 184, 274, 211, 106, 259, 313, 136, 169, 211, 145, 226, 292, 262], \"type\": \"scatter\", \"uid\": \"d45bb361-1963-4037-b560-1854821e20a9\"}], {\"xaxis\": {\"title\": {\"text\": \"temperature\"}}, \"yaxis\": {\"title\": {\"text\": \"customers\"}}}, {\"showLink\": false, \"linkText\": \"Export to plot.ly\", \"plotlyServerURL\": \"https://plot.ly\"})});</script><script type=\"text/javascript\">window.addEventListener(\"resize\", function(){window._Plotly.Plots.resize(document.getElementById(\"23ec6c31-0c87-4d97-9847-7448bbb2bcc3\"));});</script>"
      ]
     },
     "metadata": {},
     "output_type": "display_data"
    }
   ],
   "source": [
    "from graph import trace_values, plot\n",
    "data_trace = trace_values(random_temperatures, perfect_customers, name = 'initial data')\n",
    "layout = {'yaxis': {'title': 'customers'}, 'xaxis': {'title': 'temperature'}}\n",
    "plot([data_trace], layout = layout)"
   ]
  },
  {
   "cell_type": "markdown",
   "metadata": {},
   "source": [
    "Ok, so our restaurant observed the above beautiful data of temperatures and customers.  And what we feed our linear regression model to is this data, and hope that it can discover the formula underneath it all."
   ]
  },
  {
   "cell_type": "code",
   "execution_count": 8,
   "metadata": {},
   "outputs": [],
   "source": [
    "temperature_inputs = list(map(lambda temperature: [temperature], random_temperatures))"
   ]
  },
  {
   "cell_type": "code",
   "execution_count": 9,
   "metadata": {},
   "outputs": [
    {
     "data": {
      "text/plain": [
       "LinearRegression(copy_X=True, fit_intercept=True, n_jobs=1, normalize=False)"
      ]
     },
     "execution_count": 9,
     "metadata": {},
     "output_type": "execute_result"
    }
   ],
   "source": [
    "from sklearn.linear_model import LinearRegression\n",
    "perfect_model = LinearRegression()\n",
    "perfect_model.fit(temperature_inputs, perfect_customers)"
   ]
  },
  {
   "cell_type": "code",
   "execution_count": 10,
   "metadata": {},
   "outputs": [
    {
     "data": {
      "text/plain": [
       "array([3.])"
      ]
     },
     "execution_count": 10,
     "metadata": {},
     "output_type": "execute_result"
    }
   ],
   "source": [
    "perfect_model.coef_"
   ]
  },
  {
   "cell_type": "code",
   "execution_count": 11,
   "metadata": {},
   "outputs": [
    {
     "data": {
      "text/plain": [
       "10.000000000000028"
      ]
     },
     "execution_count": 11,
     "metadata": {},
     "output_type": "execute_result"
    }
   ],
   "source": [
    "perfect_model.intercept_"
   ]
  },
  {
   "cell_type": "markdown",
   "metadata": {},
   "source": [
    "Hot damn! Our regression model started off not knowing the underlying true model, but by feeding it data, it was able to discover this model.  We can confirm that this model matches the data well, by scoring the model against this data."
   ]
  },
  {
   "cell_type": "code",
   "execution_count": 12,
   "metadata": {},
   "outputs": [
    {
     "data": {
      "text/plain": [
       "1.0"
      ]
     },
     "execution_count": 12,
     "metadata": {},
     "output_type": "execute_result"
    }
   ],
   "source": [
    "perfect_model.score(temperature_inputs, perfect_customers)"
   ]
  },
  {
   "cell_type": "markdown",
   "metadata": {},
   "source": [
    "After training this model on the already seen data, we can place it into production to predict future amounts of customers. Because we live in make believe world  where $customers =  3*temp + 10 $, our model will predict the new number of customers perfectly as well."
   ]
  },
  {
   "cell_type": "code",
   "execution_count": 13,
   "metadata": {},
   "outputs": [
    {
     "data": {
      "text/plain": [
       "[94, 54, 68]"
      ]
     },
     "execution_count": 13,
     "metadata": {},
     "output_type": "execute_result"
    }
   ],
   "source": [
    "new_random_temperatures = list(map(lambda num: randint(30,101), range(0, 50)))\n",
    "new_perfect_customers = list(map(lambda temp: 3*temp + 10, new_random_temperatures))\n",
    "new_random_temperatures[0:3]"
   ]
  },
  {
   "cell_type": "code",
   "execution_count": 14,
   "metadata": {},
   "outputs": [
    {
     "data": {
      "text/plain": [
       "[[94], [54], [68]]"
      ]
     },
     "execution_count": 14,
     "metadata": {},
     "output_type": "execute_result"
    }
   ],
   "source": [
    "input_new_temperatures = list(map(lambda temp: [temp], new_random_temperatures))\n",
    "input_new_temperatures[0:3]"
   ]
  },
  {
   "cell_type": "code",
   "execution_count": 15,
   "metadata": {},
   "outputs": [
    {
     "data": {
      "application/vnd.plotly.v1+json": {
       "config": {
        "linkText": "Export to plot.ly",
        "plotlyServerURL": "https://plot.ly",
        "showLink": false
       },
       "data": [
        {
         "mode": "markers",
         "name": "initial data",
         "text": [],
         "type": "scatter",
         "uid": "3e40ad58-17cd-45be-9c8f-9327970de826",
         "x": [
          47,
          38,
          62,
          45,
          93,
          87,
          90,
          78,
          56,
          42,
          92,
          33,
          79,
          85,
          30,
          87,
          64,
          59,
          43,
          70,
          33,
          32,
          33,
          99,
          31,
          78,
          57,
          84,
          33,
          97,
          58,
          86,
          93,
          100,
          59,
          74,
          59,
          58,
          88,
          67,
          32,
          83,
          101,
          42,
          53,
          67,
          45,
          72,
          94,
          84
         ],
         "y": [
          151,
          124,
          196,
          145,
          289,
          271,
          280,
          244,
          178,
          136,
          286,
          109,
          247,
          265,
          100,
          271,
          202,
          187,
          139,
          220,
          109,
          106,
          109,
          307,
          103,
          244,
          181,
          262,
          109,
          301,
          184,
          268,
          289,
          310,
          187,
          232,
          187,
          184,
          274,
          211,
          106,
          259,
          313,
          136,
          169,
          211,
          145,
          226,
          292,
          262
         ]
        },
        {
         "mode": "markers",
         "name": "new",
         "text": [],
         "type": "scatter",
         "uid": "00a30973-f500-49fb-916f-7c20b8c68c7b",
         "x": [
          94,
          54,
          68,
          66,
          93,
          94,
          80,
          34,
          91,
          61,
          81,
          83,
          52,
          76,
          100,
          77,
          41,
          86,
          95,
          43,
          50,
          96,
          80,
          77,
          92,
          33,
          90,
          35,
          69,
          80,
          51,
          51,
          94,
          59,
          31,
          55,
          99,
          100,
          59,
          81,
          95,
          74,
          75,
          88,
          64,
          100,
          30,
          79,
          95,
          46
         ],
         "y": [
          292,
          172,
          214,
          208,
          289,
          292,
          250,
          112,
          283,
          193,
          253,
          259,
          166,
          238,
          310,
          241,
          133,
          268,
          295,
          139,
          160,
          298,
          250,
          241,
          286,
          109,
          280,
          115,
          217,
          250,
          163,
          163,
          292,
          187,
          103,
          175,
          307,
          310,
          187,
          253,
          295,
          232,
          235,
          274,
          202,
          310,
          100,
          247,
          295,
          148
         ]
        }
       ],
       "layout": {
        "autosize": true,
        "xaxis": {
         "autorange": true,
         "range": [
          25.5526942036376,
          105.4473057963624
         ],
         "title": {
          "text": "temperature"
         },
         "type": "linear"
        },
        "yaxis": {
         "autorange": true,
         "range": [
          84.39808917197452,
          328.6019108280255
         ],
         "title": {
          "text": "customers"
         },
         "type": "linear"
        }
       }
      },
      "image/png": "[encoded data removed]",
      "text/html": [
       "<div id=\"91af71dd-6398-46ba-a051-3b8f9922be4a\" style=\"height: 525px; width: 100%;\" class=\"plotly-graph-div\"></div><script type=\"text/javascript\">require([\"plotly\"], function(Plotly) { window.PLOTLYENV=window.PLOTLYENV || {};window.PLOTLYENV.BASE_URL=\"https://plot.ly\";Plotly.newPlot(\"91af71dd-6398-46ba-a051-3b8f9922be4a\", [{\"mode\": \"markers\", \"name\": \"initial data\", \"text\": [], \"x\": [47, 38, 62, 45, 93, 87, 90, 78, 56, 42, 92, 33, 79, 85, 30, 87, 64, 59, 43, 70, 33, 32, 33, 99, 31, 78, 57, 84, 33, 97, 58, 86, 93, 100, 59, 74, 59, 58, 88, 67, 32, 83, 101, 42, 53, 67, 45, 72, 94, 84], \"y\": [151, 124, 196, 145, 289, 271, 280, 244, 178, 136, 286, 109, 247, 265, 100, 271, 202, 187, 139, 220, 109, 106, 109, 307, 103, 244, 181, 262, 109, 301, 184, 268, 289, 310, 187, 232, 187, 184, 274, 211, 106, 259, 313, 136, 169, 211, 145, 226, 292, 262], \"type\": \"scatter\", \"uid\": \"d6e21ea0-3fc4-4075-bb04-52f15130f013\"}, {\"mode\": \"markers\", \"name\": \"new\", \"text\": [], \"x\": [94, 54, 68, 66, 93, 94, 80, 34, 91, 61, 81, 83, 52, 76, 100, 77, 41, 86, 95, 43, 50, 96, 80, 77, 92, 33, 90, 35, 69, 80, 51, 51, 94, 59, 31, 55, 99, 100, 59, 81, 95, 74, 75, 88, 64, 100, 30, 79, 95, 46], \"y\": [292, 172, 214, 208, 289, 292, 250, 112, 283, 193, 253, 259, 166, 238, 310, 241, 133, 268, 295, 139, 160, 298, 250, 241, 286, 109, 280, 115, 217, 250, 163, 163, 292, 187, 103, 175, 307, 310, 187, 253, 295, 232, 235, 274, 202, 310, 100, 247, 295, 148], \"type\": \"scatter\", \"uid\": \"d87beac6-158a-4005-a7f5-9a993c5c0bc5\"}], {\"xaxis\": {\"title\": {\"text\": \"temperature\"}}, \"yaxis\": {\"title\": {\"text\": \"customers\"}}}, {\"showLink\": false, \"linkText\": \"Export to plot.ly\", \"plotlyServerURL\": \"https://plot.ly\"})});</script><script type=\"text/javascript\">window.addEventListener(\"resize\", function(){window._Plotly.Plots.resize(document.getElementById(\"91af71dd-6398-46ba-a051-3b8f9922be4a\"));});</script>"
      ],
      "text/vnd.plotly.v1+html": [
       "<div id=\"91af71dd-6398-46ba-a051-3b8f9922be4a\" style=\"height: 525px; width: 100%;\" class=\"plotly-graph-div\"></div><script type=\"text/javascript\">require([\"plotly\"], function(Plotly) { window.PLOTLYENV=window.PLOTLYENV || {};window.PLOTLYENV.BASE_URL=\"https://plot.ly\";Plotly.newPlot(\"91af71dd-6398-46ba-a051-3b8f9922be4a\", [{\"mode\": \"markers\", \"name\": \"initial data\", \"text\": [], \"x\": [47, 38, 62, 45, 93, 87, 90, 78, 56, 42, 92, 33, 79, 85, 30, 87, 64, 59, 43, 70, 33, 32, 33, 99, 31, 78, 57, 84, 33, 97, 58, 86, 93, 100, 59, 74, 59, 58, 88, 67, 32, 83, 101, 42, 53, 67, 45, 72, 94, 84], \"y\": [151, 124, 196, 145, 289, 271, 280, 244, 178, 136, 286, 109, 247, 265, 100, 271, 202, 187, 139, 220, 109, 106, 109, 307, 103, 244, 181, 262, 109, 301, 184, 268, 289, 310, 187, 232, 187, 184, 274, 211, 106, 259, 313, 136, 169, 211, 145, 226, 292, 262], \"type\": \"scatter\", \"uid\": \"d6e21ea0-3fc4-4075-bb04-52f15130f013\"}, {\"mode\": \"markers\", \"name\": \"new\", \"text\": [], \"x\": [94, 54, 68, 66, 93, 94, 80, 34, 91, 61, 81, 83, 52, 76, 100, 77, 41, 86, 95, 43, 50, 96, 80, 77, 92, 33, 90, 35, 69, 80, 51, 51, 94, 59, 31, 55, 99, 100, 59, 81, 95, 74, 75, 88, 64, 100, 30, 79, 95, 46], \"y\": [292, 172, 214, 208, 289, 292, 250, 112, 283, 193, 253, 259, 166, 238, 310, 241, 133, 268, 295, 139, 160, 298, 250, 241, 286, 109, 280, 115, 217, 250, 163, 163, 292, 187, 103, 175, 307, 310, 187, 253, 295, 232, 235, 274, 202, 310, 100, 247, 295, 148], \"type\": \"scatter\", \"uid\": \"d87beac6-158a-4005-a7f5-9a993c5c0bc5\"}], {\"xaxis\": {\"title\": {\"text\": \"temperature\"}}, \"yaxis\": {\"title\": {\"text\": \"customers\"}}}, {\"showLink\": false, \"linkText\": \"Export to plot.ly\", \"plotlyServerURL\": \"https://plot.ly\"})});</script><script type=\"text/javascript\">window.addEventListener(\"resize\", function(){window._Plotly.Plots.resize(document.getElementById(\"91af71dd-6398-46ba-a051-3b8f9922be4a\"));});</script>"
      ]
     },
     "metadata": {},
     "output_type": "display_data"
    }
   ],
   "source": [
    "from graph import trace_values, plot\n",
    "new_data_trace = trace_values(new_random_temperatures, new_perfect_customers, name = 'new')\n",
    "plot([data_trace, new_data_trace], layout = layout)"
   ]
  },
  {
   "cell_type": "code",
   "execution_count": 16,
   "metadata": {},
   "outputs": [
    {
     "data": {
      "text/plain": [
       "1.0"
      ]
     },
     "execution_count": 16,
     "metadata": {},
     "output_type": "execute_result"
    }
   ],
   "source": [
    "perfect_model.score(input_new_temperatures, new_perfect_customers)"
   ]
  },
  {
   "cell_type": "markdown",
   "metadata": {},
   "source": [
    "### Summary"
   ]
  },
  {
   "cell_type": "markdown",
   "metadata": {},
   "source": [
    "In this lesson, we saw how to generate a dataset that perfectly matches an underlying linear model.  We simply create a random set of data, and set the outcomes such that they are generated from a linear equation, here $customers = 3xtemperature + 10$.  We saw that when our data perfectly matches a linear formula, our linear regression model discovers that underlying formula and perfectly predicts the outcomes.  We saw that it trains on this data, perfectly predicts the outcome, and then when the model is placed into production, because our data continues to adhere to this formula, it predicts future data as well."
   ]
  },
  {
   "cell_type": "markdown",
   "metadata": {},
   "source": [
    "### Creating data with errors in it"
   ]
  },
  {
   "cell_type": "markdown",
   "metadata": {},
   "source": [
    "Of course when we gather  "
   ]
  },
  {
   "cell_type": "markdown",
   "metadata": {},
   "source": [
    "Now that we have initialized our model with the code `linear_regression = LinearRegression()`, it is now time to pass through some data into this model so what we can fit the model.  In the last lesson, we saw how we can fit the model by choosing parameters that minimize the error of our function."
   ]
  },
  {
   "cell_type": "markdown",
   "metadata": {},
   "source": [
    "Here we do the same thing, and we do so by passing the data into our model, so that the linear regression model can then adjust the parameters to fit to this data."
   ]
  },
  {
   "cell_type": "code",
   "execution_count": 421,
   "metadata": {},
   "outputs": [],
   "source": [
    "from random import randint\n",
    "random.seed(1)\n",
    "random_temperatures = list(map(lambda num: randint(30,101), range(0, 50)))"
   ]
  },
  {
   "cell_type": "code",
   "execution_count": 422,
   "metadata": {},
   "outputs": [
    {
     "data": {
      "text/plain": [
       "101"
      ]
     },
     "execution_count": 422,
     "metadata": {},
     "output_type": "execute_result"
    }
   ],
   "source": [
    "\n",
    "len(random_temperatures)\n",
    "min(random_temperatures)\n",
    "# 2\n",
    "max(random_temperatures)\n",
    "# 101"
   ]
  },
  {
   "cell_type": "markdown",
   "metadata": {},
   "source": [
    "Now let's create some fake data according to the formula $y = 3*temperature + 10 + error $."
   ]
  },
  {
   "cell_type": "code",
   "execution_count": 423,
   "metadata": {},
   "outputs": [],
   "source": [
    "customers = list(map(lambda temp: 3*temp + 10, random_temperatures))"
   ]
  },
  {
   "cell_type": "code",
   "execution_count": 424,
   "metadata": {},
   "outputs": [
    {
     "data": {
      "application/vnd.plotly.v1+json": {
       "config": {
        "linkText": "Export to plot.ly",
        "plotlyServerURL": "https://plot.ly",
        "showLink": false
       },
       "data": [
        {
         "mode": "markers",
         "name": "actual",
         "text": [],
         "type": "scatter",
         "uid": "011bb25f-6d01-41f9-9d1a-61dc1d6f14b1",
         "x": [
          47,
          38,
          62,
          45,
          93,
          87,
          90,
          78,
          56,
          42,
          92,
          33,
          79,
          85,
          30,
          87,
          64,
          59,
          43,
          70,
          33,
          32,
          33,
          99,
          31,
          78,
          57,
          84,
          33,
          97,
          58,
          86,
          93,
          100,
          59,
          74,
          59,
          58,
          88,
          67,
          32,
          83,
          101,
          42,
          53,
          67,
          45,
          72,
          94,
          84
         ],
         "y": [
          151,
          124,
          196,
          145,
          289,
          271,
          280,
          244,
          178,
          136,
          286,
          109,
          247,
          265,
          100,
          271,
          202,
          187,
          139,
          220,
          109,
          106,
          109,
          307,
          103,
          244,
          181,
          262,
          109,
          301,
          184,
          268,
          289,
          310,
          187,
          232,
          187,
          184,
          274,
          211,
          106,
          259,
          313,
          136,
          169,
          211,
          145,
          226,
          292,
          262
         ]
        }
       ],
       "layout": {
        "autosize": true,
        "xaxis": {
         "autorange": true,
         "range": [
          25.58776091081594,
          105.41223908918406
         ],
         "title": {
          "text": "temperature"
         },
         "type": "linear"
        },
        "yaxis": {
         "autorange": true,
         "range": [
          84.39808917197452,
          328.6019108280255
         ],
         "title": {
          "text": "customers"
         },
         "type": "linear"
        }
       }
      },
      "image/png": "[encoded data removed]",
      "text/html": [
       "<div id=\"491d6f62-82b3-459d-8b7a-1fa14ed9bc2f\" style=\"height: 525px; width: 100%;\" class=\"plotly-graph-div\"></div><script type=\"text/javascript\">require([\"plotly\"], function(Plotly) { window.PLOTLYENV=window.PLOTLYENV || {};window.PLOTLYENV.BASE_URL=\"https://plot.ly\";Plotly.newPlot(\"491d6f62-82b3-459d-8b7a-1fa14ed9bc2f\", [{\"mode\": \"markers\", \"name\": \"actual\", \"text\": [], \"x\": [47, 38, 62, 45, 93, 87, 90, 78, 56, 42, 92, 33, 79, 85, 30, 87, 64, 59, 43, 70, 33, 32, 33, 99, 31, 78, 57, 84, 33, 97, 58, 86, 93, 100, 59, 74, 59, 58, 88, 67, 32, 83, 101, 42, 53, 67, 45, 72, 94, 84], \"y\": [151, 124, 196, 145, 289, 271, 280, 244, 178, 136, 286, 109, 247, 265, 100, 271, 202, 187, 139, 220, 109, 106, 109, 307, 103, 244, 181, 262, 109, 301, 184, 268, 289, 310, 187, 232, 187, 184, 274, 211, 106, 259, 313, 136, 169, 211, 145, 226, 292, 262], \"type\": \"scatter\", \"uid\": \"3dc94f60-e2e7-4e1e-bd60-8840beb3a926\"}], {\"xaxis\": {\"title\": {\"text\": \"temperature\"}}, \"yaxis\": {\"title\": {\"text\": \"customers\"}}}, {\"showLink\": false, \"linkText\": \"Export to plot.ly\", \"plotlyServerURL\": \"https://plot.ly\"})});</script><script type=\"text/javascript\">window.addEventListener(\"resize\", function(){window._Plotly.Plots.resize(document.getElementById(\"491d6f62-82b3-459d-8b7a-1fa14ed9bc2f\"));});</script>"
      ],
      "text/vnd.plotly.v1+html": [
       "<div id=\"491d6f62-82b3-459d-8b7a-1fa14ed9bc2f\" style=\"height: 525px; width: 100%;\" class=\"plotly-graph-div\"></div><script type=\"text/javascript\">require([\"plotly\"], function(Plotly) { window.PLOTLYENV=window.PLOTLYENV || {};window.PLOTLYENV.BASE_URL=\"https://plot.ly\";Plotly.newPlot(\"491d6f62-82b3-459d-8b7a-1fa14ed9bc2f\", [{\"mode\": \"markers\", \"name\": \"actual\", \"text\": [], \"x\": [47, 38, 62, 45, 93, 87, 90, 78, 56, 42, 92, 33, 79, 85, 30, 87, 64, 59, 43, 70, 33, 32, 33, 99, 31, 78, 57, 84, 33, 97, 58, 86, 93, 100, 59, 74, 59, 58, 88, 67, 32, 83, 101, 42, 53, 67, 45, 72, 94, 84], \"y\": [151, 124, 196, 145, 289, 271, 280, 244, 178, 136, 286, 109, 247, 265, 100, 271, 202, 187, 139, 220, 109, 106, 109, 307, 103, 244, 181, 262, 109, 301, 184, 268, 289, 310, 187, 232, 187, 184, 274, 211, 106, 259, 313, 136, 169, 211, 145, 226, 292, 262], \"type\": \"scatter\", \"uid\": \"3dc94f60-e2e7-4e1e-bd60-8840beb3a926\"}], {\"xaxis\": {\"title\": {\"text\": \"temperature\"}}, \"yaxis\": {\"title\": {\"text\": \"customers\"}}}, {\"showLink\": false, \"linkText\": \"Export to plot.ly\", \"plotlyServerURL\": \"https://plot.ly\"})});</script><script type=\"text/javascript\">window.addEventListener(\"resize\", function(){window._Plotly.Plots.resize(document.getElementById(\"491d6f62-82b3-459d-8b7a-1fa14ed9bc2f\"));});</script>"
      ]
     },
     "metadata": {},
     "output_type": "display_data"
    }
   ],
   "source": [
    "from graph import trace_values, plot\n",
    "data_trace = trace_values(random_temperatures, customers, name = 'actual')\n",
    "\n",
    "\n",
    "layout = {'yaxis': {'title': 'customers'}, 'xaxis': {'title': 'temperature'}}\n",
    "plot([data_trace], layout = layout)"
   ]
  },
  {
   "cell_type": "code",
   "execution_count": 439,
   "metadata": {},
   "outputs": [
    {
     "data": {
      "text/plain": [
       "LinearRegression(copy_X=True, fit_intercept=True, n_jobs=1, normalize=False)"
      ]
     },
     "execution_count": 439,
     "metadata": {},
     "output_type": "execute_result"
    }
   ],
   "source": [
    "from sklearn.linear_model import LinearRegression\n",
    "true_model = LinearRegression()\n",
    "inputs = list(map(lambda temperature: [temperature], random_temperatures))\n",
    "true_model.fit(inputs, customers)"
   ]
  },
  {
   "cell_type": "code",
   "execution_count": 440,
   "metadata": {},
   "outputs": [
    {
     "data": {
      "text/plain": [
       "array([3.])"
      ]
     },
     "execution_count": 440,
     "metadata": {},
     "output_type": "execute_result"
    }
   ],
   "source": [
    "true_model.coef_"
   ]
  },
  {
   "cell_type": "markdown",
   "metadata": {},
   "source": [
    "This data is too perfect for us, so let's add some noise to this."
   ]
  },
  {
   "cell_type": "markdown",
   "metadata": {},
   "source": [
    "We have two hundred datapoints, so let's generate a list of two hundred random numbers to add to each of our data points.  Our numbers will be between -70 and positive 70."
   ]
  },
  {
   "cell_type": "code",
   "execution_count": 425,
   "metadata": {},
   "outputs": [],
   "source": [
    "random_errors = list(map(lambda num: randint(-50,50), range(0, 50)))\n",
    "paired_temps_and_errors = list(zip(random_errors, customers))\n",
    "noisy_customers = list(map(lambda pair: sum(pair), paired_temps_and_errors))\n"
   ]
  },
  {
   "cell_type": "code",
   "execution_count": 426,
   "metadata": {},
   "outputs": [
    {
     "data": {
      "application/vnd.plotly.v1+json": {
       "config": {
        "linkText": "Export to plot.ly",
        "plotlyServerURL": "https://plot.ly",
        "showLink": false
       },
       "data": [
        {
         "mode": "markers",
         "name": "actual",
         "text": [],
         "type": "scatter",
         "uid": "a867ae15-2415-4438-86ac-708a3b557fef",
         "x": [
          47,
          38,
          62,
          45,
          93,
          87,
          90,
          78,
          56,
          42,
          92,
          33,
          79,
          85,
          30,
          87,
          64,
          59,
          43,
          70,
          33,
          32,
          33,
          99,
          31,
          78,
          57,
          84,
          33,
          97,
          58,
          86,
          93,
          100,
          59,
          74,
          59,
          58,
          88,
          67,
          32,
          83,
          101,
          42,
          53,
          67,
          45,
          72,
          94,
          84
         ],
         "y": [
          165,
          159,
          170,
          133,
          275,
          296,
          293,
          258,
          178,
          161,
          240,
          120,
          228,
          310,
          101,
          274,
          237,
          159,
          135,
          240,
          148,
          155,
          145,
          351,
          100,
          205,
          187,
          296,
          124,
          264,
          233,
          238,
          305,
          310,
          184,
          244,
          230,
          137,
          284,
          166,
          95,
          299,
          341,
          161,
          193,
          211,
          177,
          197,
          263,
          276
         ]
        }
       ],
       "layout": {
        "autosize": true,
        "xaxis": {
         "autorange": true,
         "range": [
          25.58776091081594,
          105.41223908918406
         ],
         "title": {
          "text": "temperature"
         },
         "type": "linear"
        },
        "yaxis": {
         "autorange": true,
         "range": [
          76.2484076433121,
          369.7515923566879
         ],
         "title": {
          "text": "customers"
         },
         "type": "linear"
        }
       }
      },
      "image/png": "[encoded data removed]",
      "text/html": [
       "<div id=\"5287e8f2-2a16-4e35-aceb-8f9356764c30\" style=\"height: 525px; width: 100%;\" class=\"plotly-graph-div\"></div><script type=\"text/javascript\">require([\"plotly\"], function(Plotly) { window.PLOTLYENV=window.PLOTLYENV || {};window.PLOTLYENV.BASE_URL=\"https://plot.ly\";Plotly.newPlot(\"5287e8f2-2a16-4e35-aceb-8f9356764c30\", [{\"mode\": \"markers\", \"name\": \"actual\", \"text\": [], \"x\": [47, 38, 62, 45, 93, 87, 90, 78, 56, 42, 92, 33, 79, 85, 30, 87, 64, 59, 43, 70, 33, 32, 33, 99, 31, 78, 57, 84, 33, 97, 58, 86, 93, 100, 59, 74, 59, 58, 88, 67, 32, 83, 101, 42, 53, 67, 45, 72, 94, 84], \"y\": [165, 159, 170, 133, 275, 296, 293, 258, 178, 161, 240, 120, 228, 310, 101, 274, 237, 159, 135, 240, 148, 155, 145, 351, 100, 205, 187, 296, 124, 264, 233, 238, 305, 310, 184, 244, 230, 137, 284, 166, 95, 299, 341, 161, 193, 211, 177, 197, 263, 276], \"type\": \"scatter\", \"uid\": \"b7a852f9-2431-4719-b4e3-a55ba3bedffd\"}], {\"xaxis\": {\"title\": {\"text\": \"temperature\"}}, \"yaxis\": {\"title\": {\"text\": \"customers\"}}}, {\"showLink\": false, \"linkText\": \"Export to plot.ly\", \"plotlyServerURL\": \"https://plot.ly\"})});</script><script type=\"text/javascript\">window.addEventListener(\"resize\", function(){window._Plotly.Plots.resize(document.getElementById(\"5287e8f2-2a16-4e35-aceb-8f9356764c30\"));});</script>"
      ],
      "text/vnd.plotly.v1+html": [
       "<div id=\"5287e8f2-2a16-4e35-aceb-8f9356764c30\" style=\"height: 525px; width: 100%;\" class=\"plotly-graph-div\"></div><script type=\"text/javascript\">require([\"plotly\"], function(Plotly) { window.PLOTLYENV=window.PLOTLYENV || {};window.PLOTLYENV.BASE_URL=\"https://plot.ly\";Plotly.newPlot(\"5287e8f2-2a16-4e35-aceb-8f9356764c30\", [{\"mode\": \"markers\", \"name\": \"actual\", \"text\": [], \"x\": [47, 38, 62, 45, 93, 87, 90, 78, 56, 42, 92, 33, 79, 85, 30, 87, 64, 59, 43, 70, 33, 32, 33, 99, 31, 78, 57, 84, 33, 97, 58, 86, 93, 100, 59, 74, 59, 58, 88, 67, 32, 83, 101, 42, 53, 67, 45, 72, 94, 84], \"y\": [165, 159, 170, 133, 275, 296, 293, 258, 178, 161, 240, 120, 228, 310, 101, 274, 237, 159, 135, 240, 148, 155, 145, 351, 100, 205, 187, 296, 124, 264, 233, 238, 305, 310, 184, 244, 230, 137, 284, 166, 95, 299, 341, 161, 193, 211, 177, 197, 263, 276], \"type\": \"scatter\", \"uid\": \"b7a852f9-2431-4719-b4e3-a55ba3bedffd\"}], {\"xaxis\": {\"title\": {\"text\": \"temperature\"}}, \"yaxis\": {\"title\": {\"text\": \"customers\"}}}, {\"showLink\": false, \"linkText\": \"Export to plot.ly\", \"plotlyServerURL\": \"https://plot.ly\"})});</script><script type=\"text/javascript\">window.addEventListener(\"resize\", function(){window._Plotly.Plots.resize(document.getElementById(\"5287e8f2-2a16-4e35-aceb-8f9356764c30\"));});</script>"
      ]
     },
     "metadata": {},
     "output_type": "display_data"
    }
   ],
   "source": [
    "from graph import trace_values, plot\n",
    "data_trace = trace_values(random_temperatures, noisy_customers, name = 'actual')\n",
    "\n",
    "\n",
    "layout = {'yaxis': {'title': 'customers'}, 'xaxis': {'title': 'temperature'}}\n",
    "plot([data_trace], layout = layout)"
   ]
  },
  {
   "cell_type": "markdown",
   "metadata": {},
   "source": [
    "For noise there's nothing we can do about it.  We just simply have to notice that the more noise the, the less accurate our model.  Noise is random so our linear model cannot predict it."
   ]
  },
  {
   "cell_type": "markdown",
   "metadata": {},
   "source": [
    "And let's fit a linear regression model to this data."
   ]
  },
  {
   "cell_type": "code",
   "execution_count": 427,
   "metadata": {},
   "outputs": [],
   "source": [
    "inputs = list(map(lambda temperature: [temperature], random_temperatures))"
   ]
  },
  {
   "cell_type": "code",
   "execution_count": 428,
   "metadata": {},
   "outputs": [],
   "source": [
    "from sklearn.linear_model import LinearRegression"
   ]
  },
  {
   "cell_type": "code",
   "execution_count": 429,
   "metadata": {},
   "outputs": [],
   "source": [
    "regression_model = LinearRegression()"
   ]
  },
  {
   "cell_type": "code",
   "execution_count": 430,
   "metadata": {},
   "outputs": [
    {
     "data": {
      "text/plain": [
       "LinearRegression(copy_X=True, fit_intercept=True, n_jobs=1, normalize=False)"
      ]
     },
     "execution_count": 430,
     "metadata": {},
     "output_type": "execute_result"
    }
   ],
   "source": [
    "regression_model.fit(inputs,noisy_customers)"
   ]
  },
  {
   "cell_type": "code",
   "execution_count": 431,
   "metadata": {},
   "outputs": [
    {
     "data": {
      "text/plain": [
       "array([2.76427563])"
      ]
     },
     "execution_count": 431,
     "metadata": {},
     "output_type": "execute_result"
    }
   ],
   "source": [
    "regression_model.coef_"
   ]
  },
  {
   "cell_type": "code",
   "execution_count": 432,
   "metadata": {},
   "outputs": [
    {
     "data": {
      "text/plain": [
       "32.12580309856557"
      ]
     },
     "execution_count": 432,
     "metadata": {},
     "output_type": "execute_result"
    }
   ],
   "source": [
    "regression_model.intercept_"
   ]
  },
  {
   "cell_type": "code",
   "execution_count": 433,
   "metadata": {},
   "outputs": [
    {
     "data": {
      "application/vnd.plotly.v1+json": {
       "config": {
        "linkText": "Export to plot.ly",
        "plotlyServerURL": "https://plot.ly",
        "showLink": false
       },
       "data": [
        {
         "mode": "markers",
         "name": "actual",
         "text": [],
         "type": "scatter",
         "uid": "eb2958e6-32ac-4736-83eb-2fc9a43a7ace",
         "x": [
          47,
          38,
          62,
          45,
          93,
          87,
          90,
          78,
          56,
          42,
          92,
          33,
          79,
          85,
          30,
          87,
          64,
          59,
          43,
          70,
          33,
          32,
          33,
          99,
          31,
          78,
          57,
          84,
          33,
          97,
          58,
          86,
          93,
          100,
          59,
          74,
          59,
          58,
          88,
          67,
          32,
          83,
          101,
          42,
          53,
          67,
          45,
          72,
          94,
          84
         ],
         "y": [
          165,
          159,
          170,
          133,
          275,
          296,
          293,
          258,
          178,
          161,
          240,
          120,
          228,
          310,
          101,
          274,
          237,
          159,
          135,
          240,
          148,
          155,
          145,
          351,
          100,
          205,
          187,
          296,
          124,
          264,
          233,
          238,
          305,
          310,
          184,
          244,
          230,
          137,
          284,
          166,
          95,
          299,
          341,
          161,
          193,
          211,
          177,
          197,
          263,
          276
         ]
        },
        {
         "mode": "lines",
         "name": "data",
         "text": [],
         "type": "scatter",
         "uid": "4a2fcfff-75e6-44c3-9698-e108116e8072",
         "x": [
          20,
          25,
          30,
          35,
          40,
          45,
          50,
          55,
          60,
          65,
          70,
          75,
          80,
          85,
          90,
          95,
          100,
          105
         ],
         "y": [
          87.32499999999999,
          101.125,
          114.925,
          128.725,
          142.52499999999998,
          156.325,
          170.125,
          183.92499999999998,
          197.725,
          211.52499999999998,
          225.325,
          239.12499999999997,
          252.92499999999998,
          266.725,
          280.525,
          294.325,
          308.125,
          321.92499999999995
         ]
        }
       ],
       "layout": {
        "autosize": true,
        "xaxis": {
         "autorange": true,
         "range": [
          20,
          105.75661702291843
         ],
         "title": {
          "text": "temperature"
         },
         "type": "linear"
        },
        "yaxis": {
         "autorange": true,
         "range": [
          72.44678683385578,
          370.0110501567398
         ],
         "title": {
          "text": "customers"
         },
         "type": "linear"
        }
       }
      },
      "image/png": "[encoded data removed]",
      "text/html": [
       "<div id=\"1a9e5e79-07d3-4788-bbfc-47545671555c\" style=\"height: 525px; width: 100%;\" class=\"plotly-graph-div\"></div><script type=\"text/javascript\">require([\"plotly\"], function(Plotly) { window.PLOTLYENV=window.PLOTLYENV || {};window.PLOTLYENV.BASE_URL=\"https://plot.ly\";Plotly.newPlot(\"1a9e5e79-07d3-4788-bbfc-47545671555c\", [{\"mode\": \"markers\", \"name\": \"actual\", \"text\": [], \"x\": [47, 38, 62, 45, 93, 87, 90, 78, 56, 42, 92, 33, 79, 85, 30, 87, 64, 59, 43, 70, 33, 32, 33, 99, 31, 78, 57, 84, 33, 97, 58, 86, 93, 100, 59, 74, 59, 58, 88, 67, 32, 83, 101, 42, 53, 67, 45, 72, 94, 84], \"y\": [165, 159, 170, 133, 275, 296, 293, 258, 178, 161, 240, 120, 228, 310, 101, 274, 237, 159, 135, 240, 148, 155, 145, 351, 100, 205, 187, 296, 124, 264, 233, 238, 305, 310, 184, 244, 230, 137, 284, 166, 95, 299, 341, 161, 193, 211, 177, 197, 263, 276], \"type\": \"scatter\", \"uid\": \"6fbc6a9d-80a4-4c6b-8ea4-f209d7072ac1\"}, {\"mode\": \"lines\", \"name\": \"data\", \"text\": [], \"x\": [20, 25, 30, 35, 40, 45, 50, 55, 60, 65, 70, 75, 80, 85, 90, 95, 100, 105], \"y\": [87.32499999999999, 101.125, 114.925, 128.725, 142.52499999999998, 156.325, 170.125, 183.92499999999998, 197.725, 211.52499999999998, 225.325, 239.12499999999997, 252.92499999999998, 266.725, 280.525, 294.325, 308.125, 321.92499999999995], \"type\": \"scatter\", \"uid\": \"886f4300-0aca-4155-a140-a3f2f23e9cc3\"}], {\"xaxis\": {\"title\": {\"text\": \"temperature\"}}, \"yaxis\": {\"title\": {\"text\": \"customers\"}}}, {\"showLink\": false, \"linkText\": \"Export to plot.ly\", \"plotlyServerURL\": \"https://plot.ly\"})});</script><script type=\"text/javascript\">window.addEventListener(\"resize\", function(){window._Plotly.Plots.resize(document.getElementById(\"1a9e5e79-07d3-4788-bbfc-47545671555c\"));});</script>"
      ],
      "text/vnd.plotly.v1+html": [
       "<div id=\"1a9e5e79-07d3-4788-bbfc-47545671555c\" style=\"height: 525px; width: 100%;\" class=\"plotly-graph-div\"></div><script type=\"text/javascript\">require([\"plotly\"], function(Plotly) { window.PLOTLYENV=window.PLOTLYENV || {};window.PLOTLYENV.BASE_URL=\"https://plot.ly\";Plotly.newPlot(\"1a9e5e79-07d3-4788-bbfc-47545671555c\", [{\"mode\": \"markers\", \"name\": \"actual\", \"text\": [], \"x\": [47, 38, 62, 45, 93, 87, 90, 78, 56, 42, 92, 33, 79, 85, 30, 87, 64, 59, 43, 70, 33, 32, 33, 99, 31, 78, 57, 84, 33, 97, 58, 86, 93, 100, 59, 74, 59, 58, 88, 67, 32, 83, 101, 42, 53, 67, 45, 72, 94, 84], \"y\": [165, 159, 170, 133, 275, 296, 293, 258, 178, 161, 240, 120, 228, 310, 101, 274, 237, 159, 135, 240, 148, 155, 145, 351, 100, 205, 187, 296, 124, 264, 233, 238, 305, 310, 184, 244, 230, 137, 284, 166, 95, 299, 341, 161, 193, 211, 177, 197, 263, 276], \"type\": \"scatter\", \"uid\": \"6fbc6a9d-80a4-4c6b-8ea4-f209d7072ac1\"}, {\"mode\": \"lines\", \"name\": \"data\", \"text\": [], \"x\": [20, 25, 30, 35, 40, 45, 50, 55, 60, 65, 70, 75, 80, 85, 90, 95, 100, 105], \"y\": [87.32499999999999, 101.125, 114.925, 128.725, 142.52499999999998, 156.325, 170.125, 183.92499999999998, 197.725, 211.52499999999998, 225.325, 239.12499999999997, 252.92499999999998, 266.725, 280.525, 294.325, 308.125, 321.92499999999995], \"type\": \"scatter\", \"uid\": \"886f4300-0aca-4155-a140-a3f2f23e9cc3\"}], {\"xaxis\": {\"title\": {\"text\": \"temperature\"}}, \"yaxis\": {\"title\": {\"text\": \"customers\"}}}, {\"showLink\": false, \"linkText\": \"Export to plot.ly\", \"plotlyServerURL\": \"https://plot.ly\"})});</script><script type=\"text/javascript\">window.addEventListener(\"resize\", function(){window._Plotly.Plots.resize(document.getElementById(\"1a9e5e79-07d3-4788-bbfc-47545671555c\"));});</script>"
      ]
     },
     "metadata": {},
     "output_type": "display_data"
    }
   ],
   "source": [
    "temperature_range = list(range(20, 110, 5))\n",
    "predicted_values = list(map(lambda temp: 2.76*temp + 32.125, temperature_range)) \n",
    "model_trace = trace_values(temperature_range, predicted_values, mode = 'lines')\n",
    "plot([data_trace, model_trace], layout = layout)"
   ]
  },
  {
   "cell_type": "markdown",
   "metadata": {},
   "source": [
    "Now one thing to note here is that when we look at the parameters of the fitted regression model, it generated a model of the following."
   ]
  },
  {
   "cell_type": "markdown",
   "metadata": {},
   "source": [
    "$$ customers =2.76∗temperature+32.125 $$"
   ]
  },
  {
   "cell_type": "markdown",
   "metadata": {},
   "source": [
    "Now this is different than the model would look if it really detected the underlying relationship between customers and temperature.  As we set the data so that the real relationship is: \n",
    "\n",
    "$$ customers =3∗temperature+10 $$"
   ]
  },
  {
   "cell_type": "markdown",
   "metadata": {},
   "source": [
    "Instead, our model was picking up on the noise in the generated data.  And we can see that our model did do a really good job of modeling the particulars of the data it saw.  In fact, if we look at the score for the data, we get the following:"
   ]
  },
  {
   "cell_type": "code",
   "execution_count": 434,
   "metadata": {},
   "outputs": [
    {
     "data": {
      "text/plain": [
       "0.8439783993121167"
      ]
     },
     "execution_count": 434,
     "metadata": {},
     "output_type": "execute_result"
    }
   ],
   "source": [
    "regression_model.score(inputs,noisy_customers)"
   ]
  },
  {
   "cell_type": "markdown",
   "metadata": {},
   "source": [
    "### Putting the data in production"
   ]
  },
  {
   "cell_type": "markdown",
   "metadata": {},
   "source": [
    "The restaurant determines that this score looks good to them, and so it places this model in production.  And now it uses this model to predict the number of customers going forward."
   ]
  },
  {
   "cell_type": "code",
   "execution_count": 435,
   "metadata": {},
   "outputs": [],
   "source": [
    "updated_random_temperatures = list(map(lambda num: randint(30,101), range(0, 40)))\n",
    "updated_customers = list(map(lambda temp: 3*temp + 10, updated_random_temperatures))\n",
    "random_errors = list(map(lambda num: randint(-50,50), range(0, 40)))\n",
    "updated_paired_customers_and_errors = list(zip(random_errors, updated_customers))\n",
    "updated_noisy_customers = list(map(lambda pair: sum(pair), updated_paired_customers_and_errors))\n"
   ]
  },
  {
   "cell_type": "code",
   "execution_count": 436,
   "metadata": {},
   "outputs": [
    {
     "data": {
      "application/vnd.plotly.v1+json": {
       "config": {
        "linkText": "Export to plot.ly",
        "plotlyServerURL": "https://plot.ly",
        "showLink": false
       },
       "data": [
        {
         "mode": "markers",
         "name": "actual",
         "text": [],
         "type": "scatter",
         "uid": "79536717-3282-4be3-9ec6-9dc32a769007",
         "x": [
          59,
          31,
          55,
          99,
          100,
          59,
          81,
          95,
          74,
          75,
          88,
          64,
          100,
          30,
          79,
          95,
          46,
          96,
          101,
          56,
          84,
          37,
          91,
          76,
          100,
          55,
          94,
          82,
          92,
          75,
          83,
          74,
          30,
          98,
          99,
          72,
          88,
          33,
          59,
          52
         ],
         "y": [
          207,
          127,
          148,
          268,
          330,
          169,
          207,
          331,
          191,
          195,
          226,
          209,
          261,
          146,
          293,
          280,
          129,
          282,
          277,
          207,
          235,
          115,
          270,
          196,
          281,
          145,
          274,
          273,
          257,
          269,
          243,
          264,
          141,
          291,
          315,
          265,
          265,
          122,
          197,
          130
         ]
        },
        {
         "mode": "lines",
         "name": "data",
         "text": [],
         "type": "scatter",
         "uid": "53c4d1ef-4324-4142-a227-2cd7a6299567",
         "x": [
          20,
          25,
          30,
          35,
          40,
          45,
          50,
          55,
          60,
          65,
          70,
          75,
          80,
          85,
          90,
          95,
          100,
          105
         ],
         "y": [
          87.32499999999999,
          101.125,
          114.925,
          128.725,
          142.52499999999998,
          156.325,
          170.125,
          183.92499999999998,
          197.725,
          211.52499999999998,
          225.325,
          239.12499999999997,
          252.92499999999998,
          266.725,
          280.525,
          294.325,
          308.125,
          321.92499999999995
         ]
        }
       ],
       "layout": {
        "autosize": true,
        "xaxis": {
         "autorange": true,
         "range": [
          20,
          105.75661702291843
         ],
         "title": {
          "text": "temperature"
         },
         "type": "linear"
        },
        "yaxis": {
         "autorange": true,
         "range": [
          73.57531347962382,
          348.56904388714736
         ],
         "title": {
          "text": "customers"
         },
         "type": "linear"
        }
       }
      },
      "image/png": "[encoded data removed]",
      "text/html": [
       "<div id=\"7821025a-5860-47c0-8fdb-78f1db14bbdb\" style=\"height: 525px; width: 100%;\" class=\"plotly-graph-div\"></div><script type=\"text/javascript\">require([\"plotly\"], function(Plotly) { window.PLOTLYENV=window.PLOTLYENV || {};window.PLOTLYENV.BASE_URL=\"https://plot.ly\";Plotly.newPlot(\"7821025a-5860-47c0-8fdb-78f1db14bbdb\", [{\"mode\": \"markers\", \"name\": \"actual\", \"text\": [], \"x\": [59, 31, 55, 99, 100, 59, 81, 95, 74, 75, 88, 64, 100, 30, 79, 95, 46, 96, 101, 56, 84, 37, 91, 76, 100, 55, 94, 82, 92, 75, 83, 74, 30, 98, 99, 72, 88, 33, 59, 52], \"y\": [207, 127, 148, 268, 330, 169, 207, 331, 191, 195, 226, 209, 261, 146, 293, 280, 129, 282, 277, 207, 235, 115, 270, 196, 281, 145, 274, 273, 257, 269, 243, 264, 141, 291, 315, 265, 265, 122, 197, 130], \"type\": \"scatter\", \"uid\": \"0eeec7d0-82f4-4c79-87f9-656af7cd1dd4\"}, {\"mode\": \"lines\", \"name\": \"data\", \"text\": [], \"x\": [20, 25, 30, 35, 40, 45, 50, 55, 60, 65, 70, 75, 80, 85, 90, 95, 100, 105], \"y\": [87.32499999999999, 101.125, 114.925, 128.725, 142.52499999999998, 156.325, 170.125, 183.92499999999998, 197.725, 211.52499999999998, 225.325, 239.12499999999997, 252.92499999999998, 266.725, 280.525, 294.325, 308.125, 321.92499999999995], \"type\": \"scatter\", \"uid\": \"a7972c73-87c5-465c-94f7-573c563d6ec7\"}], {\"xaxis\": {\"title\": {\"text\": \"temperature\"}}, \"yaxis\": {\"title\": {\"text\": \"customers\"}}}, {\"showLink\": false, \"linkText\": \"Export to plot.ly\", \"plotlyServerURL\": \"https://plot.ly\"})});</script><script type=\"text/javascript\">window.addEventListener(\"resize\", function(){window._Plotly.Plots.resize(document.getElementById(\"7821025a-5860-47c0-8fdb-78f1db14bbdb\"));});</script>"
      ],
      "text/vnd.plotly.v1+html": [
       "<div id=\"7821025a-5860-47c0-8fdb-78f1db14bbdb\" style=\"height: 525px; width: 100%;\" class=\"plotly-graph-div\"></div><script type=\"text/javascript\">require([\"plotly\"], function(Plotly) { window.PLOTLYENV=window.PLOTLYENV || {};window.PLOTLYENV.BASE_URL=\"https://plot.ly\";Plotly.newPlot(\"7821025a-5860-47c0-8fdb-78f1db14bbdb\", [{\"mode\": \"markers\", \"name\": \"actual\", \"text\": [], \"x\": [59, 31, 55, 99, 100, 59, 81, 95, 74, 75, 88, 64, 100, 30, 79, 95, 46, 96, 101, 56, 84, 37, 91, 76, 100, 55, 94, 82, 92, 75, 83, 74, 30, 98, 99, 72, 88, 33, 59, 52], \"y\": [207, 127, 148, 268, 330, 169, 207, 331, 191, 195, 226, 209, 261, 146, 293, 280, 129, 282, 277, 207, 235, 115, 270, 196, 281, 145, 274, 273, 257, 269, 243, 264, 141, 291, 315, 265, 265, 122, 197, 130], \"type\": \"scatter\", \"uid\": \"0eeec7d0-82f4-4c79-87f9-656af7cd1dd4\"}, {\"mode\": \"lines\", \"name\": \"data\", \"text\": [], \"x\": [20, 25, 30, 35, 40, 45, 50, 55, 60, 65, 70, 75, 80, 85, 90, 95, 100, 105], \"y\": [87.32499999999999, 101.125, 114.925, 128.725, 142.52499999999998, 156.325, 170.125, 183.92499999999998, 197.725, 211.52499999999998, 225.325, 239.12499999999997, 252.92499999999998, 266.725, 280.525, 294.325, 308.125, 321.92499999999995], \"type\": \"scatter\", \"uid\": \"a7972c73-87c5-465c-94f7-573c563d6ec7\"}], {\"xaxis\": {\"title\": {\"text\": \"temperature\"}}, \"yaxis\": {\"title\": {\"text\": \"customers\"}}}, {\"showLink\": false, \"linkText\": \"Export to plot.ly\", \"plotlyServerURL\": \"https://plot.ly\"})});</script><script type=\"text/javascript\">window.addEventListener(\"resize\", function(){window._Plotly.Plots.resize(document.getElementById(\"7821025a-5860-47c0-8fdb-78f1db14bbdb\"));});</script>"
      ]
     },
     "metadata": {},
     "output_type": "display_data"
    }
   ],
   "source": [
    "updated_data_trace = trace_values(updated_random_temperatures, updated_noisy_customers, name = 'actual')\n",
    "plot([updated_data_trace, model_trace], layout = layout)"
   ]
  },
  {
   "cell_type": "code",
   "execution_count": 437,
   "metadata": {},
   "outputs": [],
   "source": [
    "updated_inputs = list(map(lambda temperature: [temperature], updated_random_temperatures))"
   ]
  },
  {
   "cell_type": "code",
   "execution_count": 438,
   "metadata": {},
   "outputs": [
    {
     "data": {
      "text/plain": [
       "0.7671242973775001"
      ]
     },
     "execution_count": 438,
     "metadata": {},
     "output_type": "execute_result"
    }
   ],
   "source": [
    "regression_model.score(updated_inputs,updated_noisy_customers)"
   ]
  },
  {
   "cell_type": "markdown",
   "metadata": {},
   "source": [
    "Now this score that we are getting on our updated inputs is worse than we received on our previous data."
   ]
  },
  {
   "cell_type": "markdown",
   "metadata": {},
   "source": [
    "But this problem highlights an important phenomenon called overfitting.  When we initially fit our model, our model could only look to the data it saw.  And that data had a lot of randomness in it, to never be seen again.  But because linear regression can draw a line through data, even if that  "
   ]
  },
  {
   "cell_type": "markdown",
   "metadata": {},
   "source": [
    "### Time for an experiment"
   ]
  },
  {
   "cell_type": "markdown",
   "metadata": {},
   "source": [
    "Our dataset consists of our temperatures and noisy customers.  Let's pair these datasets up.  This is our data going forward."
   ]
  },
  {
   "cell_type": "code",
   "execution_count": 305,
   "metadata": {},
   "outputs": [],
   "source": [
    "outputs_1 = list(map(lambda observation: observation[1], sample_1))\n",
    "inputs_1 = list(map(lambda observation: [observation[0]], sample_1))"
   ]
  },
  {
   "cell_type": "code",
   "execution_count": 306,
   "metadata": {},
   "outputs": [],
   "source": [
    "from sklearn.linear_model import LinearRegression"
   ]
  },
  {
   "cell_type": "code",
   "execution_count": 307,
   "metadata": {},
   "outputs": [
    {
     "data": {
      "text/plain": [
       "0.49538040327464183"
      ]
     },
     "execution_count": 307,
     "metadata": {},
     "output_type": "execute_result"
    }
   ],
   "source": [
    "outputs_1 = list(map(lambda observation: observation[1], sample_1))\n",
    "inputs_1 = list(map(lambda observation: [observation[0]], sample_1))\n",
    "\n",
    "regression = LinearRegression()\n",
    "regression.fit(inputs_1, outputs_1)\n",
    "regression.score(inputs_1, outputs_1)"
   ]
  },
  {
   "cell_type": "code",
   "execution_count": 302,
   "metadata": {},
   "outputs": [
    {
     "data": {
      "application/vnd.plotly.v1+json": {
       "config": {
        "linkText": "Export to plot.ly",
        "plotlyServerURL": "https://plot.ly",
        "showLink": false
       },
       "data": [
        {
         "mode": "markers",
         "name": "train",
         "text": [],
         "type": "scatter",
         "uid": "c00509db-4a77-42cc-9ada-7d21393c0130",
         "x": [
          58,
          42,
          82,
          43,
          50,
          91,
          93,
          41,
          77,
          66,
          73,
          96,
          52,
          97,
          44,
          69,
          67,
          54,
          84,
          91,
          70,
          86,
          57,
          43,
          52
         ],
         "y": [
          238,
          90,
          266,
          108,
          126,
          315,
          342,
          123,
          235,
          162,
          257,
          282,
          132,
          266,
          118,
          260,
          181,
          155,
          218,
          240,
          204,
          226,
          139,
          75,
          146
         ]
        },
        {
         "mode": "markers",
         "name": "test",
         "text": [],
         "type": "scatter",
         "uid": "b768d0d3-95c9-430c-a74b-21dc8c0743b9",
         "x": [
          101,
          50,
          86,
          92,
          84,
          41,
          50,
          48,
          93,
          63,
          58,
          69,
          86,
          81,
          43,
          42,
          96,
          73,
          44,
          91,
          66,
          93,
          79,
          77,
          57,
          72,
          39,
          44,
          57,
          90,
          54,
          91,
          99,
          67,
          52,
          41,
          43,
          91,
          37,
          86,
          52,
          73,
          97,
          69,
          57,
          82,
          61,
          70,
          73,
          98
         ],
         "y": [
          297,
          131,
          280,
          382,
          354,
          182,
          91,
          226,
          364,
          291,
          230,
          290,
          212,
          348,
          125,
          216,
          299,
          209,
          221,
          383,
          271,
          389,
          314,
          216,
          132,
          225,
          134,
          134,
          231,
          350,
          230,
          232,
          336,
          197,
          236,
          193,
          229,
          245,
          70,
          241,
          129,
          284,
          296,
          303,
          270,
          265,
          163,
          205,
          292,
          282
         ]
        },
        {
         "mode": "lines",
         "name": "model",
         "text": [],
         "type": "scatter",
         "uid": "afb7140d-f650-4bad-a05b-cd5b405fa7e8",
         "x": [
          0,
          5,
          10,
          15,
          20,
          25,
          30,
          35,
          40,
          45,
          50,
          55,
          60,
          65,
          70,
          75,
          80,
          85,
          90,
          95,
          100,
          105
         ],
         "y": [
          -37.94,
          -20.54,
          -3.1400000000000006,
          14.260000000000005,
          31.659999999999997,
          49.06,
          66.46000000000001,
          83.86,
          101.25999999999999,
          118.66,
          136.06,
          153.46,
          170.86,
          188.26,
          205.66,
          223.06,
          240.45999999999998,
          257.86,
          275.26,
          292.66,
          310.06,
          327.46
         ]
        }
       ],
       "layout": {
        "autosize": true,
        "xaxis": {
         "autorange": true,
         "range": [
          0,
          106.93289993034595
         ],
         "title": {
          "text": "temperature"
         },
         "type": "linear"
        },
        "yaxis": {
         "autorange": true,
         "range": [
          -62.03065830721003,
          419.7825078369906
         ],
         "title": {
          "text": "customers"
         },
         "type": "linear"
        }
       }
      },
      "image/png": "[encoded data removed]",
      "text/html": [
       "<div id=\"09360194-65c6-4476-84d6-425e7abeb664\" style=\"height: 525px; width: 100%;\" class=\"plotly-graph-div\"></div><script type=\"text/javascript\">require([\"plotly\"], function(Plotly) { window.PLOTLYENV=window.PLOTLYENV || {};window.PLOTLYENV.BASE_URL=\"https://plot.ly\";Plotly.newPlot(\"09360194-65c6-4476-84d6-425e7abeb664\", [{\"mode\": \"markers\", \"name\": \"train\", \"text\": [], \"x\": [58, 42, 82, 43, 50, 91, 93, 41, 77, 66, 73, 96, 52, 97, 44, 69, 67, 54, 84, 91, 70, 86, 57, 43, 52], \"y\": [238, 90, 266, 108, 126, 315, 342, 123, 235, 162, 257, 282, 132, 266, 118, 260, 181, 155, 218, 240, 204, 226, 139, 75, 146], \"type\": \"scatter\", \"uid\": \"8e2df29b-653e-4959-bd1b-47064c7af672\"}, {\"mode\": \"markers\", \"name\": \"test\", \"text\": [], \"x\": [101, 50, 86, 92, 84, 41, 50, 48, 93, 63, 58, 69, 86, 81, 43, 42, 96, 73, 44, 91, 66, 93, 79, 77, 57, 72, 39, 44, 57, 90, 54, 91, 99, 67, 52, 41, 43, 91, 37, 86, 52, 73, 97, 69, 57, 82, 61, 70, 73, 98], \"y\": [297, 131, 280, 382, 354, 182, 91, 226, 364, 291, 230, 290, 212, 348, 125, 216, 299, 209, 221, 383, 271, 389, 314, 216, 132, 225, 134, 134, 231, 350, 230, 232, 336, 197, 236, 193, 229, 245, 70, 241, 129, 284, 296, 303, 270, 265, 163, 205, 292, 282], \"type\": \"scatter\", \"uid\": \"83f4804b-457c-469d-aa5b-ade890b96a5e\"}, {\"mode\": \"lines\", \"name\": \"model\", \"text\": [], \"x\": [0, 5, 10, 15, 20, 25, 30, 35, 40, 45, 50, 55, 60, 65, 70, 75, 80, 85, 90, 95, 100, 105], \"y\": [-37.94, -20.54, -3.1400000000000006, 14.260000000000005, 31.659999999999997, 49.06, 66.46000000000001, 83.86, 101.25999999999999, 118.66, 136.06, 153.46, 170.86, 188.26, 205.66, 223.06, 240.45999999999998, 257.86, 275.26, 292.66, 310.06, 327.46], \"type\": \"scatter\", \"uid\": \"b59797e3-ad31-416d-85de-d4b5be8b6caf\"}], {\"xaxis\": {\"title\": {\"text\": \"temperature\"}}, \"yaxis\": {\"title\": {\"text\": \"customers\"}}}, {\"showLink\": false, \"linkText\": \"Export to plot.ly\", \"plotlyServerURL\": \"https://plot.ly\"})});</script><script type=\"text/javascript\">window.addEventListener(\"resize\", function(){window._Plotly.Plots.resize(document.getElementById(\"09360194-65c6-4476-84d6-425e7abeb664\"));});</script>"
      ],
      "text/vnd.plotly.v1+html": [
       "<div id=\"09360194-65c6-4476-84d6-425e7abeb664\" style=\"height: 525px; width: 100%;\" class=\"plotly-graph-div\"></div><script type=\"text/javascript\">require([\"plotly\"], function(Plotly) { window.PLOTLYENV=window.PLOTLYENV || {};window.PLOTLYENV.BASE_URL=\"https://plot.ly\";Plotly.newPlot(\"09360194-65c6-4476-84d6-425e7abeb664\", [{\"mode\": \"markers\", \"name\": \"train\", \"text\": [], \"x\": [58, 42, 82, 43, 50, 91, 93, 41, 77, 66, 73, 96, 52, 97, 44, 69, 67, 54, 84, 91, 70, 86, 57, 43, 52], \"y\": [238, 90, 266, 108, 126, 315, 342, 123, 235, 162, 257, 282, 132, 266, 118, 260, 181, 155, 218, 240, 204, 226, 139, 75, 146], \"type\": \"scatter\", \"uid\": \"8e2df29b-653e-4959-bd1b-47064c7af672\"}, {\"mode\": \"markers\", \"name\": \"test\", \"text\": [], \"x\": [101, 50, 86, 92, 84, 41, 50, 48, 93, 63, 58, 69, 86, 81, 43, 42, 96, 73, 44, 91, 66, 93, 79, 77, 57, 72, 39, 44, 57, 90, 54, 91, 99, 67, 52, 41, 43, 91, 37, 86, 52, 73, 97, 69, 57, 82, 61, 70, 73, 98], \"y\": [297, 131, 280, 382, 354, 182, 91, 226, 364, 291, 230, 290, 212, 348, 125, 216, 299, 209, 221, 383, 271, 389, 314, 216, 132, 225, 134, 134, 231, 350, 230, 232, 336, 197, 236, 193, 229, 245, 70, 241, 129, 284, 296, 303, 270, 265, 163, 205, 292, 282], \"type\": \"scatter\", \"uid\": \"83f4804b-457c-469d-aa5b-ade890b96a5e\"}, {\"mode\": \"lines\", \"name\": \"model\", \"text\": [], \"x\": [0, 5, 10, 15, 20, 25, 30, 35, 40, 45, 50, 55, 60, 65, 70, 75, 80, 85, 90, 95, 100, 105], \"y\": [-37.94, -20.54, -3.1400000000000006, 14.260000000000005, 31.659999999999997, 49.06, 66.46000000000001, 83.86, 101.25999999999999, 118.66, 136.06, 153.46, 170.86, 188.26, 205.66, 223.06, 240.45999999999998, 257.86, 275.26, 292.66, 310.06, 327.46], \"type\": \"scatter\", \"uid\": \"b59797e3-ad31-416d-85de-d4b5be8b6caf\"}], {\"xaxis\": {\"title\": {\"text\": \"temperature\"}}, \"yaxis\": {\"title\": {\"text\": \"customers\"}}}, {\"showLink\": false, \"linkText\": \"Export to plot.ly\", \"plotlyServerURL\": \"https://plot.ly\"})});</script><script type=\"text/javascript\">window.addEventListener(\"resize\", function(){window._Plotly.Plots.resize(document.getElementById(\"09360194-65c6-4476-84d6-425e7abeb664\"));});</script>"
      ]
     },
     "metadata": {},
     "output_type": "display_data"
    }
   ],
   "source": [
    "from graph import trace_values, plot\n",
    "inputs_4_formatted = list(map(lambda observation: observation[0], sample_4))\n",
    "inputs_4_test_formatted = list(map(lambda observation: observation[0], test_set_4))\n",
    "data_trace_train = trace_values(inputs_4_formatted, outputs_4, name = 'train')\n",
    "data_trace_test = trace_values(inputs_4_test_formatted, outputs_4_test, name = 'test')\n",
    "input_temps = list(range(0, 110, 5))\n",
    "predicted_values = list(map(lambda temp: temp*3.48 - 37.94, input_temps))\n",
    "model_trace = trace_values(input_temps, predicted_values, name = 'model', mode = 'lines')\n",
    "\n",
    "layout = {'yaxis': {'title': 'customers'}, 'xaxis': {'title': 'temperature'}}\n",
    "plot([data_trace_train, data_trace_test, model_trace], layout = layout)"
   ]
  },
  {
   "cell_type": "code",
   "execution_count": 270,
   "metadata": {},
   "outputs": [
    {
     "data": {
      "text/plain": [
       "LinearRegression(copy_X=True, fit_intercept=True, n_jobs=1, normalize=False)"
      ]
     },
     "execution_count": 270,
     "metadata": {},
     "output_type": "execute_result"
    }
   ],
   "source": [
    "regression_2 = LinearRegression()\n",
    "regression_2.fit(inputs_4_test, outputs_4_test)"
   ]
  },
  {
   "cell_type": "code",
   "execution_count": 271,
   "metadata": {},
   "outputs": [
    {
     "data": {
      "text/plain": [
       "array([2.44753479])"
      ]
     },
     "execution_count": 271,
     "metadata": {},
     "output_type": "execute_result"
    }
   ],
   "source": [
    "regression_2.coef_"
   ]
  },
  {
   "cell_type": "code",
   "execution_count": 272,
   "metadata": {},
   "outputs": [
    {
     "data": {
      "text/plain": [
       "40.69552286282317"
      ]
     },
     "execution_count": 272,
     "metadata": {},
     "output_type": "execute_result"
    }
   ],
   "source": [
    "regression_2.intercept_"
   ]
  },
  {
   "cell_type": "code",
   "execution_count": 277,
   "metadata": {},
   "outputs": [],
   "source": [
    "predicted_values_test = list(map(lambda temp: temp*2.44 + 40.69, input_temps))"
   ]
  },
  {
   "cell_type": "code",
   "execution_count": 279,
   "metadata": {},
   "outputs": [
    {
     "data": {
      "application/vnd.plotly.v1+json": {
       "config": {
        "linkText": "Export to plot.ly",
        "plotlyServerURL": "https://plot.ly",
        "showLink": false
       },
       "data": [
        {
         "mode": "markers",
         "name": "train",
         "text": [],
         "type": "scatter",
         "uid": "ba403c3b-cc1c-467a-a00b-f9576ac7219c",
         "x": [
          58,
          42,
          82,
          43,
          50,
          91,
          93,
          41,
          77,
          66,
          73,
          96,
          52,
          97,
          44,
          69,
          67,
          54,
          84,
          91,
          70,
          86,
          57,
          43,
          52
         ],
         "y": [
          238,
          90,
          266,
          108,
          126,
          315,
          342,
          123,
          235,
          162,
          257,
          282,
          132,
          266,
          118,
          260,
          181,
          155,
          218,
          240,
          204,
          226,
          139,
          75,
          146
         ]
        },
        {
         "mode": "markers",
         "name": "test",
         "text": [],
         "type": "scatter",
         "uid": "18e4368c-382e-4ba9-b696-fcb55a3c1791",
         "x": [
          81,
          57,
          37,
          50,
          73,
          61,
          91,
          57,
          101,
          86,
          92,
          73,
          90,
          41,
          79,
          69,
          48,
          99,
          39,
          93,
          63,
          44,
          72,
          98,
          86
         ],
         "y": [
          261,
          112,
          127,
          204,
          226,
          142,
          252,
          221,
          273,
          261,
          355,
          176,
          213,
          91,
          245,
          178,
          119,
          307,
          171,
          229,
          252,
          193,
          235,
          254,
          277
         ]
        },
        {
         "mode": "lines",
         "name": "model test",
         "text": [],
         "type": "scatter",
         "uid": "049780ee-2662-4339-bf4d-c5dbade50cd1",
         "x": [
          0,
          5,
          10,
          15,
          20,
          25,
          30,
          35,
          40,
          45,
          50,
          55,
          60,
          65,
          70,
          75,
          80,
          85,
          90,
          95,
          100,
          105
         ],
         "y": [
          40.69,
          52.89,
          65.09,
          77.28999999999999,
          89.49,
          101.69,
          113.89,
          126.08999999999999,
          138.29,
          150.49,
          162.69,
          174.89,
          187.09,
          199.29,
          211.48999999999998,
          223.69,
          235.89,
          248.09,
          260.28999999999996,
          272.49,
          284.69,
          296.89
         ]
        }
       ],
       "layout": {
        "autosize": true,
        "xaxis": {
         "autorange": true,
         "range": [
          0,
          106.95450176225569
         ],
         "title": {
          "text": "temperature"
         },
         "type": "linear"
        },
        "yaxis": {
         "autorange": true,
         "range": [
          22.9546394984326,
          377.66184952978057
         ],
         "title": {
          "text": "customers"
         },
         "type": "linear"
        }
       }
      },
      "image/png": "[encoded data removed]",
      "text/html": [
       "<div id=\"2d2d54df-afab-482d-8f5b-753295b52588\" style=\"height: 525px; width: 100%;\" class=\"plotly-graph-div\"></div><script type=\"text/javascript\">require([\"plotly\"], function(Plotly) { window.PLOTLYENV=window.PLOTLYENV || {};window.PLOTLYENV.BASE_URL=\"https://plot.ly\";Plotly.newPlot(\"2d2d54df-afab-482d-8f5b-753295b52588\", [{\"mode\": \"markers\", \"name\": \"train\", \"text\": [], \"x\": [58, 42, 82, 43, 50, 91, 93, 41, 77, 66, 73, 96, 52, 97, 44, 69, 67, 54, 84, 91, 70, 86, 57, 43, 52], \"y\": [238, 90, 266, 108, 126, 315, 342, 123, 235, 162, 257, 282, 132, 266, 118, 260, 181, 155, 218, 240, 204, 226, 139, 75, 146], \"type\": \"scatter\", \"uid\": \"b10489c7-a924-4c20-8d9f-aa3b07730deb\"}, {\"mode\": \"markers\", \"name\": \"test\", \"text\": [], \"x\": [81, 57, 37, 50, 73, 61, 91, 57, 101, 86, 92, 73, 90, 41, 79, 69, 48, 99, 39, 93, 63, 44, 72, 98, 86], \"y\": [261, 112, 127, 204, 226, 142, 252, 221, 273, 261, 355, 176, 213, 91, 245, 178, 119, 307, 171, 229, 252, 193, 235, 254, 277], \"type\": \"scatter\", \"uid\": \"eec94eab-f088-4980-8318-8884dcd920c1\"}, {\"mode\": \"lines\", \"name\": \"model test\", \"text\": [], \"x\": [0, 5, 10, 15, 20, 25, 30, 35, 40, 45, 50, 55, 60, 65, 70, 75, 80, 85, 90, 95, 100, 105], \"y\": [40.69, 52.89, 65.09, 77.28999999999999, 89.49, 101.69, 113.89, 126.08999999999999, 138.29, 150.49, 162.69, 174.89, 187.09, 199.29, 211.48999999999998, 223.69, 235.89, 248.09, 260.28999999999996, 272.49, 284.69, 296.89], \"type\": \"scatter\", \"uid\": \"5f85c053-0c4a-4c0f-a0f9-29d7aa4657e8\"}], {\"xaxis\": {\"title\": {\"text\": \"temperature\"}}, \"yaxis\": {\"title\": {\"text\": \"customers\"}}}, {\"showLink\": false, \"linkText\": \"Export to plot.ly\", \"plotlyServerURL\": \"https://plot.ly\"})});</script><script type=\"text/javascript\">window.addEventListener(\"resize\", function(){window._Plotly.Plots.resize(document.getElementById(\"2d2d54df-afab-482d-8f5b-753295b52588\"));});</script>"
      ],
      "text/vnd.plotly.v1+html": [
       "<div id=\"2d2d54df-afab-482d-8f5b-753295b52588\" style=\"height: 525px; width: 100%;\" class=\"plotly-graph-div\"></div><script type=\"text/javascript\">require([\"plotly\"], function(Plotly) { window.PLOTLYENV=window.PLOTLYENV || {};window.PLOTLYENV.BASE_URL=\"https://plot.ly\";Plotly.newPlot(\"2d2d54df-afab-482d-8f5b-753295b52588\", [{\"mode\": \"markers\", \"name\": \"train\", \"text\": [], \"x\": [58, 42, 82, 43, 50, 91, 93, 41, 77, 66, 73, 96, 52, 97, 44, 69, 67, 54, 84, 91, 70, 86, 57, 43, 52], \"y\": [238, 90, 266, 108, 126, 315, 342, 123, 235, 162, 257, 282, 132, 266, 118, 260, 181, 155, 218, 240, 204, 226, 139, 75, 146], \"type\": \"scatter\", \"uid\": \"b10489c7-a924-4c20-8d9f-aa3b07730deb\"}, {\"mode\": \"markers\", \"name\": \"test\", \"text\": [], \"x\": [81, 57, 37, 50, 73, 61, 91, 57, 101, 86, 92, 73, 90, 41, 79, 69, 48, 99, 39, 93, 63, 44, 72, 98, 86], \"y\": [261, 112, 127, 204, 226, 142, 252, 221, 273, 261, 355, 176, 213, 91, 245, 178, 119, 307, 171, 229, 252, 193, 235, 254, 277], \"type\": \"scatter\", \"uid\": \"eec94eab-f088-4980-8318-8884dcd920c1\"}, {\"mode\": \"lines\", \"name\": \"model test\", \"text\": [], \"x\": [0, 5, 10, 15, 20, 25, 30, 35, 40, 45, 50, 55, 60, 65, 70, 75, 80, 85, 90, 95, 100, 105], \"y\": [40.69, 52.89, 65.09, 77.28999999999999, 89.49, 101.69, 113.89, 126.08999999999999, 138.29, 150.49, 162.69, 174.89, 187.09, 199.29, 211.48999999999998, 223.69, 235.89, 248.09, 260.28999999999996, 272.49, 284.69, 296.89], \"type\": \"scatter\", \"uid\": \"5f85c053-0c4a-4c0f-a0f9-29d7aa4657e8\"}], {\"xaxis\": {\"title\": {\"text\": \"temperature\"}}, \"yaxis\": {\"title\": {\"text\": \"customers\"}}}, {\"showLink\": false, \"linkText\": \"Export to plot.ly\", \"plotlyServerURL\": \"https://plot.ly\"})});</script><script type=\"text/javascript\">window.addEventListener(\"resize\", function(){window._Plotly.Plots.resize(document.getElementById(\"2d2d54df-afab-482d-8f5b-753295b52588\"));});</script>"
      ]
     },
     "metadata": {},
     "output_type": "display_data"
    }
   ],
   "source": [
    "model_trace_test = trace_values(input_temps, predicted_values_test, name = 'model test', mode = 'lines')\n",
    "plot([data_trace_train, data_trace_test, model_trace_test], layout = layout)"
   ]
  },
  {
   "cell_type": "markdown",
   "metadata": {},
   "source": [
    "### Summary"
   ]
  },
  {
   "cell_type": "markdown",
   "metadata": {},
   "source": [
    "In this lesson, we saw how to use the scikitlearn library to fit a machine learning model and make new predictions with our fitted model. \n",
    "\n"
   ]
  },
  {
   "cell_type": "markdown",
   "metadata": {},
   "source": [
    "We do so using similar steps to what we saw in our introduction to machine learning lesson.\n",
    "\n",
    "1. Create an initial model\n",
    "2. Fit the model to data\n",
    "3. Use the fitted model to make new predictions\n",
    "\n",
    "We can translate these steps into code with the following:"
   ]
  },
  {
   "cell_type": "code",
   "execution_count": 8,
   "metadata": {},
   "outputs": [],
   "source": [
    "# import libraries\n",
    "import sklearn\n",
    "from sklearn.linear_model import LinearRegression\n",
    "\n",
    "# 1. Create an initial model\n",
    "linear_regression = LinearRegression()\n",
    "\n",
    "# 2. Fit the model to data\n",
    "linear_regression.fit(inputs, outputs)\n",
    "\n",
    "# 3. Use the fitted model to make new predictions\n",
    "linear_regression.predict(inputs)"
   ]
  },
  {
   "cell_type": "markdown",
   "metadata": {},
   "source": [
    "The other thing to remember is that if we want to see the numbers behind these new predictions, we can see them by calling the corresponding methods."
   ]
  }
 ],
 "metadata": {
  "kernelspec": {
   "display_name": "Python 3",
   "language": "python",
   "name": "python3"
  },
  "language_info": {
   "codemirror_mode": {
    "name": "ipython",
    "version": 3
   },
   "file_extension": ".py",
   "mimetype": "text/x-python",
   "name": "python",
   "nbconvert_exporter": "python",
   "pygments_lexer": "ipython3",
   "version": "3.7.4"
  }
 },
 "nbformat": 4,
 "nbformat_minor": 4
}
