{
 "cells": [
  {
   "cell_type": "markdown",
   "metadata": {},
   "source": [
    "### Ship it?"
   ]
  },
  {
   "cell_type": "markdown",
   "metadata": {},
   "source": [
    "Ok, so we just learned about error due to variance.  We saw that error due to variance comes from our model training on data that has randomness in it, and that because of this, we would expect our model to differ if we were to train it on different subsets of our data.\n",
    "\n",
    "Now one thing to know about error due to variance, is that it results in overfitting.  Overfitting occurs whenever the accuracy of our model is stronger on our training set than on a dataset we see in production.  Let's see why error due to variance can cause overfitting."
   ]
  },
  {
   "cell_type": "markdown",
   "metadata": {},
   "source": [
    "Ok, so let's go back to the first set of parameters we modeled.  "
   ]
  },
  {
   "cell_type": "code",
   "execution_count": 139,
   "metadata": {},
   "outputs": [
    {
     "data": {
      "text/plain": [
       "array([2.92758716])"
      ]
     },
     "execution_count": 139,
     "metadata": {},
     "output_type": "execute_result"
    }
   ],
   "source": [
    "initial_model.coef_"
   ]
  },
  {
   "cell_type": "code",
   "execution_count": 140,
   "metadata": {},
   "outputs": [
    {
     "data": {
      "text/plain": [
       "23.442830299121226"
      ]
     },
     "execution_count": 140,
     "metadata": {},
     "output_type": "execute_result"
    }
   ],
   "source": [
    "initial_model.intercept_"
   ]
  },
  {
   "cell_type": "code",
   "execution_count": 142,
   "metadata": {},
   "outputs": [
    {
     "data": {
      "text/plain": [
       "0.8631884281161578"
      ]
     },
     "execution_count": 142,
     "metadata": {},
     "output_type": "execute_result"
    }
   ],
   "source": [
    "initial_model.score(temperatures.reshape(-1, 1), noisy_customers)"
   ]
  },
  {
   "cell_type": "markdown",
   "metadata": {},
   "source": [
    "So here are the new temperatures and new customer amounts that we see enter the restaurant in the following months."
   ]
  },
  {
   "cell_type": "code",
   "execution_count": 170,
   "metadata": {},
   "outputs": [],
   "source": [
    "seed(10)\n",
    "\n",
    "dataset = build_data_set()\n",
    "new_temps = dataset[:, 0]\n",
    "new_noisy_customers = dataset[:, 1]"
   ]
  },
  {
   "cell_type": "markdown",
   "metadata": {},
   "source": [
    "And because we do not retrain our model -- we already did that -- we use the same model to predict the future amounts of customers."
   ]
  },
  {
   "cell_type": "code",
   "execution_count": 171,
   "metadata": {},
   "outputs": [
    {
     "data": {
      "application/vnd.plotly.v1+json": {
       "config": {
        "linkText": "Export to plot.ly",
        "plotlyServerURL": "https://plot.ly",
        "showLink": false
       },
       "data": [
        {
         "mode": "markers",
         "name": "initial data",
         "text": [],
         "type": "scatter",
         "uid": "e58c4dc0-f16a-4512-8b60-c21abe22e3a9",
         "x": [
          34,
          84,
          91,
          31,
          56,
          89,
          92,
          65,
          50,
          34,
          96,
          92,
          71,
          39,
          61,
          76,
          35,
          83,
          47,
          75,
          78,
          83,
          66,
          63,
          88,
          52,
          68,
          76,
          47,
          88,
          60,
          86,
          78,
          35,
          30,
          60,
          47,
          54,
          68,
          98,
          76,
          60,
          70,
          100,
          87,
          85,
          90,
          38,
          71,
          94
         ],
         "y": [
          82,
          240,
          285,
          83,
          132,
          231,
          299,
          193,
          187,
          146,
          257,
          304,
          183,
          96,
          192,
          260,
          112,
          285,
          120,
          199,
          293,
          307,
          170,
          205,
          245,
          140,
          208,
          243,
          154,
          281,
          171,
          305,
          229,
          83,
          129,
          206,
          123,
          137,
          198,
          312,
          226,
          161,
          254,
          343,
          243,
          314,
          252,
          135,
          271,
          286
         ]
        },
        {
         "mode": "lines",
         "name": "expected",
         "text": [],
         "type": "scatter",
         "uid": "4be6c472-60f7-4537-b6cf-ae674d3ab07b",
         "x": [
          30,
          32,
          33,
          37,
          38,
          41,
          41,
          41,
          43,
          43,
          49,
          51,
          52,
          52,
          54,
          54,
          57,
          58,
          60,
          61,
          61,
          63,
          63,
          64,
          65,
          65,
          66,
          67,
          67,
          67,
          68,
          68,
          69,
          69,
          73,
          76,
          77,
          79,
          80,
          81,
          82,
          84,
          90,
          91,
          94,
          95,
          96,
          98,
          100,
          100
         ],
         "y": [
          106.01947256123583,
          111.71343859349665,
          114.56042160962706,
          125.94835367414869,
          128.7953366902791,
          137.3362857386703,
          137.3362857386703,
          137.3362857386703,
          143.03025177093116,
          143.03025177093116,
          160.1121498677136,
          165.8061158999744,
          168.65309891610482,
          168.65309891610482,
          174.34706494836564,
          174.34706494836564,
          182.88801399675688,
          185.73499701288728,
          191.4289630451481,
          194.27594606127852,
          194.27594606127852,
          199.9699120935393,
          199.9699120935393,
          202.81689510966973,
          205.66387812580015,
          205.66387812580015,
          208.51086114193055,
          211.35784415806094,
          211.35784415806094,
          211.35784415806094,
          214.20482717419137,
          214.20482717419137,
          217.0518101903218,
          217.0518101903218,
          228.43974225484342,
          236.98069130323464,
          239.82767431936506,
          245.52164035162585,
          248.36862336775627,
          251.2156063838867,
          254.0625894000171,
          259.7565554322779,
          276.8384535290604,
          279.6854365451908,
          288.226385593582,
          291.07336860971236,
          293.92035162584284,
          299.6143176581037,
          305.3082836903644,
          305.3082836903644
         ]
        }
       ],
       "layout": {
        "autosize": true,
        "xaxis": {
         "autorange": true,
         "range": [
          25.524728588661038,
          104.47527141133897
         ],
         "type": "linear"
        },
        "yaxis": {
         "autorange": true,
         "range": [
          62.88216560509554,
          362.11783439490443
         ],
         "type": "linear"
        }
       }
      },
      "image/png": "[encoded data removed]",
      "text/html": [
       "<div>\n",
       "        \n",
       "        \n",
       "            <div id=\"7c74199b-a67c-44fb-9597-cb5eabae9f67\" class=\"plotly-graph-div\" style=\"height:525px; width:100%;\"></div>\n",
       "            <script type=\"text/javascript\">\n",
       "                require([\"plotly\"], function(Plotly) {\n",
       "                    window.PLOTLYENV=window.PLOTLYENV || {};\n",
       "                    window.PLOTLYENV.BASE_URL='https://plot.ly';\n",
       "                    \n",
       "                if (document.getElementById(\"7c74199b-a67c-44fb-9597-cb5eabae9f67\")) {\n",
       "                    Plotly.newPlot(\n",
       "                        '7c74199b-a67c-44fb-9597-cb5eabae9f67',\n",
       "                        [{\"mode\": \"markers\", \"name\": \"initial data\", \"text\": [], \"type\": \"scatter\", \"uid\": \"e58c4dc0-f16a-4512-8b60-c21abe22e3a9\", \"x\": [34, 84, 91, 31, 56, 89, 92, 65, 50, 34, 96, 92, 71, 39, 61, 76, 35, 83, 47, 75, 78, 83, 66, 63, 88, 52, 68, 76, 47, 88, 60, 86, 78, 35, 30, 60, 47, 54, 68, 98, 76, 60, 70, 100, 87, 85, 90, 38, 71, 94], \"y\": [82, 240, 285, 83, 132, 231, 299, 193, 187, 146, 257, 304, 183, 96, 192, 260, 112, 285, 120, 199, 293, 307, 170, 205, 245, 140, 208, 243, 154, 281, 171, 305, 229, 83, 129, 206, 123, 137, 198, 312, 226, 161, 254, 343, 243, 314, 252, 135, 271, 286]}, {\"mode\": \"lines\", \"name\": \"expected\", \"text\": [], \"type\": \"scatter\", \"uid\": \"4be6c472-60f7-4537-b6cf-ae674d3ab07b\", \"x\": [30, 32, 33, 37, 38, 41, 41, 41, 43, 43, 49, 51, 52, 52, 54, 54, 57, 58, 60, 61, 61, 63, 63, 64, 65, 65, 66, 67, 67, 67, 68, 68, 69, 69, 73, 76, 77, 79, 80, 81, 82, 84, 90, 91, 94, 95, 96, 98, 100, 100], \"y\": [106.01947256123583, 111.71343859349665, 114.56042160962706, 125.94835367414869, 128.7953366902791, 137.3362857386703, 137.3362857386703, 137.3362857386703, 143.03025177093116, 143.03025177093116, 160.1121498677136, 165.8061158999744, 168.65309891610482, 168.65309891610482, 174.34706494836564, 174.34706494836564, 182.88801399675688, 185.73499701288728, 191.4289630451481, 194.27594606127852, 194.27594606127852, 199.9699120935393, 199.9699120935393, 202.81689510966973, 205.66387812580015, 205.66387812580015, 208.51086114193055, 211.35784415806094, 211.35784415806094, 211.35784415806094, 214.20482717419137, 214.20482717419137, 217.0518101903218, 217.0518101903218, 228.43974225484342, 236.98069130323464, 239.82767431936506, 245.52164035162585, 248.36862336775627, 251.2156063838867, 254.0625894000171, 259.7565554322779, 276.8384535290604, 279.6854365451908, 288.226385593582, 291.07336860971236, 293.92035162584284, 299.6143176581037, 305.3082836903644, 305.3082836903644]}],\n",
       "                        {},\n",
       "                        {\"showLink\": false, \"linkText\": \"Export to plot.ly\", \"plotlyServerURL\": \"https://plot.ly\", \"responsive\": true}\n",
       "                    ).then(function(){\n",
       "                            \n",
       "var gd = document.getElementById('7c74199b-a67c-44fb-9597-cb5eabae9f67');\n",
       "var x = new MutationObserver(function (mutations, observer) {{\n",
       "        var display = window.getComputedStyle(gd).display;\n",
       "        if (!display || display === 'none') {{\n",
       "            console.log([gd, 'removed!']);\n",
       "            Plotly.purge(gd);\n",
       "            observer.disconnect();\n",
       "        }}\n",
       "}});\n",
       "\n",
       "// Listen for the removal of the full notebook cells\n",
       "var notebookContainer = gd.closest('#notebook-container');\n",
       "if (notebookContainer) {{\n",
       "    x.observe(notebookContainer, {childList: true});\n",
       "}}\n",
       "\n",
       "// Listen for the clearing of the current output cell\n",
       "var outputEl = gd.closest('.output');\n",
       "if (outputEl) {{\n",
       "    x.observe(outputEl, {childList: true});\n",
       "}}\n",
       "\n",
       "                        })\n",
       "                };\n",
       "                });\n",
       "            </script>\n",
       "        </div>"
      ]
     },
     "metadata": {},
     "output_type": "display_data"
    }
   ],
   "source": [
    "data_trace = trace_values(new_temps, new_noisy_customers, name = 'initial data')\n",
    "\n",
    "plot([data_trace, model_trace])"
   ]
  },
  {
   "cell_type": "markdown",
   "metadata": {},
   "source": [
    "Ok, it doesn't look bad. Let's see how we did."
   ]
  },
  {
   "cell_type": "code",
   "execution_count": 172,
   "metadata": {},
   "outputs": [
    {
     "data": {
      "text/plain": [
       "0.8324692980187842"
      ]
     },
     "execution_count": 172,
     "metadata": {},
     "output_type": "execute_result"
    }
   ],
   "source": [
    "model.score(new_temps.reshape(-1, 1), new_noisy_customers)"
   ]
  },
  {
   "cell_type": "markdown",
   "metadata": {},
   "source": [
    "So our model performed worse on our future data.  And while this is not always the case, when we follow the approach above, this often occurs.  Why does our model perform worse when we put our data into production than when we trained our model?"
   ]
  },
  {
   "cell_type": "markdown",
   "metadata": {},
   "source": [
    "### This is overfitting"
   ]
  },
  {
   "cell_type": "markdown",
   "metadata": {},
   "source": [
    "The reason why our model performs worse on the production data than on our training data is because our model adjusted to the randomness on the training set.  So it drew a line that was influenced by the random fluctuations.  Because these random fluctuations are unlikely to occur in the future, these adjustments hurt the model's ability to predict future outcomes.  \n",
    "\n",
    "This incorrect model overperforms on the training data because it matches the randomness, but it tends to underperform on the production data because matching the randomness of the training data incorrectly influenced the model.  And this phenomenon is reflected in the difference in how the model scores on the training data versus the production data.  This problem is commonly referred to as the *generalization* problem in machine learning, because our model has a problem generalizing to data that it did not train on."
   ]
  },
  {
   "cell_type": "markdown",
   "metadata": {},
   "source": [
    "### Summary"
   ]
  },
  {
   "cell_type": "markdown",
   "metadata": {},
   "source": [
    "In this lesson, we learned about error due to variance.  Error due to variance occurs because we train on data that has randomness built into it.  Because of this if we imagined (or actually did) train our model on different multiple times, the parameters of our model would vary each time.  This fluctuation is called variance.  Now because this variance is random, if we were to take the average of the parameters we would expect the error due to variance to cancel each other out, and thus equal zero.  We saw a demonstration of this, when we averaged our models, and the parameters approached the true model parameters.\n",
    "\n",
    "We saw that one danger of error due to variance is overfitting.  We have overfitting when our model performs better on data it trained on than on data it did not yet see.  This problem is referred to as a problem of generalization.\n",
    "\n"
   ]
  }
 ],
 "metadata": {
  "kernelspec": {
   "display_name": "Python 3",
   "language": "python",
   "name": "python3"
  },
  "language_info": {
   "codemirror_mode": {
    "name": "ipython",
    "version": 3
   },
   "file_extension": ".py",
   "mimetype": "text/x-python",
   "name": "python",
   "nbconvert_exporter": "python",
   "pygments_lexer": "ipython3",
   "version": "3.7.3"
  }
 },
 "nbformat": 4,
 "nbformat_minor": 2
}
