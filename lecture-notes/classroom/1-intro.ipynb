{
 "cells": [
  {
   "cell_type": "markdown",
   "metadata": {},
   "source": [
    "# Error from machine learning"
   ]
  },
  {
   "cell_type": "markdown",
   "metadata": {},
   "source": [
    "### A perfect model"
   ]
  },
  {
   "cell_type": "markdown",
   "metadata": {},
   "source": [
    "$y_i = \\theta \\cdot x_i + \\epsilon_i$"
   ]
  },
  {
   "cell_type": "markdown",
   "metadata": {},
   "source": [
    "So this says that there really are feature in the real world that underly the outcomes that we see.\n",
    "\n",
    "* And our goal as machine learning engineers is to develop a model to estimate them.  \n",
    "* Because if we discover these parameters, then we don't expect the forces to change."
   ]
  },
  {
   "cell_type": "markdown",
   "metadata": {},
   "source": [
    "So we get to the following:"
   ]
  },
  {
   "cell_type": "markdown",
   "metadata": {},
   "source": [
    "$f_\\theta(x) = \\hat\\theta \\cdot x_i $"
   ]
  },
  {
   "cell_type": "markdown",
   "metadata": {},
   "source": [
    "Essentially we get to a vector of estimated parameters."
   ]
  },
  {
   "cell_type": "markdown",
   "metadata": {},
   "source": [
    "### 3. Sources of error"
   ]
  },
  {
   "cell_type": "markdown",
   "metadata": {},
   "source": [
    "1. Now these parameters are incorrect *estimates*\n",
    "    * So we don't expect them to equal our the true underlying parameters, and thus we don't expect our predictions to equal the outcomes either."
   ]
  },
  {
   "cell_type": "markdown",
   "metadata": {},
   "source": [
    "2. But for good reason, we study these errors\n",
    "    * Because by recognizing where we go wrong, we can begin to see what's fixable, what's not, and where error is fixable, how we can do this."
   ]
  },
  {
   "cell_type": "markdown",
   "metadata": {},
   "source": [
    "3. Categories of error\n",
    "\n",
    "And data scientists placed the errors in three categories, two of which are fixable:\n",
    "1. irreducible error\n",
    "2. Variance - causes each individual training to be incorrect, but in the long run accurate \n",
    "3. Bias - We're not capturing the inputs to the model\n",
    "\n"
   ]
  },
  {
   "cell_type": "markdown",
   "metadata": {},
   "source": [
    "### Coming Up Next\n",
    "   * We'll learn about each of these errors, what causes of them, and what, if anything we can do to fix them."
   ]
  },
  {
   "cell_type": "code",
   "execution_count": null,
   "metadata": {},
   "outputs": [],
   "source": []
  }
 ],
 "metadata": {
  "kernelspec": {
   "display_name": "Python 3",
   "language": "python",
   "name": "python3"
  },
  "language_info": {
   "codemirror_mode": {
    "name": "ipython",
    "version": 3
   },
   "file_extension": ".py",
   "mimetype": "text/x-python",
   "name": "python",
   "nbconvert_exporter": "python",
   "pygments_lexer": "ipython3",
   "version": "3.7.4"
  }
 },
 "nbformat": 4,
 "nbformat_minor": 4
}
