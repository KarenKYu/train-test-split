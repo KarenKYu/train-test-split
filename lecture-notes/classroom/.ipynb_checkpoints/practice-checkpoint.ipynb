{
 "cells": [
  {
   "cell_type": "markdown",
   "metadata": {},
   "source": [
    "# Variance"
   ]
  },
  {
   "cell_type": "markdown",
   "metadata": {},
   "source": [
    "### 1. Training a model on noisy data\n",
    "\n",
    "* View the data set\n",
    "\n",
    "\n",
    "* Training model with error"
   ]
  },
  {
   "cell_type": "markdown",
   "metadata": {},
   "source": [
    "### 2. What went wrong"
   ]
  },
  {
   "cell_type": "markdown",
   "metadata": {},
   "source": [
    "* How linear regression works"
   ]
  },
  {
   "cell_type": "code",
   "execution_count": 1,
   "metadata": {},
   "outputs": [],
   "source": [
    "def build_data_set(theta_1 = 3, theta_2 = 10, error_plus_minus = 50, size = 50):\n",
    "    random_temperatures = list(map(lambda num: randint(30,101), range(0, size)))\n",
    "    perfect_customers = list(map(lambda temp: theta_1*temp + theta_2, random_temperatures))\n",
    "    random_errors = list(map(lambda num: randint(-error_plus_minus,error_plus_minus), range(0, size)))\n",
    "    zipped_customers = list(zip(perfect_customers, random_errors))\n",
    "    noisy_customers = [perfect_customer + error for perfect_customer, error in zipped_customers]\n",
    "    return np.array(list(zip(random_temperatures, noisy_customers)))\n"
   ]
  },
  {
   "cell_type": "code",
   "execution_count": 96,
   "metadata": {},
   "outputs": [],
   "source": [
    "import numpy as np\n",
    "from random import randint \n",
    "def build_feature(size = 50, going_from = [0, 100]):\n",
    "    return np.random.randint(going_from[0],going_from[1],size).reshape(-1, 1)\n",
    "    \n",
    "def build_error(size = 50, error_size = 50):\n",
    "    if error_size == 0:\n",
    "        return np.zeros(size).reshape(-1, 1)\n",
    "    else:\n",
    "        return np.random.randint(-error_size, error_size).reshape(-1, 1)"
   ]
  },
  {
   "cell_type": "code",
   "execution_count": 97,
   "metadata": {},
   "outputs": [],
   "source": [
    "temps = build_feature(size = 50, going_from = [0, 100])"
   ]
  },
  {
   "cell_type": "code",
   "execution_count": 98,
   "metadata": {},
   "outputs": [],
   "source": [
    "is_weekends = build_feature(size = 50, going_from = [0, 1])"
   ]
  },
  {
   "cell_type": "code",
   "execution_count": 111,
   "metadata": {},
   "outputs": [],
   "source": [
    "biases = np.ones((50, 1))"
   ]
  },
  {
   "cell_type": "code",
   "execution_count": 106,
   "metadata": {},
   "outputs": [],
   "source": [
    "features = np.hstack((temps, is_weekends))"
   ]
  },
  {
   "cell_type": "code",
   "execution_count": 112,
   "metadata": {},
   "outputs": [
    {
     "data": {
      "text/plain": [
       "(50, 2)"
      ]
     },
     "execution_count": 112,
     "metadata": {},
     "output_type": "execute_result"
    }
   ],
   "source": [
    "features.shape"
   ]
  },
  {
   "cell_type": "code",
   "execution_count": 116,
   "metadata": {},
   "outputs": [],
   "source": [
    "features_and_bias = np.hstack((features, biases))"
   ]
  },
  {
   "cell_type": "code",
   "execution_count": 117,
   "metadata": {},
   "outputs": [],
   "source": [
    "params = np.array([3, 4, 5])"
   ]
  },
  {
   "cell_type": "code",
   "execution_count": 120,
   "metadata": {},
   "outputs": [
    {
     "data": {
      "text/plain": [
       "array([236., 182.,  74., 107., 239.,  11.,  32.,  71., 155., 302.,  44.,\n",
       "       257., 101., 119., 107., 281., 248.,  92., 263., 134., 116., 275.,\n",
       "        29., 233., 281.,  38., 146.,  44.,  98.,  62., 269., 197.,  92.,\n",
       "       239., 185., 179.,   5.,  92., 113.,  44.,  38.,  83.,  35.,  50.,\n",
       "        80., 197., 161., 146., 149.,  59.])"
      ]
     },
     "execution_count": 120,
     "metadata": {},
     "output_type": "execute_result"
    }
   ],
   "source": [
    "features_and_bias @ params"
   ]
  },
  {
   "cell_type": "code",
   "execution_count": 123,
   "metadata": {},
   "outputs": [
    {
     "data": {
      "text/plain": [
       "(50, 1)"
      ]
     },
     "execution_count": 123,
     "metadata": {},
     "output_type": "execute_result"
    }
   ],
   "source": [
    "temps.shape"
   ]
  },
  {
   "cell_type": "code",
   "execution_count": 127,
   "metadata": {},
   "outputs": [],
   "source": [
    "temps_and_bias = np.hstack((temps, biases))"
   ]
  },
  {
   "cell_type": "code",
   "execution_count": 131,
   "metadata": {},
   "outputs": [],
   "source": [
    "temps_params = np.array([3, 4])"
   ]
  },
  {
   "cell_type": "code",
   "execution_count": 138,
   "metadata": {},
   "outputs": [],
   "source": [
    "predictions = temps_and_bias @ temps_params"
   ]
  },
  {
   "cell_type": "code",
   "execution_count": 144,
   "metadata": {},
   "outputs": [
    {
     "data": {
      "application/vnd.plotly.v1+json": {
       "config": {
        "linkText": "Export to plot.ly",
        "plotlyServerURL": "https://plot.ly",
        "showLink": false
       },
       "data": [
        {
         "mode": "markers",
         "name": "data",
         "text": [],
         "type": "scatter",
         "uid": "ce7e3402-3356-459d-96a2-e3be575c46d8",
         "x": [
          77,
          59,
          23,
          34,
          78,
          2,
          9,
          22,
          50,
          99,
          13,
          84,
          32,
          38,
          34,
          92,
          81,
          29,
          86,
          43,
          37,
          90,
          8,
          76,
          92,
          11,
          47,
          13,
          31,
          19,
          88,
          64,
          29,
          78,
          60,
          58,
          0,
          29,
          36,
          13,
          11,
          26,
          10,
          15,
          25,
          64,
          52,
          47,
          48,
          18
         ],
         "y": [
          235,
          181,
          73,
          106,
          238,
          10,
          31,
          70,
          154,
          301,
          43,
          256,
          100,
          118,
          106,
          280,
          247,
          91,
          262,
          133,
          115,
          274,
          28,
          232,
          280,
          37,
          145,
          43,
          97,
          61,
          268,
          196,
          91,
          238,
          184,
          178,
          4,
          91,
          112,
          43,
          37,
          82,
          34,
          49,
          79,
          196,
          160,
          145,
          148,
          58
         ]
        }
       ],
       "layout": {
        "autosize": true,
        "xaxis": {
         "autorange": true,
         "range": [
          -6.1522770398481965,
          105.1522770398482
         ],
         "type": "linear"
        },
        "yaxis": {
         "autorange": true,
         "range": [
          -17.754777070063692,
          322.7547770700637
         ],
         "type": "linear"
        }
       }
      },
      "image/png": "[encoded data removed]",
      "text/html": [
       "<div>\n",
       "        \n",
       "        \n",
       "            <div id=\"35acdfa4-6235-4695-8941-86623aff26a4\" class=\"plotly-graph-div\" style=\"height:525px; width:100%;\"></div>\n",
       "            <script type=\"text/javascript\">\n",
       "                require([\"plotly\"], function(Plotly) {\n",
       "                    window.PLOTLYENV=window.PLOTLYENV || {};\n",
       "                    window.PLOTLYENV.BASE_URL='https://plot.ly';\n",
       "                    \n",
       "                if (document.getElementById(\"35acdfa4-6235-4695-8941-86623aff26a4\")) {\n",
       "                    Plotly.newPlot(\n",
       "                        '35acdfa4-6235-4695-8941-86623aff26a4',\n",
       "                        [{\"mode\": \"markers\", \"name\": \"data\", \"text\": [], \"type\": \"scatter\", \"uid\": \"ce7e3402-3356-459d-96a2-e3be575c46d8\", \"x\": [77, 59, 23, 34, 78, 2, 9, 22, 50, 99, 13, 84, 32, 38, 34, 92, 81, 29, 86, 43, 37, 90, 8, 76, 92, 11, 47, 13, 31, 19, 88, 64, 29, 78, 60, 58, 0, 29, 36, 13, 11, 26, 10, 15, 25, 64, 52, 47, 48, 18], \"y\": [235.0, 181.0, 73.0, 106.0, 238.0, 10.0, 31.0, 70.0, 154.0, 301.0, 43.0, 256.0, 100.0, 118.0, 106.0, 280.0, 247.0, 91.0, 262.0, 133.0, 115.0, 274.0, 28.0, 232.0, 280.0, 37.0, 145.0, 43.0, 97.0, 61.0, 268.0, 196.0, 91.0, 238.0, 184.0, 178.0, 4.0, 91.0, 112.0, 43.0, 37.0, 82.0, 34.0, 49.0, 79.0, 196.0, 160.0, 145.0, 148.0, 58.0]}],\n",
       "                        {},\n",
       "                        {\"showLink\": false, \"linkText\": \"Export to plot.ly\", \"plotlyServerURL\": \"https://plot.ly\", \"responsive\": true}\n",
       "                    ).then(function(){\n",
       "                            \n",
       "var gd = document.getElementById('35acdfa4-6235-4695-8941-86623aff26a4');\n",
       "var x = new MutationObserver(function (mutations, observer) {{\n",
       "        var display = window.getComputedStyle(gd).display;\n",
       "        if (!display || display === 'none') {{\n",
       "            console.log([gd, 'removed!']);\n",
       "            Plotly.purge(gd);\n",
       "            observer.disconnect();\n",
       "        }}\n",
       "}});\n",
       "\n",
       "// Listen for the removal of the full notebook cells\n",
       "var notebookContainer = gd.closest('#notebook-container');\n",
       "if (notebookContainer) {{\n",
       "    x.observe(notebookContainer, {childList: true});\n",
       "}}\n",
       "\n",
       "// Listen for the clearing of the current output cell\n",
       "var outputEl = gd.closest('.output');\n",
       "if (outputEl) {{\n",
       "    x.observe(outputEl, {childList: true});\n",
       "}}\n",
       "\n",
       "                        })\n",
       "                };\n",
       "                });\n",
       "            </script>\n",
       "        </div>"
      ]
     },
     "metadata": {},
     "output_type": "display_data"
    }
   ],
   "source": [
    "from graph import trace_values, plot\n",
    "plot([trace_values(temps.reshape(50), predictions.reshape(50))])"
   ]
  },
  {
   "cell_type": "code",
   "execution_count": 146,
   "metadata": {},
   "outputs": [],
   "source": [
    "from sklearn.linear_model import LinearRegression"
   ]
  },
  {
   "cell_type": "code",
   "execution_count": 150,
   "metadata": {},
   "outputs": [
    {
     "data": {
      "text/plain": [
       "array([3.])"
      ]
     },
     "execution_count": 150,
     "metadata": {},
     "output_type": "execute_result"
    }
   ],
   "source": [
    "model = LinearRegression()\n",
    "model.fit(temps, predictions)\n",
    "model.coef_"
   ]
  },
  {
   "cell_type": "code",
   "execution_count": 151,
   "metadata": {},
   "outputs": [
    {
     "data": {
      "text/plain": [
       "4.0"
      ]
     },
     "execution_count": 151,
     "metadata": {},
     "output_type": "execute_result"
    }
   ],
   "source": [
    "model.intercept_"
   ]
  },
  {
   "cell_type": "markdown",
   "metadata": {},
   "source": [
    "### "
   ]
  }
 ],
 "metadata": {
  "kernelspec": {
   "display_name": "Python 3",
   "language": "python",
   "name": "python3"
  },
  "language_info": {
   "codemirror_mode": {
    "name": "ipython",
    "version": 3
   },
   "file_extension": ".py",
   "mimetype": "text/x-python",
   "name": "python",
   "nbconvert_exporter": "python",
   "pygments_lexer": "ipython3",
   "version": "3.7.3"
  }
 },
 "nbformat": 4,
 "nbformat_minor": 2
}
