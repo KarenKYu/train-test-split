{
 "cells": [
  {
   "cell_type": "markdown",
   "metadata": {},
   "source": [
    "# Bias"
   ]
  },
  {
   "cell_type": "markdown",
   "metadata": {},
   "source": [
    "### Notes"
   ]
  },
  {
   "cell_type": "code",
   "execution_count": 2,
   "metadata": {},
   "outputs": [],
   "source": [
    "import numpy as np"
   ]
  },
  {
   "cell_type": "code",
   "execution_count": 34,
   "metadata": {},
   "outputs": [],
   "source": [
    "temps = np.random.randint(0, 100, 50).reshape(-1, 1)\n",
    "temps.shape\n",
    "ones = np.ones(50).reshape(-1, 1)\n",
    "is_weekends = np.random.choice([0, 1], 50, p = [.75, .25]).reshape(-1, 1)\n",
    "features = np.hstack((is_weekends, temps, ones))"
   ]
  },
  {
   "cell_type": "code",
   "execution_count": 36,
   "metadata": {},
   "outputs": [],
   "source": [
    "params = np.array([100, 5, 2])"
   ]
  },
  {
   "cell_type": "markdown",
   "metadata": {},
   "source": [
    "### Basic Model"
   ]
  },
  {
   "cell_type": "code",
   "execution_count": 37,
   "metadata": {},
   "outputs": [],
   "source": [
    "customers = features@params"
   ]
  },
  {
   "cell_type": "code",
   "execution_count": 38,
   "metadata": {},
   "outputs": [
    {
     "data": {
      "application/vnd.plotly.v1+json": {
       "config": {
        "linkText": "Export to plot.ly",
        "plotlyServerURL": "https://plot.ly",
        "showLink": false
       },
       "data": [
        {
         "mode": "markers",
         "name": "data",
         "text": [],
         "type": "scatter",
         "uid": "cc9d97b5-d5aa-4b11-916b-28d4c911ec99",
         "x": [
          32,
          63,
          51,
          89,
          17,
          99,
          74,
          43,
          13,
          84,
          45,
          57,
          85,
          1,
          67,
          50,
          67,
          13,
          26,
          66,
          67,
          88,
          61,
          68,
          25,
          85,
          51,
          55,
          14,
          13,
          28,
          69,
          48,
          88,
          27,
          34,
          17,
          1,
          36,
          26,
          61,
          27,
          40,
          12,
          98,
          24,
          27,
          83,
          44,
          68
         ],
         "y": [
          262,
          417,
          257,
          547,
          87,
          497,
          472,
          217,
          67,
          422,
          227,
          387,
          427,
          7,
          437,
          252,
          337,
          67,
          132,
          332,
          337,
          542,
          307,
          342,
          127,
          427,
          257,
          277,
          72,
          67,
          242,
          347,
          342,
          442,
          137,
          272,
          87,
          107,
          182,
          132,
          407,
          137,
          202,
          62,
          492,
          122,
          137,
          517,
          222,
          342
         ]
        }
       ],
       "layout": {
        "autosize": true,
        "xaxis": {
         "autorange": true,
         "range": [
          -5.543887991383953,
          105.54388799138395
         ],
         "type": "linear"
        },
        "yaxis": {
         "autorange": true,
         "range": [
          -32.554140127388536,
          586.5541401273886
         ],
         "type": "linear"
        }
       }
      },
      "image/png": "[encoded data removed]",
      "text/html": [
       "<div>\n",
       "        \n",
       "        \n",
       "            <div id=\"a75b022e-8f32-45e6-a8c5-3d28a6b05d92\" class=\"plotly-graph-div\" style=\"height:525px; width:100%;\"></div>\n",
       "            <script type=\"text/javascript\">\n",
       "                require([\"plotly\"], function(Plotly) {\n",
       "                    window.PLOTLYENV=window.PLOTLYENV || {};\n",
       "                    window.PLOTLYENV.BASE_URL='https://plot.ly';\n",
       "                    \n",
       "                if (document.getElementById(\"a75b022e-8f32-45e6-a8c5-3d28a6b05d92\")) {\n",
       "                    Plotly.newPlot(\n",
       "                        'a75b022e-8f32-45e6-a8c5-3d28a6b05d92',\n",
       "                        [{\"mode\": \"markers\", \"name\": \"data\", \"text\": [], \"type\": \"scatter\", \"uid\": \"cc9d97b5-d5aa-4b11-916b-28d4c911ec99\", \"x\": [32, 63, 51, 89, 17, 99, 74, 43, 13, 84, 45, 57, 85, 1, 67, 50, 67, 13, 26, 66, 67, 88, 61, 68, 25, 85, 51, 55, 14, 13, 28, 69, 48, 88, 27, 34, 17, 1, 36, 26, 61, 27, 40, 12, 98, 24, 27, 83, 44, 68], \"y\": [262.0, 417.0, 257.0, 547.0, 87.0, 497.0, 472.0, 217.0, 67.0, 422.0, 227.0, 387.0, 427.0, 7.0, 437.0, 252.0, 337.0, 67.0, 132.0, 332.0, 337.0, 542.0, 307.0, 342.0, 127.0, 427.0, 257.0, 277.0, 72.0, 67.0, 242.0, 347.0, 342.0, 442.0, 137.0, 272.0, 87.0, 107.0, 182.0, 132.0, 407.0, 137.0, 202.0, 62.0, 492.0, 122.0, 137.0, 517.0, 222.0, 342.0]}],\n",
       "                        {},\n",
       "                        {\"showLink\": false, \"linkText\": \"Export to plot.ly\", \"plotlyServerURL\": \"https://plot.ly\", \"responsive\": true}\n",
       "                    ).then(function(){\n",
       "                            \n",
       "var gd = document.getElementById('a75b022e-8f32-45e6-a8c5-3d28a6b05d92');\n",
       "var x = new MutationObserver(function (mutations, observer) {{\n",
       "        var display = window.getComputedStyle(gd).display;\n",
       "        if (!display || display === 'none') {{\n",
       "            console.log([gd, 'removed!']);\n",
       "            Plotly.purge(gd);\n",
       "            observer.disconnect();\n",
       "        }}\n",
       "}});\n",
       "\n",
       "// Listen for the removal of the full notebook cells\n",
       "var notebookContainer = gd.closest('#notebook-container');\n",
       "if (notebookContainer) {{\n",
       "    x.observe(notebookContainer, {childList: true});\n",
       "}}\n",
       "\n",
       "// Listen for the clearing of the current output cell\n",
       "var outputEl = gd.closest('.output');\n",
       "if (outputEl) {{\n",
       "    x.observe(outputEl, {childList: true});\n",
       "}}\n",
       "\n",
       "                        })\n",
       "                };\n",
       "                });\n",
       "            </script>\n",
       "        </div>"
      ]
     },
     "metadata": {},
     "output_type": "display_data"
    }
   ],
   "source": [
    "from graph import trace_values, plot\n",
    "trace = trace_values(temps.flatten(),customers)\n",
    "plot([trace])"
   ]
  },
  {
   "cell_type": "code",
   "execution_count": 26,
   "metadata": {},
   "outputs": [],
   "source": [
    "from sklearn.linear_model import LinearRegression"
   ]
  },
  {
   "cell_type": "code",
   "execution_count": 44,
   "metadata": {},
   "outputs": [
    {
     "data": {
      "text/plain": [
       "array([ 5.25933802, 15.41173263])"
      ]
     },
     "execution_count": 44,
     "metadata": {},
     "output_type": "execute_result"
    }
   ],
   "source": [
    "model = LinearRegression(fit_intercept = False)\n",
    "model.fit(features[:, 1:], customers)\n",
    "model.coef_"
   ]
  },
  {
   "cell_type": "code",
   "execution_count": 45,
   "metadata": {},
   "outputs": [],
   "source": [
    "predictions = model.predict(features[:, 1:])"
   ]
  },
  {
   "cell_type": "code",
   "execution_count": 46,
   "metadata": {},
   "outputs": [
    {
     "data": {
      "application/vnd.plotly.v1+json": {
       "config": {
        "linkText": "Export to plot.ly",
        "plotlyServerURL": "https://plot.ly",
        "showLink": false
       },
       "data": [
        {
         "mode": "markers",
         "name": "data",
         "text": [],
         "type": "scatter",
         "uid": "0bdca9b9-a06e-4912-814f-1a0fa5ae28a9",
         "x": [
          32,
          63,
          51,
          89,
          17,
          99,
          74,
          43,
          13,
          84,
          45,
          57,
          85,
          1,
          67,
          50,
          67,
          13,
          26,
          66,
          67,
          88,
          61,
          68,
          25,
          85,
          51,
          55,
          14,
          13,
          28,
          69,
          48,
          88,
          27,
          34,
          17,
          1,
          36,
          26,
          61,
          27,
          40,
          12,
          98,
          24,
          27,
          83,
          44,
          68
         ],
         "y": [
          262,
          417,
          257,
          547,
          87,
          497,
          472,
          217,
          67,
          422,
          227,
          387,
          427,
          7,
          437,
          252,
          337,
          67,
          132,
          332,
          337,
          542,
          307,
          342,
          127,
          427,
          257,
          277,
          72,
          67,
          242,
          347,
          342,
          442,
          137,
          272,
          87,
          107,
          182,
          132,
          407,
          137,
          202,
          62,
          492,
          122,
          137,
          517,
          222,
          342
         ]
        },
        {
         "mode": "lines",
         "name": "data",
         "text": [],
         "type": "scatter",
         "uid": "90501f27-2b35-4a4a-94e7-ae85be38ba24",
         "x": [
          32,
          63,
          51,
          89,
          17,
          99,
          74,
          43,
          13,
          84,
          45,
          57,
          85,
          1,
          67,
          50,
          67,
          13,
          26,
          66,
          67,
          88,
          61,
          68,
          25,
          85,
          51,
          55,
          14,
          13,
          28,
          69,
          48,
          88,
          27,
          34,
          17,
          1,
          36,
          26,
          61,
          27,
          40,
          12,
          98,
          24,
          27,
          83,
          44,
          68
         ],
         "y": [
          183.71054919061032,
          346.75002773299707,
          283.6379715230409,
          483.49281618790206,
          104.82047892816514,
          536.0861963628655,
          404.6027459254569,
          241.56326738307013,
          83.78312685817976,
          457.1961261004204,
          252.08194341806282,
          315.193999628019,
          462.4554641179167,
          20.671070648223598,
          367.78737980298246,
          278.3786335055446,
          367.78737980298246,
          83.78312685817976,
          152.15452108563224,
          362.5280417854861,
          367.78737980298246,
          478.23347817040576,
          336.2313516980044,
          373.0467178204788,
          146.8951830681359,
          462.4554641179167,
          283.6379715230409,
          304.6753235930263,
          89.0424648756761,
          83.78312685817976,
          162.67319712062493,
          378.3060558379752,
          267.8599574705519,
          478.23347817040576,
          157.4138591031286,
          194.22922522560302,
          104.82047892816514,
          20.671070648223598,
          204.7479012605957,
          152.15452108563224,
          336.2313516980044,
          157.4138591031286,
          225.7852533305811,
          78.52378884068341,
          530.8268583453691,
          141.63584505063955,
          157.4138591031286,
          451.936788082924,
          246.8226054005665,
          373.0467178204788
         ]
        }
       ],
       "layout": {
        "autosize": true,
        "xaxis": {
         "autorange": true,
         "range": [
          -5.571192052980132,
          105.57119205298014
         ],
         "type": "linear"
        },
        "yaxis": {
         "autorange": true,
         "range": [
          -32.554140127388536,
          586.5541401273886
         ],
         "type": "linear"
        }
       }
      },
      "image/png": "[encoded data removed]",
      "text/html": [
       "<div>\n",
       "        \n",
       "        \n",
       "            <div id=\"921f1610-094c-4ecb-b545-ba309a9d7236\" class=\"plotly-graph-div\" style=\"height:525px; width:100%;\"></div>\n",
       "            <script type=\"text/javascript\">\n",
       "                require([\"plotly\"], function(Plotly) {\n",
       "                    window.PLOTLYENV=window.PLOTLYENV || {};\n",
       "                    window.PLOTLYENV.BASE_URL='https://plot.ly';\n",
       "                    \n",
       "                if (document.getElementById(\"921f1610-094c-4ecb-b545-ba309a9d7236\")) {\n",
       "                    Plotly.newPlot(\n",
       "                        '921f1610-094c-4ecb-b545-ba309a9d7236',\n",
       "                        [{\"mode\": \"markers\", \"name\": \"data\", \"text\": [], \"type\": \"scatter\", \"uid\": \"0bdca9b9-a06e-4912-814f-1a0fa5ae28a9\", \"x\": [32, 63, 51, 89, 17, 99, 74, 43, 13, 84, 45, 57, 85, 1, 67, 50, 67, 13, 26, 66, 67, 88, 61, 68, 25, 85, 51, 55, 14, 13, 28, 69, 48, 88, 27, 34, 17, 1, 36, 26, 61, 27, 40, 12, 98, 24, 27, 83, 44, 68], \"y\": [262.0, 417.0, 257.0, 547.0, 87.0, 497.0, 472.0, 217.0, 67.0, 422.0, 227.0, 387.0, 427.0, 7.0, 437.0, 252.0, 337.0, 67.0, 132.0, 332.0, 337.0, 542.0, 307.0, 342.0, 127.0, 427.0, 257.0, 277.0, 72.0, 67.0, 242.0, 347.0, 342.0, 442.0, 137.0, 272.0, 87.0, 107.0, 182.0, 132.0, 407.0, 137.0, 202.0, 62.0, 492.0, 122.0, 137.0, 517.0, 222.0, 342.0]}, {\"mode\": \"lines\", \"name\": \"data\", \"text\": [], \"type\": \"scatter\", \"uid\": \"90501f27-2b35-4a4a-94e7-ae85be38ba24\", \"x\": [32, 63, 51, 89, 17, 99, 74, 43, 13, 84, 45, 57, 85, 1, 67, 50, 67, 13, 26, 66, 67, 88, 61, 68, 25, 85, 51, 55, 14, 13, 28, 69, 48, 88, 27, 34, 17, 1, 36, 26, 61, 27, 40, 12, 98, 24, 27, 83, 44, 68], \"y\": [183.71054919061032, 346.75002773299707, 283.6379715230409, 483.49281618790206, 104.82047892816514, 536.0861963628655, 404.6027459254569, 241.56326738307013, 83.78312685817976, 457.1961261004204, 252.08194341806282, 315.193999628019, 462.4554641179167, 20.671070648223598, 367.78737980298246, 278.3786335055446, 367.78737980298246, 83.78312685817976, 152.15452108563224, 362.5280417854861, 367.78737980298246, 478.23347817040576, 336.2313516980044, 373.0467178204788, 146.8951830681359, 462.4554641179167, 283.6379715230409, 304.6753235930263, 89.0424648756761, 83.78312685817976, 162.67319712062493, 378.3060558379752, 267.8599574705519, 478.23347817040576, 157.4138591031286, 194.22922522560302, 104.82047892816514, 20.671070648223598, 204.7479012605957, 152.15452108563224, 336.2313516980044, 157.4138591031286, 225.7852533305811, 78.52378884068341, 530.8268583453691, 141.63584505063955, 157.4138591031286, 451.936788082924, 246.8226054005665, 373.0467178204788]}],\n",
       "                        {},\n",
       "                        {\"showLink\": false, \"linkText\": \"Export to plot.ly\", \"plotlyServerURL\": \"https://plot.ly\", \"responsive\": true}\n",
       "                    ).then(function(){\n",
       "                            \n",
       "var gd = document.getElementById('921f1610-094c-4ecb-b545-ba309a9d7236');\n",
       "var x = new MutationObserver(function (mutations, observer) {{\n",
       "        var display = window.getComputedStyle(gd).display;\n",
       "        if (!display || display === 'none') {{\n",
       "            console.log([gd, 'removed!']);\n",
       "            Plotly.purge(gd);\n",
       "            observer.disconnect();\n",
       "        }}\n",
       "}});\n",
       "\n",
       "// Listen for the removal of the full notebook cells\n",
       "var notebookContainer = gd.closest('#notebook-container');\n",
       "if (notebookContainer) {{\n",
       "    x.observe(notebookContainer, {childList: true});\n",
       "}}\n",
       "\n",
       "// Listen for the clearing of the current output cell\n",
       "var outputEl = gd.closest('.output');\n",
       "if (outputEl) {{\n",
       "    x.observe(outputEl, {childList: true});\n",
       "}}\n",
       "\n",
       "                        })\n",
       "                };\n",
       "                });\n",
       "            </script>\n",
       "        </div>"
      ]
     },
     "metadata": {},
     "output_type": "display_data"
    }
   ],
   "source": [
    "from graph import trace_values, plot\n",
    "data_trace = trace_values(temps.flatten(),customers)\n",
    "predictions_trace = trace_values(temps.flatten(),predictions, mode = 'lines')\n",
    "plot([data_trace, predictions_trace])"
   ]
  },
  {
   "cell_type": "markdown",
   "metadata": {},
   "source": [
    "### Updated Model"
   ]
  },
  {
   "cell_type": "code",
   "execution_count": 48,
   "metadata": {},
   "outputs": [
    {
     "data": {
      "text/plain": [
       "LinearRegression(copy_X=True, fit_intercept=False, n_jobs=None,\n",
       "         normalize=False)"
      ]
     },
     "execution_count": 48,
     "metadata": {},
     "output_type": "execute_result"
    }
   ],
   "source": [
    "model = LinearRegression(fit_intercept=False)\n",
    "model.fit(features, customers)"
   ]
  },
  {
   "cell_type": "code",
   "execution_count": 49,
   "metadata": {},
   "outputs": [
    {
     "data": {
      "text/plain": [
       "array([100.,   5.,   2.])"
      ]
     },
     "execution_count": 49,
     "metadata": {},
     "output_type": "execute_result"
    }
   ],
   "source": [
    "model.coef_"
   ]
  },
  {
   "cell_type": "code",
   "execution_count": null,
   "metadata": {},
   "outputs": [],
   "source": []
  }
 ],
 "metadata": {
  "kernelspec": {
   "display_name": "Python 3",
   "language": "python",
   "name": "python3"
  },
  "language_info": {
   "codemirror_mode": {
    "name": "ipython",
    "version": 3
   },
   "file_extension": ".py",
   "mimetype": "text/x-python",
   "name": "python",
   "nbconvert_exporter": "python",
   "pygments_lexer": "ipython3",
   "version": "3.7.3"
  }
 },
 "nbformat": 4,
 "nbformat_minor": 2
}
