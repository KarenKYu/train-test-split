{
 "cells": [
  {
   "cell_type": "markdown",
   "metadata": {},
   "source": [
    "### Discussion Questions\n",
    "1. what is irreducible error?\n",
    "2. What is variance?\n",
    "3. How could we use aggregation to reduce the effect of variance?\n",
    "4. How does variance differ to bias?\n",
    "5. How can holdout sets help us detect variance?\n",
    "6. What is R squared?  Feel free to use wikipedia to answer.\n"
   ]
  },
  {
   "cell_type": "code",
   "execution_count": 1,
   "metadata": {},
   "outputs": [],
   "source": [
    "import numpy as np"
   ]
  },
  {
   "cell_type": "code",
   "execution_count": 4,
   "metadata": {},
   "outputs": [],
   "source": [
    "temperatures = np.random.randint(0, 105, 150)"
   ]
  },
  {
   "cell_type": "code",
   "execution_count": 5,
   "metadata": {},
   "outputs": [
    {
     "data": {
      "text/plain": [
       "array([78, 84, 91])"
      ]
     },
     "execution_count": 5,
     "metadata": {},
     "output_type": "execute_result"
    }
   ],
   "source": [
    "temperatures[0:3]"
   ]
  },
  {
   "cell_type": "markdown",
   "metadata": {},
   "source": [
    "$ y = 5*temperature + 40*1 + \\epsilon_i$"
   ]
  },
  {
   "cell_type": "code",
   "execution_count": 8,
   "metadata": {},
   "outputs": [],
   "source": [
    "params = np.array([5, 40])"
   ]
  },
  {
   "cell_type": "code",
   "execution_count": 11,
   "metadata": {},
   "outputs": [],
   "source": [
    "ones = np.ones(150)"
   ]
  },
  {
   "cell_type": "code",
   "execution_count": 17,
   "metadata": {},
   "outputs": [],
   "source": [
    "features_matrix = np.hstack((temperatures.reshape(-1, 1), ones.reshape(-1, 1)))"
   ]
  },
  {
   "cell_type": "code",
   "execution_count": 18,
   "metadata": {},
   "outputs": [
    {
     "data": {
      "text/plain": [
       "(150, 2)"
      ]
     },
     "execution_count": 18,
     "metadata": {},
     "output_type": "execute_result"
    }
   ],
   "source": [
    "features_matrix.shape"
   ]
  },
  {
   "cell_type": "code",
   "execution_count": 23,
   "metadata": {},
   "outputs": [
    {
     "data": {
      "text/plain": [
       "array([[78.,  1.],\n",
       "       [84.,  1.],\n",
       "       [91.,  1.]])"
      ]
     },
     "execution_count": 23,
     "metadata": {},
     "output_type": "execute_result"
    }
   ],
   "source": [
    "features_matrix[:3, :]"
   ]
  },
  {
   "cell_type": "code",
   "execution_count": 22,
   "metadata": {},
   "outputs": [
    {
     "data": {
      "text/plain": [
       "array([ 5, 40])"
      ]
     },
     "execution_count": 22,
     "metadata": {},
     "output_type": "execute_result"
    }
   ],
   "source": [
    "params"
   ]
  },
  {
   "cell_type": "code",
   "execution_count": 25,
   "metadata": {},
   "outputs": [],
   "source": [
    "customers = features_matrix@params"
   ]
  },
  {
   "cell_type": "code",
   "execution_count": 29,
   "metadata": {},
   "outputs": [],
   "source": [
    "noisy_customers = customers + errors"
   ]
  },
  {
   "cell_type": "code",
   "execution_count": 26,
   "metadata": {},
   "outputs": [
    {
     "data": {
      "text/html": [
       "        <script type=\"text/javascript\">\n",
       "        window.PlotlyConfig = {MathJaxConfig: 'local'};\n",
       "        if (window.MathJax) {MathJax.Hub.Config({SVG: {font: \"STIX-Web\"}});}\n",
       "        if (typeof require !== 'undefined') {\n",
       "        require.undef(\"plotly\");\n",
       "        requirejs.config({\n",
       "            paths: {\n",
       "                'plotly': ['https://cdn.plot.ly/plotly-latest.min']\n",
       "            }\n",
       "        });\n",
       "        require(['plotly'], function(Plotly) {\n",
       "            window._Plotly = Plotly;\n",
       "        });\n",
       "        }\n",
       "        </script>\n",
       "        "
      ]
     },
     "metadata": {},
     "output_type": "display_data"
    }
   ],
   "source": [
    "from graph import trace_values, plot"
   ]
  },
  {
   "cell_type": "code",
   "execution_count": 31,
   "metadata": {},
   "outputs": [
    {
     "data": {
      "text/plain": [
       "array([-24,  25,  17,  10,  16,   0, -18,  17,   7,   9, -29,  15,  26,\n",
       "       -19,  16,  29,   8,  11, -11,  27, -25, -19, -20,  18,   4,  21,\n",
       "       -30,   7, -13, -17,  15,   9,   7,   5, -25, -28,  28,   4,  24,\n",
       "         3,   8,   8, -22,  23, -22,  27, -14, -18,  20, -12,  15,  -6,\n",
       "         5, -30, -10,  20, -17,  -4, -11, -22,  27,  -6, -22,   2,  -4,\n",
       "       -29,   4,   9,  13,  -4, -11, -30,  16, -30,  19,  -6,  -1, -25,\n",
       "       -21, -29,  10, -24,  19,  -2, -18,  28, -23, -11, -28,  17, -15,\n",
       "         6, -26,  24,   3, -27,   6,  20, -24,  11,   4,  20,  23,  -3,\n",
       "        -7,  28, -12,   6, -16,   7,   2,   2, -18,   7, -12, -24,  -8,\n",
       "       -21, -26, -21,   2,   4,  29, -17, -28,  -6, -14,  -4,  -4, -25,\n",
       "        23, -20, -20, -18,  -3,  14,  15, -27, -19,  18,  -4,  22, -17,\n",
       "       -17,  10, -15,   0, -28,  28,  11])"
      ]
     },
     "execution_count": 31,
     "metadata": {},
     "output_type": "execute_result"
    }
   ],
   "source": [
    "errors = np.random.randint(-30, 30, 150)\n",
    "errors"
   ]
  },
  {
   "cell_type": "markdown",
   "metadata": {},
   "source": [
    "$ y = 5*temperature + 40*1 + \\epsilon_i$"
   ]
  },
  {
   "cell_type": "code",
   "execution_count": null,
   "metadata": {},
   "outputs": [],
   "source": [
    "model.predict()"
   ]
  },
  {
   "cell_type": "code",
   "execution_count": 41,
   "metadata": {},
   "outputs": [
    {
     "data": {
      "application/vnd.plotly.v1+json": {
       "config": {
        "linkText": "Export to plot.ly",
        "plotlyServerURL": "https://plot.ly",
        "showLink": false
       },
       "data": [
        {
         "mode": "markers",
         "name": "data",
         "text": [],
         "type": "scatter",
         "uid": "15ad867d-d182-4252-840f-f1e55f1717ff",
         "x": [
          78,
          84,
          91,
          102,
          56,
          11,
          37,
          49,
          68,
          95,
          28,
          60,
          10,
          80,
          55,
          45,
          91,
          18,
          51,
          62,
          56,
          15,
          102,
          32,
          96,
          33,
          55,
          82,
          31,
          83,
          0,
          43,
          85,
          23,
          94,
          104,
          80,
          20,
          57,
          30,
          97,
          16,
          94,
          33,
          33,
          30,
          75,
          96,
          63,
          45,
          88,
          23,
          31,
          20,
          41,
          19,
          54,
          77,
          91,
          88,
          85,
          91,
          96,
          37,
          36,
          19,
          41,
          103,
          96,
          26,
          95,
          21,
          72,
          24,
          54,
          46,
          75,
          16,
          48,
          102,
          78,
          87,
          69,
          70,
          26,
          100,
          45,
          35,
          49,
          16,
          38,
          21,
          2,
          73,
          51,
          88,
          74,
          78,
          35,
          35,
          92,
          87,
          13,
          94,
          6,
          16,
          94,
          61,
          101,
          52,
          4,
          7,
          1,
          56,
          79,
          8,
          73,
          72,
          103,
          17,
          17,
          95,
          20,
          98,
          54,
          21,
          70,
          30,
          45,
          92,
          64,
          31,
          90,
          24,
          0,
          86,
          96,
          20,
          23,
          87,
          75,
          88,
          47,
          103,
          1,
          79,
          15,
          54,
          73,
          51
         ],
         "y": [
          406,
          458,
          503,
          522,
          323,
          84,
          249,
          283,
          365,
          499,
          186,
          310,
          117,
          427,
          323,
          250,
          465,
          159,
          286,
          352,
          294,
          131,
          574,
          212,
          547,
          193,
          313,
          430,
          218,
          431,
          14,
          236,
          451,
          126,
          481,
          540,
          436,
          140,
          348,
          205,
          546,
          97,
          493,
          225,
          227,
          193,
          444,
          497,
          332,
          268,
          505,
          155,
          179,
          149,
          227,
          109,
          329,
          432,
          475,
          461,
          453,
          473,
          544,
          228,
          224,
          126,
          220,
          580,
          526,
          191,
          521,
          166,
          412,
          131,
          316,
          289,
          397,
          107,
          263,
          564,
          452,
          454,
          371,
          371,
          156,
          533,
          274,
          208,
          294,
          142,
          239,
          141,
          39,
          429,
          300,
          483,
          385,
          456,
          222,
          220,
          521,
          492,
          81,
          484,
          89,
          123,
          525,
          344,
          560,
          305,
          83,
          98,
          34,
          347,
          411,
          99,
          406,
          373,
          580,
          128,
          149,
          516,
          130,
          524,
          317,
          145,
          411,
          178,
          257,
          509,
          338,
          173,
          519,
          140,
          63,
          469,
          524,
          129,
          167,
          450,
          426,
          478,
          295,
          549,
          67,
          460,
          109,
          292,
          430,
          308
         ]
        }
       ],
       "layout": {
        "autosize": true,
        "xaxis": {
         "autorange": true,
         "range": [
          -6.944534194938074,
          110.94453419493807
         ],
         "type": "linear"
        },
        "yaxis": {
         "autorange": true,
         "range": [
          -27.45859872611465,
          621.4585987261147
         ],
         "type": "linear"
        }
       }
      },
      "image/png": "[encoded data removed]",
      "text/html": [
       "<div>\n",
       "        \n",
       "        \n",
       "            <div id=\"21139935-1d85-4778-8693-2bb3beb50834\" class=\"plotly-graph-div\" style=\"height:525px; width:100%;\"></div>\n",
       "            <script type=\"text/javascript\">\n",
       "                require([\"plotly\"], function(Plotly) {\n",
       "                    window.PLOTLYENV=window.PLOTLYENV || {};\n",
       "                    window.PLOTLYENV.BASE_URL='https://plot.ly';\n",
       "                    \n",
       "                if (document.getElementById(\"21139935-1d85-4778-8693-2bb3beb50834\")) {\n",
       "                    Plotly.newPlot(\n",
       "                        '21139935-1d85-4778-8693-2bb3beb50834',\n",
       "                        [{\"mode\": \"markers\", \"name\": \"data\", \"text\": [], \"type\": \"scatter\", \"uid\": \"15ad867d-d182-4252-840f-f1e55f1717ff\", \"x\": [78, 84, 91, 102, 56, 11, 37, 49, 68, 95, 28, 60, 10, 80, 55, 45, 91, 18, 51, 62, 56, 15, 102, 32, 96, 33, 55, 82, 31, 83, 0, 43, 85, 23, 94, 104, 80, 20, 57, 30, 97, 16, 94, 33, 33, 30, 75, 96, 63, 45, 88, 23, 31, 20, 41, 19, 54, 77, 91, 88, 85, 91, 96, 37, 36, 19, 41, 103, 96, 26, 95, 21, 72, 24, 54, 46, 75, 16, 48, 102, 78, 87, 69, 70, 26, 100, 45, 35, 49, 16, 38, 21, 2, 73, 51, 88, 74, 78, 35, 35, 92, 87, 13, 94, 6, 16, 94, 61, 101, 52, 4, 7, 1, 56, 79, 8, 73, 72, 103, 17, 17, 95, 20, 98, 54, 21, 70, 30, 45, 92, 64, 31, 90, 24, 0, 86, 96, 20, 23, 87, 75, 88, 47, 103, 1, 79, 15, 54, 73, 51], \"y\": [406.0, 458.0, 503.0, 522.0, 323.0, 84.0, 249.0, 283.0, 365.0, 499.0, 186.0, 310.0, 117.0, 427.0, 323.0, 250.0, 465.0, 159.0, 286.0, 352.0, 294.0, 131.0, 574.0, 212.0, 547.0, 193.0, 313.0, 430.0, 218.0, 431.0, 14.0, 236.0, 451.0, 126.0, 481.0, 540.0, 436.0, 140.0, 348.0, 205.0, 546.0, 97.0, 493.0, 225.0, 227.0, 193.0, 444.0, 497.0, 332.0, 268.0, 505.0, 155.0, 179.0, 149.0, 227.0, 109.0, 329.0, 432.0, 475.0, 461.0, 453.0, 473.0, 544.0, 228.0, 224.0, 126.0, 220.0, 580.0, 526.0, 191.0, 521.0, 166.0, 412.0, 131.0, 316.0, 289.0, 397.0, 107.0, 263.0, 564.0, 452.0, 454.0, 371.0, 371.0, 156.0, 533.0, 274.0, 208.0, 294.0, 142.0, 239.0, 141.0, 39.0, 429.0, 300.0, 483.0, 385.0, 456.0, 222.0, 220.0, 521.0, 492.0, 81.0, 484.0, 89.0, 123.0, 525.0, 344.0, 560.0, 305.0, 83.0, 98.0, 34.0, 347.0, 411.0, 99.0, 406.0, 373.0, 580.0, 128.0, 149.0, 516.0, 130.0, 524.0, 317.0, 145.0, 411.0, 178.0, 257.0, 509.0, 338.0, 173.0, 519.0, 140.0, 63.0, 469.0, 524.0, 129.0, 167.0, 450.0, 426.0, 478.0, 295.0, 549.0, 67.0, 460.0, 109.0, 292.0, 430.0, 308.0]}],\n",
       "                        {},\n",
       "                        {\"showLink\": false, \"linkText\": \"Export to plot.ly\", \"plotlyServerURL\": \"https://plot.ly\", \"responsive\": true}\n",
       "                    ).then(function(){\n",
       "                            \n",
       "var gd = document.getElementById('21139935-1d85-4778-8693-2bb3beb50834');\n",
       "var x = new MutationObserver(function (mutations, observer) {{\n",
       "        var display = window.getComputedStyle(gd).display;\n",
       "        if (!display || display === 'none') {{\n",
       "            console.log([gd, 'removed!']);\n",
       "            Plotly.purge(gd);\n",
       "            observer.disconnect();\n",
       "        }}\n",
       "}});\n",
       "\n",
       "// Listen for the removal of the full notebook cells\n",
       "var notebookContainer = gd.closest('#notebook-container');\n",
       "if (notebookContainer) {{\n",
       "    x.observe(notebookContainer, {childList: true});\n",
       "}}\n",
       "\n",
       "// Listen for the clearing of the current output cell\n",
       "var outputEl = gd.closest('.output');\n",
       "if (outputEl) {{\n",
       "    x.observe(outputEl, {childList: true});\n",
       "}}\n",
       "\n",
       "                        })\n",
       "                };\n",
       "                });\n",
       "            </script>\n",
       "        </div>"
      ]
     },
     "metadata": {},
     "output_type": "display_data"
    }
   ],
   "source": [
    "\n",
    "trace = trace_values(temperatures, noisy_customers)\n",
    "plot([trace])"
   ]
  },
  {
   "cell_type": "code",
   "execution_count": 34,
   "metadata": {},
   "outputs": [],
   "source": [
    "from sklearn.linear_model import LinearRegression"
   ]
  },
  {
   "cell_type": "code",
   "execution_count": 35,
   "metadata": {},
   "outputs": [],
   "source": [
    "model = LinearRegression(fit_intercept = False)"
   ]
  },
  {
   "cell_type": "code",
   "execution_count": 36,
   "metadata": {},
   "outputs": [
    {
     "data": {
      "text/plain": [
       "LinearRegression(copy_X=True, fit_intercept=False, n_jobs=None,\n",
       "         normalize=False)"
      ]
     },
     "execution_count": 36,
     "metadata": {},
     "output_type": "execute_result"
    }
   ],
   "source": [
    "model.fit(features_matrix, customers)"
   ]
  },
  {
   "cell_type": "code",
   "execution_count": 37,
   "metadata": {},
   "outputs": [
    {
     "data": {
      "text/plain": [
       "array([ 5., 40.])"
      ]
     },
     "execution_count": 37,
     "metadata": {},
     "output_type": "execute_result"
    }
   ],
   "source": [
    "model.coef_"
   ]
  },
  {
   "cell_type": "code",
   "execution_count": null,
   "metadata": {},
   "outputs": [],
   "source": [
    "model.predict()"
   ]
  },
  {
   "cell_type": "code",
   "execution_count": 38,
   "metadata": {},
   "outputs": [
    {
     "data": {
      "text/plain": [
       "LinearRegression(copy_X=True, fit_intercept=False, n_jobs=None,\n",
       "         normalize=False)"
      ]
     },
     "execution_count": 38,
     "metadata": {},
     "output_type": "execute_result"
    }
   ],
   "source": [
    "variance_model = LinearRegression(fit_intercept=False)\n",
    "variance_model.fit(features_matrix, noisy_customers)"
   ]
  },
  {
   "cell_type": "code",
   "execution_count": 40,
   "metadata": {},
   "outputs": [
    {
     "data": {
      "text/plain": [
       "array([ 4.96420806, 42.09098646])"
      ]
     },
     "execution_count": 40,
     "metadata": {},
     "output_type": "execute_result"
    }
   ],
   "source": [
    "variance_model.coef_"
   ]
  },
  {
   "cell_type": "code",
   "execution_count": 44,
   "metadata": {},
   "outputs": [],
   "source": [
    "updated_errors = np.random.randint(-30, 30, 150)\n",
    "updated_customers = customers + updated_errors"
   ]
  },
  {
   "cell_type": "code",
   "execution_count": 45,
   "metadata": {},
   "outputs": [],
   "source": [
    "updated_variance_model = LinearRegression(fit_intercept=False)"
   ]
  },
  {
   "cell_type": "code",
   "execution_count": 46,
   "metadata": {},
   "outputs": [
    {
     "data": {
      "text/plain": [
       "LinearRegression(copy_X=True, fit_intercept=False, n_jobs=None,\n",
       "         normalize=False)"
      ]
     },
     "execution_count": 46,
     "metadata": {},
     "output_type": "execute_result"
    }
   ],
   "source": [
    "updated_variance_model.fit(features_matrix, updated_customers)"
   ]
  },
  {
   "cell_type": "code",
   "execution_count": 47,
   "metadata": {},
   "outputs": [
    {
     "data": {
      "text/plain": [
       "array([ 5.00211892, 38.00879809])"
      ]
     },
     "execution_count": 47,
     "metadata": {},
     "output_type": "execute_result"
    }
   ],
   "source": [
    "updated_variance_model.coef_"
   ]
  },
  {
   "cell_type": "code",
   "execution_count": 63,
   "metadata": {},
   "outputs": [],
   "source": [
    "models = []\n",
    "for idx in range(0, 10000):\n",
    "    updated_errors = np.random.randint(-30, 30, 150)\n",
    "    new_customers = customers + updated_errors\n",
    "    model = LinearRegression(fit_intercept=False)\n",
    "    model.fit(features_matrix, new_customers)\n",
    "    models.append(model)"
   ]
  },
  {
   "cell_type": "code",
   "execution_count": 64,
   "metadata": {},
   "outputs": [],
   "source": [
    "coefs = np.array([model.coef_ for model in models])"
   ]
  },
  {
   "cell_type": "code",
   "execution_count": 65,
   "metadata": {},
   "outputs": [
    {
     "data": {
      "text/plain": [
       "4.999399436326282"
      ]
     },
     "execution_count": 65,
     "metadata": {},
     "output_type": "execute_result"
    }
   ],
   "source": [
    "np.average(coefs[:, 0])"
   ]
  },
  {
   "cell_type": "markdown",
   "metadata": {},
   "source": [
    "$\\frac{1}{n} \\sum (\\theta - \\hat \\theta_i) = 0$ "
   ]
  },
  {
   "cell_type": "code",
   "execution_count": null,
   "metadata": {},
   "outputs": [],
   "source": []
  }
 ],
 "metadata": {
  "kernelspec": {
   "display_name": "Python 3",
   "language": "python",
   "name": "python3"
  },
  "language_info": {
   "codemirror_mode": {
    "name": "ipython",
    "version": 3
   },
   "file_extension": ".py",
   "mimetype": "text/x-python",
   "name": "python",
   "nbconvert_exporter": "python",
   "pygments_lexer": "ipython3",
   "version": "3.7.3"
  }
 },
 "nbformat": 4,
 "nbformat_minor": 2
}
