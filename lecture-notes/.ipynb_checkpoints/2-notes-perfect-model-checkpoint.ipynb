{
 "cells": [
  {
   "cell_type": "markdown",
   "metadata": {},
   "source": [
    "### A. Constructing a perfect model"
   ]
  },
  {
   "cell_type": "markdown",
   "metadata": {},
   "source": [
    "* Data"
   ]
  },
  {
   "cell_type": "code",
   "execution_count": 2,
   "metadata": {},
   "outputs": [],
   "source": [
    "# input temps \n",
    "# customers\n",
    "# parameters"
   ]
  },
  {
   "cell_type": "code",
   "execution_count": 1,
   "metadata": {},
   "outputs": [],
   "source": [
    "import numpy as np"
   ]
  },
  {
   "cell_type": "code",
   "execution_count": 13,
   "metadata": {},
   "outputs": [],
   "source": [
    "temps = np.random.randint(0, 100, 50).reshape(-1, 1)\n",
    "biases = np.ones(50).reshape(-1, 1)\n",
    "features = np.hstack((temps, biases))"
   ]
  },
  {
   "cell_type": "code",
   "execution_count": 26,
   "metadata": {},
   "outputs": [],
   "source": [
    "# features"
   ]
  },
  {
   "cell_type": "code",
   "execution_count": 15,
   "metadata": {},
   "outputs": [],
   "source": [
    "params = np.array([4, 40])"
   ]
  },
  {
   "cell_type": "code",
   "execution_count": 18,
   "metadata": {},
   "outputs": [],
   "source": [
    "y = features @ params"
   ]
  },
  {
   "cell_type": "code",
   "execution_count": 21,
   "metadata": {},
   "outputs": [],
   "source": [
    "from graph import trace_values, plot"
   ]
  },
  {
   "cell_type": "code",
   "execution_count": 22,
   "metadata": {},
   "outputs": [
    {
     "data": {
      "text/plain": [
       "array([80, 58, 51, 59, 84, 60, 78, 27, 84, 63, 78,  4, 19, 17, 51, 43, 88,\n",
       "       87, 56, 38, 36, 23, 89, 66, 12, 90, 69, 79, 33, 94, 49, 89, 11, 55,\n",
       "        4, 89, 11, 20,  4,  4, 69, 42, 58, 76, 31, 95, 83, 47, 14, 79])"
      ]
     },
     "execution_count": 22,
     "metadata": {},
     "output_type": "execute_result"
    }
   ],
   "source": [
    "temps.reshape(50)"
   ]
  },
  {
   "cell_type": "code",
   "execution_count": 23,
   "metadata": {},
   "outputs": [
    {
     "data": {
      "application/vnd.plotly.v1+json": {
       "config": {
        "linkText": "Export to plot.ly",
        "plotlyServerURL": "https://plot.ly",
        "showLink": false
       },
       "data": [
        {
         "mode": "markers",
         "name": "data",
         "text": [],
         "type": "scatter",
         "uid": "0932325f-4aaa-4ac7-9c4f-d4b76206e676",
         "x": [
          80,
          58,
          51,
          59,
          84,
          60,
          78,
          27,
          84,
          63,
          78,
          4,
          19,
          17,
          51,
          43,
          88,
          87,
          56,
          38,
          36,
          23,
          89,
          66,
          12,
          90,
          69,
          79,
          33,
          94,
          49,
          89,
          11,
          55,
          4,
          89,
          11,
          20,
          4,
          4,
          69,
          42,
          58,
          76,
          31,
          95,
          83,
          47,
          14,
          79
         ],
         "y": [
          360,
          272,
          244,
          276,
          376,
          280,
          352,
          148,
          376,
          292,
          352,
          56,
          116,
          108,
          244,
          212,
          392,
          388,
          264,
          192,
          184,
          132,
          396,
          304,
          88,
          400,
          316,
          356,
          172,
          416,
          236,
          396,
          84,
          260,
          56,
          396,
          84,
          120,
          56,
          56,
          316,
          208,
          272,
          344,
          164,
          420,
          372,
          228,
          96,
          356
         ]
        }
       ],
       "layout": {
        "autosize": true,
        "xaxis": {
         "autorange": true,
         "range": [
          -2.1339590443686003,
          101.1339590443686
         ],
         "type": "linear"
        },
        "yaxis": {
         "autorange": true,
         "range": [
          29.337579617834393,
          446.6624203821656
         ],
         "type": "linear"
        }
       }
      },
      "image/png": "[encoded data removed]",
      "text/html": [
       "<div>\n",
       "        \n",
       "        \n",
       "            <div id=\"85db61e1-3cf5-489c-8055-c6a7967c5bf9\" class=\"plotly-graph-div\" style=\"height:525px; width:100%;\"></div>\n",
       "            <script type=\"text/javascript\">\n",
       "                require([\"plotly\"], function(Plotly) {\n",
       "                    window.PLOTLYENV=window.PLOTLYENV || {};\n",
       "                    window.PLOTLYENV.BASE_URL='https://plot.ly';\n",
       "                    \n",
       "                if (document.getElementById(\"85db61e1-3cf5-489c-8055-c6a7967c5bf9\")) {\n",
       "                    Plotly.newPlot(\n",
       "                        '85db61e1-3cf5-489c-8055-c6a7967c5bf9',\n",
       "                        [{\"mode\": \"markers\", \"name\": \"data\", \"text\": [], \"type\": \"scatter\", \"uid\": \"0932325f-4aaa-4ac7-9c4f-d4b76206e676\", \"x\": [80, 58, 51, 59, 84, 60, 78, 27, 84, 63, 78, 4, 19, 17, 51, 43, 88, 87, 56, 38, 36, 23, 89, 66, 12, 90, 69, 79, 33, 94, 49, 89, 11, 55, 4, 89, 11, 20, 4, 4, 69, 42, 58, 76, 31, 95, 83, 47, 14, 79], \"y\": [360.0, 272.0, 244.0, 276.0, 376.0, 280.0, 352.0, 148.0, 376.0, 292.0, 352.0, 56.0, 116.0, 108.0, 244.0, 212.0, 392.0, 388.0, 264.0, 192.0, 184.0, 132.0, 396.0, 304.0, 88.0, 400.0, 316.0, 356.0, 172.0, 416.0, 236.0, 396.0, 84.0, 260.0, 56.0, 396.0, 84.0, 120.0, 56.0, 56.0, 316.0, 208.0, 272.0, 344.0, 164.0, 420.0, 372.0, 228.0, 96.0, 356.0]}],\n",
       "                        {},\n",
       "                        {\"showLink\": false, \"linkText\": \"Export to plot.ly\", \"plotlyServerURL\": \"https://plot.ly\", \"responsive\": true}\n",
       "                    ).then(function(){\n",
       "                            \n",
       "var gd = document.getElementById('85db61e1-3cf5-489c-8055-c6a7967c5bf9');\n",
       "var x = new MutationObserver(function (mutations, observer) {{\n",
       "        var display = window.getComputedStyle(gd).display;\n",
       "        if (!display || display === 'none') {{\n",
       "            console.log([gd, 'removed!']);\n",
       "            Plotly.purge(gd);\n",
       "            observer.disconnect();\n",
       "        }}\n",
       "}});\n",
       "\n",
       "// Listen for the removal of the full notebook cells\n",
       "var notebookContainer = gd.closest('#notebook-container');\n",
       "if (notebookContainer) {{\n",
       "    x.observe(notebookContainer, {childList: true});\n",
       "}}\n",
       "\n",
       "// Listen for the clearing of the current output cell\n",
       "var outputEl = gd.closest('.output');\n",
       "if (outputEl) {{\n",
       "    x.observe(outputEl, {childList: true});\n",
       "}}\n",
       "\n",
       "                        })\n",
       "                };\n",
       "                });\n",
       "            </script>\n",
       "        </div>"
      ]
     },
     "metadata": {},
     "output_type": "display_data"
    }
   ],
   "source": [
    "data_trace = trace_values(temps.reshape(50), y)\n",
    "plot([data_trace])"
   ]
  },
  {
   "cell_type": "markdown",
   "metadata": {},
   "source": [
    "* Fitting the data"
   ]
  },
  {
   "cell_type": "code",
   "execution_count": 24,
   "metadata": {},
   "outputs": [],
   "source": [
    "from sklearn.linear_model import LinearRegression"
   ]
  },
  {
   "cell_type": "code",
   "execution_count": 27,
   "metadata": {},
   "outputs": [],
   "source": [
    "model = LinearRegression(fit_intercept=False)"
   ]
  },
  {
   "cell_type": "code",
   "execution_count": 28,
   "metadata": {},
   "outputs": [
    {
     "data": {
      "text/plain": [
       "LinearRegression(copy_X=True, fit_intercept=False, n_jobs=None,\n",
       "         normalize=False)"
      ]
     },
     "execution_count": 28,
     "metadata": {},
     "output_type": "execute_result"
    }
   ],
   "source": [
    "model.fit(features, y)"
   ]
  },
  {
   "cell_type": "code",
   "execution_count": 29,
   "metadata": {},
   "outputs": [
    {
     "data": {
      "text/plain": [
       "array([ 4., 40.])"
      ]
     },
     "execution_count": 29,
     "metadata": {},
     "output_type": "execute_result"
    }
   ],
   "source": [
    "model.coef_"
   ]
  },
  {
   "cell_type": "markdown",
   "metadata": {},
   "source": [
    "### B. Irreducible error"
   ]
  },
  {
   "cell_type": "code",
   "execution_count": 34,
   "metadata": {},
   "outputs": [],
   "source": [
    "errors = np.random.randint(-50,50, 50)"
   ]
  },
  {
   "cell_type": "code",
   "execution_count": 35,
   "metadata": {},
   "outputs": [],
   "source": [
    "noisy_customers = y + errors"
   ]
  },
  {
   "cell_type": "code",
   "execution_count": 36,
   "metadata": {},
   "outputs": [
    {
     "data": {
      "application/vnd.plotly.v1+json": {
       "config": {
        "linkText": "Export to plot.ly",
        "plotlyServerURL": "https://plot.ly",
        "showLink": false
       },
       "data": [
        {
         "mode": "markers",
         "name": "data",
         "text": [],
         "type": "scatter",
         "uid": "1c518b5f-d653-4f73-82a8-13e686aee232",
         "x": [
          80,
          58,
          51,
          59,
          84,
          60,
          78,
          27,
          84,
          63,
          78,
          4,
          19,
          17,
          51,
          43,
          88,
          87,
          56,
          38,
          36,
          23,
          89,
          66,
          12,
          90,
          69,
          79,
          33,
          94,
          49,
          89,
          11,
          55,
          4,
          89,
          11,
          20,
          4,
          4,
          69,
          42,
          58,
          76,
          31,
          95,
          83,
          47,
          14,
          79
         ],
         "y": [
          377,
          271,
          265,
          259,
          414,
          304,
          338,
          110,
          367,
          284,
          376,
          52,
          106,
          62,
          282,
          169,
          369,
          405,
          249,
          207,
          193,
          153,
          435,
          308,
          57,
          407,
          296,
          386,
          180,
          370,
          260,
          429,
          111,
          228,
          102,
          440,
          119,
          119,
          22,
          59,
          267,
          175,
          229,
          303,
          144,
          438,
          415,
          196,
          108,
          356
         ]
        }
       ],
       "layout": {
        "autosize": true,
        "xaxis": {
         "autorange": true,
         "range": [
          -2.1339590443686003,
          101.1339590443686
         ],
         "type": "linear"
        },
        "yaxis": {
         "autorange": true,
         "range": [
          -8.61783439490446,
          470.61783439490443
         ],
         "type": "linear"
        }
       }
      },
      "image/png": "[encoded data removed]",
      "text/html": [
       "<div>\n",
       "        \n",
       "        \n",
       "            <div id=\"521a8509-0816-48ff-abe0-4e7053738c30\" class=\"plotly-graph-div\" style=\"height:525px; width:100%;\"></div>\n",
       "            <script type=\"text/javascript\">\n",
       "                require([\"plotly\"], function(Plotly) {\n",
       "                    window.PLOTLYENV=window.PLOTLYENV || {};\n",
       "                    window.PLOTLYENV.BASE_URL='https://plot.ly';\n",
       "                    \n",
       "                if (document.getElementById(\"521a8509-0816-48ff-abe0-4e7053738c30\")) {\n",
       "                    Plotly.newPlot(\n",
       "                        '521a8509-0816-48ff-abe0-4e7053738c30',\n",
       "                        [{\"mode\": \"markers\", \"name\": \"data\", \"text\": [], \"type\": \"scatter\", \"uid\": \"1c518b5f-d653-4f73-82a8-13e686aee232\", \"x\": [80, 58, 51, 59, 84, 60, 78, 27, 84, 63, 78, 4, 19, 17, 51, 43, 88, 87, 56, 38, 36, 23, 89, 66, 12, 90, 69, 79, 33, 94, 49, 89, 11, 55, 4, 89, 11, 20, 4, 4, 69, 42, 58, 76, 31, 95, 83, 47, 14, 79], \"y\": [377.0, 271.0, 265.0, 259.0, 414.0, 304.0, 338.0, 110.0, 367.0, 284.0, 376.0, 52.0, 106.0, 62.0, 282.0, 169.0, 369.0, 405.0, 249.0, 207.0, 193.0, 153.0, 435.0, 308.0, 57.0, 407.0, 296.0, 386.0, 180.0, 370.0, 260.0, 429.0, 111.0, 228.0, 102.0, 440.0, 119.0, 119.0, 22.0, 59.0, 267.0, 175.0, 229.0, 303.0, 144.0, 438.0, 415.0, 196.0, 108.0, 356.0]}],\n",
       "                        {},\n",
       "                        {\"showLink\": false, \"linkText\": \"Export to plot.ly\", \"plotlyServerURL\": \"https://plot.ly\", \"responsive\": true}\n",
       "                    ).then(function(){\n",
       "                            \n",
       "var gd = document.getElementById('521a8509-0816-48ff-abe0-4e7053738c30');\n",
       "var x = new MutationObserver(function (mutations, observer) {{\n",
       "        var display = window.getComputedStyle(gd).display;\n",
       "        if (!display || display === 'none') {{\n",
       "            console.log([gd, 'removed!']);\n",
       "            Plotly.purge(gd);\n",
       "            observer.disconnect();\n",
       "        }}\n",
       "}});\n",
       "\n",
       "// Listen for the removal of the full notebook cells\n",
       "var notebookContainer = gd.closest('#notebook-container');\n",
       "if (notebookContainer) {{\n",
       "    x.observe(notebookContainer, {childList: true});\n",
       "}}\n",
       "\n",
       "// Listen for the clearing of the current output cell\n",
       "var outputEl = gd.closest('.output');\n",
       "if (outputEl) {{\n",
       "    x.observe(outputEl, {childList: true});\n",
       "}}\n",
       "\n",
       "                        })\n",
       "                };\n",
       "                });\n",
       "            </script>\n",
       "        </div>"
      ]
     },
     "metadata": {},
     "output_type": "display_data"
    }
   ],
   "source": [
    "noisy_data_trace = trace_values(temps.reshape(50), noisy_customers)\n",
    "plot([noisy_data_trace])"
   ]
  },
  {
   "cell_type": "markdown",
   "metadata": {},
   "source": [
    "1. Adding error\n",
    "\n",
    "2. Increasing error"
   ]
  }
 ],
 "metadata": {
  "kernelspec": {
   "display_name": "Python 3",
   "language": "python",
   "name": "python3"
  },
  "language_info": {
   "codemirror_mode": {
    "name": "ipython",
    "version": 3
   },
   "file_extension": ".py",
   "mimetype": "text/x-python",
   "name": "python",
   "nbconvert_exporter": "python",
   "pygments_lexer": "ipython3",
   "version": "3.7.3"
  }
 },
 "nbformat": 4,
 "nbformat_minor": 2
}
