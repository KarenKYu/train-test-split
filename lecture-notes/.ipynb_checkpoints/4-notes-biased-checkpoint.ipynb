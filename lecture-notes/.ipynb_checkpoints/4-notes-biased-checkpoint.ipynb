{
 "cells": [
  {
   "cell_type": "markdown",
   "metadata": {},
   "source": [
    "# Bias"
   ]
  },
  {
   "cell_type": "markdown",
   "metadata": {},
   "source": [
    "### Notes"
   ]
  },
  {
   "cell_type": "code",
   "execution_count": 2,
   "metadata": {},
   "outputs": [],
   "source": [
    "import numpy as np"
   ]
  },
  {
   "cell_type": "code",
   "execution_count": 3,
   "metadata": {},
   "outputs": [],
   "source": [
    "temps = np.random.randint(0, 100, 50).reshape(-1, 1)\n",
    "temps.shape\n",
    "ones = np.ones(50).reshape(-1, 1)\n",
    "is_weekends = np.random.choice([0, 1], 50, p = [.75, .25]).reshape(-1, 1)\n",
    "features = np.hstack((temps, is_weekends, ones))"
   ]
  },
  {
   "cell_type": "code",
   "execution_count": 19,
   "metadata": {},
   "outputs": [],
   "source": [
    "params = np.array([2, 100, 5])"
   ]
  },
  {
   "cell_type": "markdown",
   "metadata": {},
   "source": [
    "### Basic Model"
   ]
  },
  {
   "cell_type": "code",
   "execution_count": 20,
   "metadata": {},
   "outputs": [],
   "source": [
    "customers = features@params"
   ]
  },
  {
   "cell_type": "code",
   "execution_count": 24,
   "metadata": {},
   "outputs": [
    {
     "data": {
      "application/vnd.plotly.v1+json": {
       "config": {
        "linkText": "Export to plot.ly",
        "plotlyServerURL": "https://plot.ly",
        "showLink": false
       },
       "data": [
        {
         "mode": "markers",
         "name": "data",
         "text": [],
         "type": "scatter",
         "uid": "4859bf14-fb7b-4d19-bed0-b9559af0de48",
         "x": [
          15,
          52,
          58,
          91,
          90,
          20,
          87,
          78,
          29,
          41,
          31,
          37,
          57,
          48,
          96,
          14,
          60,
          13,
          95,
          26,
          91,
          23,
          94,
          53,
          41,
          10,
          67,
          81,
          84,
          8,
          36,
          72,
          18,
          69,
          27,
          28,
          36,
          51,
          52,
          73,
          35,
          62,
          67,
          6,
          10,
          19,
          43,
          98,
          21,
          32
         ],
         "y": [
          35,
          109,
          121,
          287,
          185,
          45,
          179,
          161,
          163,
          87,
          67,
          179,
          119,
          101,
          197,
          33,
          125,
          131,
          195,
          57,
          287,
          51,
          293,
          211,
          87,
          125,
          139,
          167,
          273,
          121,
          77,
          149,
          41,
          143,
          59,
          161,
          77,
          107,
          109,
          151,
          75,
          129,
          139,
          117,
          25,
          43,
          91,
          201,
          147,
          169
         ]
        }
       ],
       "layout": {
        "autosize": true,
        "xaxis": {
         "autorange": true,
         "range": [
          -0.1432417878298331,
          104.14324178782984
         ],
         "type": "linear"
        },
        "yaxis": {
         "autorange": true,
         "range": [
          5.369426751592357,
          312.63057324840764
         ],
         "type": "linear"
        }
       }
      },
      "image/png": "[encoded data removed]",
      "text/html": [
       "<div>\n",
       "        \n",
       "        \n",
       "            <div id=\"77fa675b-9013-46f0-a6ed-b72e9098a9db\" class=\"plotly-graph-div\" style=\"height:525px; width:100%;\"></div>\n",
       "            <script type=\"text/javascript\">\n",
       "                require([\"plotly\"], function(Plotly) {\n",
       "                    window.PLOTLYENV=window.PLOTLYENV || {};\n",
       "                    window.PLOTLYENV.BASE_URL='https://plot.ly';\n",
       "                    \n",
       "                if (document.getElementById(\"77fa675b-9013-46f0-a6ed-b72e9098a9db\")) {\n",
       "                    Plotly.newPlot(\n",
       "                        '77fa675b-9013-46f0-a6ed-b72e9098a9db',\n",
       "                        [{\"mode\": \"markers\", \"name\": \"data\", \"text\": [], \"type\": \"scatter\", \"uid\": \"4859bf14-fb7b-4d19-bed0-b9559af0de48\", \"x\": [15, 52, 58, 91, 90, 20, 87, 78, 29, 41, 31, 37, 57, 48, 96, 14, 60, 13, 95, 26, 91, 23, 94, 53, 41, 10, 67, 81, 84, 8, 36, 72, 18, 69, 27, 28, 36, 51, 52, 73, 35, 62, 67, 6, 10, 19, 43, 98, 21, 32], \"y\": [35.0, 109.0, 121.0, 287.0, 185.0, 45.0, 179.0, 161.0, 163.0, 87.0, 67.0, 179.0, 119.0, 101.0, 197.0, 33.0, 125.0, 131.0, 195.0, 57.0, 287.0, 51.0, 293.0, 211.0, 87.0, 125.0, 139.0, 167.0, 273.0, 121.0, 77.0, 149.0, 41.0, 143.0, 59.0, 161.0, 77.0, 107.0, 109.0, 151.0, 75.0, 129.0, 139.0, 117.0, 25.0, 43.0, 91.0, 201.0, 147.0, 169.0]}],\n",
       "                        {},\n",
       "                        {\"showLink\": false, \"linkText\": \"Export to plot.ly\", \"plotlyServerURL\": \"https://plot.ly\", \"responsive\": true}\n",
       "                    ).then(function(){\n",
       "                            \n",
       "var gd = document.getElementById('77fa675b-9013-46f0-a6ed-b72e9098a9db');\n",
       "var x = new MutationObserver(function (mutations, observer) {{\n",
       "        var display = window.getComputedStyle(gd).display;\n",
       "        if (!display || display === 'none') {{\n",
       "            console.log([gd, 'removed!']);\n",
       "            Plotly.purge(gd);\n",
       "            observer.disconnect();\n",
       "        }}\n",
       "}});\n",
       "\n",
       "// Listen for the removal of the full notebook cells\n",
       "var notebookContainer = gd.closest('#notebook-container');\n",
       "if (notebookContainer) {{\n",
       "    x.observe(notebookContainer, {childList: true});\n",
       "}}\n",
       "\n",
       "// Listen for the clearing of the current output cell\n",
       "var outputEl = gd.closest('.output');\n",
       "if (outputEl) {{\n",
       "    x.observe(outputEl, {childList: true});\n",
       "}}\n",
       "\n",
       "                        })\n",
       "                };\n",
       "                });\n",
       "            </script>\n",
       "        </div>"
      ]
     },
     "metadata": {},
     "output_type": "display_data"
    }
   ],
   "source": [
    "from graph import trace_values, plot\n",
    "trace = trace_values(temps.flatten(),customers)\n",
    "plot([trace])"
   ]
  },
  {
   "cell_type": "code",
   "execution_count": 26,
   "metadata": {},
   "outputs": [],
   "source": [
    "from sklearn.linear_model import LinearRegression"
   ]
  },
  {
   "cell_type": "code",
   "execution_count": null,
   "metadata": {},
   "outputs": [],
   "source": [
    "model = LinearRegression()\n",
    "model.fit()"
   ]
  },
  {
   "cell_type": "code",
   "execution_count": null,
   "metadata": {},
   "outputs": [],
   "source": []
  },
  {
   "cell_type": "markdown",
   "metadata": {},
   "source": [
    "### Updated Model"
   ]
  },
  {
   "cell_type": "code",
   "execution_count": null,
   "metadata": {},
   "outputs": [],
   "source": []
  }
 ],
 "metadata": {
  "kernelspec": {
   "display_name": "Python 3",
   "language": "python",
   "name": "python3"
  },
  "language_info": {
   "codemirror_mode": {
    "name": "ipython",
    "version": 3
   },
   "file_extension": ".py",
   "mimetype": "text/x-python",
   "name": "python",
   "nbconvert_exporter": "python",
   "pygments_lexer": "ipython3",
   "version": "3.7.3"
  }
 },
 "nbformat": 4,
 "nbformat_minor": 2
}
