{
 "cells": [
  {
   "cell_type": "markdown",
   "metadata": {},
   "source": [
    "# The data scientist fights back"
   ]
  },
  {
   "cell_type": "markdown",
   "metadata": {},
   "source": [
    "### Introduction"
   ]
  },
  {
   "cell_type": "markdown",
   "metadata": {},
   "source": [
    "In the last lesson, we saw why a model would tend to perform better with training data than with production data.  The reason is because when we train our model on data that has a random component to it, the model is influenced by the randomness of the training data.  This allows the model to perform relatively well on the training data, but because the randomness of the training is not replicated in the future, the model does not perform as well when placed into production.\n",
    "\n",
    "In this lesson we'll see what we can do about this."
   ]
  },
  {
   "cell_type": "markdown",
   "metadata": {},
   "source": [
    "### Retraining our dataset"
   ]
  },
  {
   "cell_type": "markdown",
   "metadata": {},
   "source": [
    "Now the problem we would like to fix is this.  We saw that when we train our model on noisy data that our model is influenced by the randomness, and because of this it performs better on training data than it generally will on production data."
   ]
  },
  {
   "cell_type": "markdown",
   "metadata": {},
   "source": [
    "Now for right now, we'll let our model still be influenced by the noise of the data.  But we want to fix the problem of the model scoring well on the training data, and then being surprised when the model performs more poorly on the production data. \n",
    "\n",
    "As data scientists it's bad enough for our model to be inaccurate.  But it's worse if we believe our model is accurate and then are consistently surprised when our model underperforms when we put it into production.  We want to fix the surprise factor.  That is, we want to be able to predict how accurate our model will be before we place it into production.\n",
    "\n",
    "How do we do this."
   ]
  },
  {
   "cell_type": "markdown",
   "metadata": {},
   "source": [
    "### Reviewing our approach"
   ]
  },
  {
   "cell_type": "markdown",
   "metadata": {},
   "source": [
    "So we start by re-creating our noisy dataset."
   ]
  },
  {
   "cell_type": "code",
   "execution_count": 178,
   "metadata": {},
   "outputs": [],
   "source": [
    "from random import randint, seed\n",
    "from graph import trace_values, plot\n",
    "seed(1)\n",
    "random_temperatures = list(map(lambda num: randint(-20,111), range(0, 400)))\n",
    "\n",
    "perfect_customers = list(map(lambda temp: 3*temp + 10, random_temperatures))\n",
    "random_errors = list(map(lambda num: randint(-70,70), range(0, 400)))\n",
    "noisy_customers = list(map(lambda index: perfect_customers[index] + random_errors[index],range(0, 400)))\n"
   ]
  },
  {
   "cell_type": "markdown",
   "metadata": {},
   "source": [
    "And then plotting our data."
   ]
  },
  {
   "cell_type": "code",
   "execution_count": 179,
   "metadata": {},
   "outputs": [
    {
     "data": {
      "application/vnd.plotly.v1+json": {
       "config": {
        "linkText": "Export to plot.ly",
        "plotlyServerURL": "https://plot.ly",
        "showLink": false
       },
       "data": [
        {
         "mode": "markers",
         "name": "initial data",
         "text": [],
         "type": "scatter",
         "uid": "f7c89d3b-fe1a-4727-90c1-f0cf12f4bca8",
         "x": [
          14,
          -4,
          45,
          10,
          106,
          95,
          100,
          77,
          33,
          4,
          104,
          -13,
          79,
          90,
          -20,
          94,
          48,
          38,
          6,
          61,
          -13,
          -15,
          -14,
          -18,
          77,
          35,
          88,
          -13,
          36,
          92,
          106,
          39,
          68,
          39,
          36,
          97,
          54,
          -15,
          86,
          5,
          27,
          55,
          10,
          65,
          108,
          88,
          109,
          28,
          57,
          52,
          107,
          109,
          80,
          -12,
          102,
          42,
          83,
          86,
          24,
          73,
          75,
          2,
          92,
          110,
          7,
          21,
          80,
          74,
          105,
          -13,
          100,
          -9,
          58,
          80,
          23,
          23,
          108,
          38,
          -17,
          31,
          39,
          83,
          111,
          68,
          70,
          97,
          48,
          -19,
          78,
          111,
          13,
          32,
          89,
          -6,
          103,
          73,
          31,
          109,
          85,
          104,
          71,
          86,
          68,
          -20,
          64,
          97,
          -13,
          38,
          25,
          26,
          3,
          45,
          -12,
          -2,
          1,
          -16,
          95,
          -17,
          51,
          43,
          48,
          8,
          27,
          68,
          54,
          -3,
          22,
          20,
          45,
          23,
          49,
          55,
          96,
          62,
          107,
          101,
          9,
          -14,
          59,
          78,
          67,
          87,
          28,
          46,
          7,
          44,
          110,
          33,
          90,
          -15,
          37,
          -16,
          81,
          17,
          -11,
          21,
          94,
          109,
          89,
          36,
          95,
          37,
          -13,
          81,
          62,
          89,
          -5,
          56,
          12,
          34,
          -8,
          58,
          -2,
          -1,
          59,
          56,
          20,
          86,
          44,
          13,
          -18,
          -11,
          35,
          97,
          23,
          110,
          -11,
          76,
          31,
          68,
          5,
          32,
          90,
          29,
          106,
          6,
          79,
          55,
          109,
          107,
          -16,
          63,
          82,
          52,
          -16,
          20,
          31,
          63,
          14,
          66,
          89,
          34,
          48,
          4,
          77,
          68,
          104,
          40,
          -4,
          -10,
          1,
          14,
          23,
          22,
          34,
          48,
          65,
          109,
          45,
          74,
          66,
          67,
          9,
          54,
          40,
          105,
          14,
          6,
          62,
          -10,
          84,
          -2,
          77,
          17,
          12,
          67,
          9,
          76,
          -1,
          37,
          0,
          48,
          73,
          55,
          9,
          97,
          50,
          7,
          -9,
          55,
          -17,
          -17,
          3,
          85,
          9,
          -10,
          28,
          41,
          87,
          21,
          9,
          95,
          22,
          41,
          20,
          6,
          91,
          76,
          55,
          44,
          102,
          60,
          5,
          33,
          61,
          -10,
          -14,
          -18,
          55,
          61,
          95,
          80,
          60,
          82,
          -4,
          -4,
          61,
          96,
          8,
          44,
          35,
          100,
          71,
          46,
          26,
          33,
          58,
          30,
          43,
          72,
          0,
          51,
          2,
          94,
          3,
          66,
          38,
          79,
          58,
          -10,
          63,
          27,
          61,
          57,
          42,
          65,
          5,
          3,
          42,
          36,
          -15,
          42,
          82,
          -2,
          48,
          -2,
          -1,
          -15,
          -18,
          54,
          71,
          106,
          100,
          19,
          5,
          108,
          63,
          -1,
          110,
          24,
          25,
          18,
          16,
          61,
          58,
          7,
          111,
          55,
          12,
          32,
          16,
          -12,
          60,
          32,
          25,
          56,
          90,
          20,
          -8,
          43,
          44,
          -4,
          94,
          90,
          44,
          92,
          96,
          -18,
          81,
          66,
          23,
          46,
          104,
          -14,
          86,
          -16,
          -5,
          70,
          15,
          12,
          15,
          46,
          50,
          81,
          82,
          24,
          2,
          39,
          104,
          -19
         ],
         "y": [
          27,
          63,
          156,
          98,
          370,
          282,
          301,
          251,
          165,
          74,
          309,
          6,
          263,
          280,
          -64,
          234,
          102,
          184,
          52,
          163,
          31,
          -53,
          -23,
          -38,
          247,
          140,
          246,
          19,
          69,
          247,
          389,
          153,
          189,
          96,
          112,
          340,
          157,
          -92,
          324,
          55,
          110,
          203,
          101,
          177,
          403,
          214,
          401,
          47,
          176,
          121,
          329,
          288,
          215,
          -76,
          359,
          127,
          286,
          308,
          113,
          201,
          248,
          58,
          248,
          394,
          15,
          33,
          290,
          298,
          359,
          -69,
          315,
          -16,
          177,
          276,
          10,
          57,
          399,
          166,
          -106,
          40,
          119,
          255,
          325,
          188,
          222,
          268,
          222,
          -66,
          243,
          352,
          43,
          150,
          250,
          61,
          340,
          284,
          140,
          298,
          248,
          350,
          205,
          270,
          171,
          -114,
          162,
          234,
          40,
          129,
          49,
          37,
          77,
          170,
          -17,
          45,
          71,
          -17,
          360,
          -29,
          93,
          100,
          197,
          79,
          110,
          222,
          240,
          33,
          92,
          126,
          103,
          105,
          184,
          157,
          228,
          197,
          391,
          293,
          85,
          30,
          221,
          252,
          184,
          316,
          159,
          128,
          53,
          206,
          270,
          138,
          319,
          -2,
          137,
          -91,
          309,
          54,
          -19,
          8,
          326,
          306,
          308,
          117,
          270,
          69,
          -97,
          272,
          193,
          312,
          64,
          185,
          14,
          160,
          -18,
          238,
          -23,
          56,
          247,
          119,
          69,
          328,
          97,
          87,
          -97,
          -3,
          62,
          344,
          14,
          312,
          36,
          209,
          56,
          246,
          25,
          113,
          263,
          162,
          311,
          18,
          262,
          173,
          284,
          280,
          25,
          223,
          305,
          226,
          -96,
          43,
          109,
          198,
          73,
          197,
          307,
          144,
          128,
          75,
          237,
          228,
          308,
          126,
          -10,
          -83,
          46,
          63,
          119,
          69,
          110,
          132,
          153,
          309,
          188,
          199,
          205,
          258,
          101,
          143,
          95,
          290,
          94,
          50,
          205,
          12,
          253,
          -37,
          223,
          69,
          -7,
          168,
          25,
          269,
          19,
          177,
          -35,
          131,
          170,
          119,
          -28,
          286,
          98,
          87,
          48,
          218,
          -24,
          -41,
          -21,
          239,
          -9,
          -34,
          126,
          122,
          327,
          118,
          63,
          268,
          65,
          123,
          72,
          76,
          353,
          267,
          159,
          187,
          312,
          204,
          82,
          67,
          177,
          -70,
          -91,
          -111,
          106,
          245,
          306,
          278,
          193,
          236,
          30,
          -32,
          161,
          235,
          -33,
          171,
          82,
          378,
          167,
          175,
          83,
          72,
          134,
          148,
          146,
          159,
          -51,
          230,
          -39,
          356,
          -18,
          148,
          124,
          207,
          224,
          -67,
          177,
          28,
          250,
          144,
          137,
          184,
          69,
          48,
          150,
          116,
          -39,
          128,
          248,
          -51,
          128,
          23,
          46,
          28,
          -99,
          192,
          293,
          363,
          377,
          48,
          92,
          372,
          146,
          5,
          288,
          76,
          60,
          18,
          26,
          138,
          166,
          70,
          284,
          118,
          -1,
          167,
          108,
          32,
          214,
          61,
          95,
          118,
          242,
          136,
          -76,
          182,
          104,
          29,
          336,
          216,
          206,
          285,
          251,
          -50,
          266,
          159,
          86,
          86,
          350,
          -88,
          264,
          -28,
          -42,
          216,
          82,
          5,
          62,
          102,
          198,
          245,
          314,
          64,
          30,
          143,
          382,
          -17
         ]
        }
       ],
       "layout": {
        "autosize": true,
        "xaxis": {
         "autorange": true,
         "range": [
          -27.8170322070737,
          118.81703220707371
         ],
         "title": {
          "text": "temperature"
         },
         "type": "linear"
        },
        "yaxis": {
         "autorange": true,
         "range": [
          -151.86942675159236,
          440.86942675159236
         ],
         "title": {
          "text": "customers"
         },
         "type": "linear"
        }
       }
      },
      "image/png": "[encoded data removed]",
      "text/html": [
       "<div id=\"a548272b-98da-4ac0-bffc-e69344d7dc69\" style=\"height: 525px; width: 100%;\" class=\"plotly-graph-div\"></div><script type=\"text/javascript\">require([\"plotly\"], function(Plotly) { window.PLOTLYENV=window.PLOTLYENV || {};window.PLOTLYENV.BASE_URL=\"https://plot.ly\";Plotly.newPlot(\"a548272b-98da-4ac0-bffc-e69344d7dc69\", [{\"mode\": \"markers\", \"name\": \"initial data\", \"text\": [], \"x\": [14, -4, 45, 10, 106, 95, 100, 77, 33, 4, 104, -13, 79, 90, -20, 94, 48, 38, 6, 61, -13, -15, -14, -18, 77, 35, 88, -13, 36, 92, 106, 39, 68, 39, 36, 97, 54, -15, 86, 5, 27, 55, 10, 65, 108, 88, 109, 28, 57, 52, 107, 109, 80, -12, 102, 42, 83, 86, 24, 73, 75, 2, 92, 110, 7, 21, 80, 74, 105, -13, 100, -9, 58, 80, 23, 23, 108, 38, -17, 31, 39, 83, 111, 68, 70, 97, 48, -19, 78, 111, 13, 32, 89, -6, 103, 73, 31, 109, 85, 104, 71, 86, 68, -20, 64, 97, -13, 38, 25, 26, 3, 45, -12, -2, 1, -16, 95, -17, 51, 43, 48, 8, 27, 68, 54, -3, 22, 20, 45, 23, 49, 55, 96, 62, 107, 101, 9, -14, 59, 78, 67, 87, 28, 46, 7, 44, 110, 33, 90, -15, 37, -16, 81, 17, -11, 21, 94, 109, 89, 36, 95, 37, -13, 81, 62, 89, -5, 56, 12, 34, -8, 58, -2, -1, 59, 56, 20, 86, 44, 13, -18, -11, 35, 97, 23, 110, -11, 76, 31, 68, 5, 32, 90, 29, 106, 6, 79, 55, 109, 107, -16, 63, 82, 52, -16, 20, 31, 63, 14, 66, 89, 34, 48, 4, 77, 68, 104, 40, -4, -10, 1, 14, 23, 22, 34, 48, 65, 109, 45, 74, 66, 67, 9, 54, 40, 105, 14, 6, 62, -10, 84, -2, 77, 17, 12, 67, 9, 76, -1, 37, 0, 48, 73, 55, 9, 97, 50, 7, -9, 55, -17, -17, 3, 85, 9, -10, 28, 41, 87, 21, 9, 95, 22, 41, 20, 6, 91, 76, 55, 44, 102, 60, 5, 33, 61, -10, -14, -18, 55, 61, 95, 80, 60, 82, -4, -4, 61, 96, 8, 44, 35, 100, 71, 46, 26, 33, 58, 30, 43, 72, 0, 51, 2, 94, 3, 66, 38, 79, 58, -10, 63, 27, 61, 57, 42, 65, 5, 3, 42, 36, -15, 42, 82, -2, 48, -2, -1, -15, -18, 54, 71, 106, 100, 19, 5, 108, 63, -1, 110, 24, 25, 18, 16, 61, 58, 7, 111, 55, 12, 32, 16, -12, 60, 32, 25, 56, 90, 20, -8, 43, 44, -4, 94, 90, 44, 92, 96, -18, 81, 66, 23, 46, 104, -14, 86, -16, -5, 70, 15, 12, 15, 46, 50, 81, 82, 24, 2, 39, 104, -19], \"y\": [27, 63, 156, 98, 370, 282, 301, 251, 165, 74, 309, 6, 263, 280, -64, 234, 102, 184, 52, 163, 31, -53, -23, -38, 247, 140, 246, 19, 69, 247, 389, 153, 189, 96, 112, 340, 157, -92, 324, 55, 110, 203, 101, 177, 403, 214, 401, 47, 176, 121, 329, 288, 215, -76, 359, 127, 286, 308, 113, 201, 248, 58, 248, 394, 15, 33, 290, 298, 359, -69, 315, -16, 177, 276, 10, 57, 399, 166, -106, 40, 119, 255, 325, 188, 222, 268, 222, -66, 243, 352, 43, 150, 250, 61, 340, 284, 140, 298, 248, 350, 205, 270, 171, -114, 162, 234, 40, 129, 49, 37, 77, 170, -17, 45, 71, -17, 360, -29, 93, 100, 197, 79, 110, 222, 240, 33, 92, 126, 103, 105, 184, 157, 228, 197, 391, 293, 85, 30, 221, 252, 184, 316, 159, 128, 53, 206, 270, 138, 319, -2, 137, -91, 309, 54, -19, 8, 326, 306, 308, 117, 270, 69, -97, 272, 193, 312, 64, 185, 14, 160, -18, 238, -23, 56, 247, 119, 69, 328, 97, 87, -97, -3, 62, 344, 14, 312, 36, 209, 56, 246, 25, 113, 263, 162, 311, 18, 262, 173, 284, 280, 25, 223, 305, 226, -96, 43, 109, 198, 73, 197, 307, 144, 128, 75, 237, 228, 308, 126, -10, -83, 46, 63, 119, 69, 110, 132, 153, 309, 188, 199, 205, 258, 101, 143, 95, 290, 94, 50, 205, 12, 253, -37, 223, 69, -7, 168, 25, 269, 19, 177, -35, 131, 170, 119, -28, 286, 98, 87, 48, 218, -24, -41, -21, 239, -9, -34, 126, 122, 327, 118, 63, 268, 65, 123, 72, 76, 353, 267, 159, 187, 312, 204, 82, 67, 177, -70, -91, -111, 106, 245, 306, 278, 193, 236, 30, -32, 161, 235, -33, 171, 82, 378, 167, 175, 83, 72, 134, 148, 146, 159, -51, 230, -39, 356, -18, 148, 124, 207, 224, -67, 177, 28, 250, 144, 137, 184, 69, 48, 150, 116, -39, 128, 248, -51, 128, 23, 46, 28, -99, 192, 293, 363, 377, 48, 92, 372, 146, 5, 288, 76, 60, 18, 26, 138, 166, 70, 284, 118, -1, 167, 108, 32, 214, 61, 95, 118, 242, 136, -76, 182, 104, 29, 336, 216, 206, 285, 251, -50, 266, 159, 86, 86, 350, -88, 264, -28, -42, 216, 82, 5, 62, 102, 198, 245, 314, 64, 30, 143, 382, -17], \"type\": \"scatter\", \"uid\": \"f722a23c-f9e3-46e9-bc18-0ef071416b10\"}], {\"xaxis\": {\"title\": {\"text\": \"temperature\"}}, \"yaxis\": {\"title\": {\"text\": \"customers\"}}}, {\"showLink\": false, \"linkText\": \"Export to plot.ly\", \"plotlyServerURL\": \"https://plot.ly\"})});</script><script type=\"text/javascript\">window.addEventListener(\"resize\", function(){window._Plotly.Plots.resize(document.getElementById(\"a548272b-98da-4ac0-bffc-e69344d7dc69\"));});</script>"
      ],
      "text/vnd.plotly.v1+html": [
       "<div id=\"a548272b-98da-4ac0-bffc-e69344d7dc69\" style=\"height: 525px; width: 100%;\" class=\"plotly-graph-div\"></div><script type=\"text/javascript\">require([\"plotly\"], function(Plotly) { window.PLOTLYENV=window.PLOTLYENV || {};window.PLOTLYENV.BASE_URL=\"https://plot.ly\";Plotly.newPlot(\"a548272b-98da-4ac0-bffc-e69344d7dc69\", [{\"mode\": \"markers\", \"name\": \"initial data\", \"text\": [], \"x\": [14, -4, 45, 10, 106, 95, 100, 77, 33, 4, 104, -13, 79, 90, -20, 94, 48, 38, 6, 61, -13, -15, -14, -18, 77, 35, 88, -13, 36, 92, 106, 39, 68, 39, 36, 97, 54, -15, 86, 5, 27, 55, 10, 65, 108, 88, 109, 28, 57, 52, 107, 109, 80, -12, 102, 42, 83, 86, 24, 73, 75, 2, 92, 110, 7, 21, 80, 74, 105, -13, 100, -9, 58, 80, 23, 23, 108, 38, -17, 31, 39, 83, 111, 68, 70, 97, 48, -19, 78, 111, 13, 32, 89, -6, 103, 73, 31, 109, 85, 104, 71, 86, 68, -20, 64, 97, -13, 38, 25, 26, 3, 45, -12, -2, 1, -16, 95, -17, 51, 43, 48, 8, 27, 68, 54, -3, 22, 20, 45, 23, 49, 55, 96, 62, 107, 101, 9, -14, 59, 78, 67, 87, 28, 46, 7, 44, 110, 33, 90, -15, 37, -16, 81, 17, -11, 21, 94, 109, 89, 36, 95, 37, -13, 81, 62, 89, -5, 56, 12, 34, -8, 58, -2, -1, 59, 56, 20, 86, 44, 13, -18, -11, 35, 97, 23, 110, -11, 76, 31, 68, 5, 32, 90, 29, 106, 6, 79, 55, 109, 107, -16, 63, 82, 52, -16, 20, 31, 63, 14, 66, 89, 34, 48, 4, 77, 68, 104, 40, -4, -10, 1, 14, 23, 22, 34, 48, 65, 109, 45, 74, 66, 67, 9, 54, 40, 105, 14, 6, 62, -10, 84, -2, 77, 17, 12, 67, 9, 76, -1, 37, 0, 48, 73, 55, 9, 97, 50, 7, -9, 55, -17, -17, 3, 85, 9, -10, 28, 41, 87, 21, 9, 95, 22, 41, 20, 6, 91, 76, 55, 44, 102, 60, 5, 33, 61, -10, -14, -18, 55, 61, 95, 80, 60, 82, -4, -4, 61, 96, 8, 44, 35, 100, 71, 46, 26, 33, 58, 30, 43, 72, 0, 51, 2, 94, 3, 66, 38, 79, 58, -10, 63, 27, 61, 57, 42, 65, 5, 3, 42, 36, -15, 42, 82, -2, 48, -2, -1, -15, -18, 54, 71, 106, 100, 19, 5, 108, 63, -1, 110, 24, 25, 18, 16, 61, 58, 7, 111, 55, 12, 32, 16, -12, 60, 32, 25, 56, 90, 20, -8, 43, 44, -4, 94, 90, 44, 92, 96, -18, 81, 66, 23, 46, 104, -14, 86, -16, -5, 70, 15, 12, 15, 46, 50, 81, 82, 24, 2, 39, 104, -19], \"y\": [27, 63, 156, 98, 370, 282, 301, 251, 165, 74, 309, 6, 263, 280, -64, 234, 102, 184, 52, 163, 31, -53, -23, -38, 247, 140, 246, 19, 69, 247, 389, 153, 189, 96, 112, 340, 157, -92, 324, 55, 110, 203, 101, 177, 403, 214, 401, 47, 176, 121, 329, 288, 215, -76, 359, 127, 286, 308, 113, 201, 248, 58, 248, 394, 15, 33, 290, 298, 359, -69, 315, -16, 177, 276, 10, 57, 399, 166, -106, 40, 119, 255, 325, 188, 222, 268, 222, -66, 243, 352, 43, 150, 250, 61, 340, 284, 140, 298, 248, 350, 205, 270, 171, -114, 162, 234, 40, 129, 49, 37, 77, 170, -17, 45, 71, -17, 360, -29, 93, 100, 197, 79, 110, 222, 240, 33, 92, 126, 103, 105, 184, 157, 228, 197, 391, 293, 85, 30, 221, 252, 184, 316, 159, 128, 53, 206, 270, 138, 319, -2, 137, -91, 309, 54, -19, 8, 326, 306, 308, 117, 270, 69, -97, 272, 193, 312, 64, 185, 14, 160, -18, 238, -23, 56, 247, 119, 69, 328, 97, 87, -97, -3, 62, 344, 14, 312, 36, 209, 56, 246, 25, 113, 263, 162, 311, 18, 262, 173, 284, 280, 25, 223, 305, 226, -96, 43, 109, 198, 73, 197, 307, 144, 128, 75, 237, 228, 308, 126, -10, -83, 46, 63, 119, 69, 110, 132, 153, 309, 188, 199, 205, 258, 101, 143, 95, 290, 94, 50, 205, 12, 253, -37, 223, 69, -7, 168, 25, 269, 19, 177, -35, 131, 170, 119, -28, 286, 98, 87, 48, 218, -24, -41, -21, 239, -9, -34, 126, 122, 327, 118, 63, 268, 65, 123, 72, 76, 353, 267, 159, 187, 312, 204, 82, 67, 177, -70, -91, -111, 106, 245, 306, 278, 193, 236, 30, -32, 161, 235, -33, 171, 82, 378, 167, 175, 83, 72, 134, 148, 146, 159, -51, 230, -39, 356, -18, 148, 124, 207, 224, -67, 177, 28, 250, 144, 137, 184, 69, 48, 150, 116, -39, 128, 248, -51, 128, 23, 46, 28, -99, 192, 293, 363, 377, 48, 92, 372, 146, 5, 288, 76, 60, 18, 26, 138, 166, 70, 284, 118, -1, 167, 108, 32, 214, 61, 95, 118, 242, 136, -76, 182, 104, 29, 336, 216, 206, 285, 251, -50, 266, 159, 86, 86, 350, -88, 264, -28, -42, 216, 82, 5, 62, 102, 198, 245, 314, 64, 30, 143, 382, -17], \"type\": \"scatter\", \"uid\": \"f722a23c-f9e3-46e9-bc18-0ef071416b10\"}], {\"xaxis\": {\"title\": {\"text\": \"temperature\"}}, \"yaxis\": {\"title\": {\"text\": \"customers\"}}}, {\"showLink\": false, \"linkText\": \"Export to plot.ly\", \"plotlyServerURL\": \"https://plot.ly\"})});</script><script type=\"text/javascript\">window.addEventListener(\"resize\", function(){window._Plotly.Plots.resize(document.getElementById(\"a548272b-98da-4ac0-bffc-e69344d7dc69\"));});</script>"
      ]
     },
     "metadata": {},
     "output_type": "display_data"
    }
   ],
   "source": [
    "layout = {'yaxis': {'title': 'customers'}, 'xaxis': {'title': 'temperature'}}\n",
    "data_trace = trace_values(random_temperatures, noisy_customers, name = 'initial data')\n",
    "plot([data_trace], layout = layout)\n"
   ]
  },
  {
   "cell_type": "markdown",
   "metadata": {},
   "source": [
    "Now our goal is that when we calculate the score of our dataset, that we do not get a higher score than we are likely to see in production.  That is, we do not want to see an inflated score because our model fits to randomness that we are unlikely to see in production."
   ]
  },
  {
   "cell_type": "markdown",
   "metadata": {},
   "source": [
    "The way do this is the following."
   ]
  },
  {
   "cell_type": "markdown",
   "metadata": {},
   "source": [
    "We separate our model into two groups.  A random selection of 80 percent of the data, and then the remaining 20 percent of the data.  We'll then train our data on just the 80 percent of the data, and see how well our model performs on the remaining 20 percent.  \n",
    "\n",
    "We'll see the benefit of this in a little, but for now let's get to it."
   ]
  },
  {
   "cell_type": "markdown",
   "metadata": {},
   "source": [
    "### Splitting our data into two groups"
   ]
  },
  {
   "cell_type": "markdown",
   "metadata": {},
   "source": [
    "To split our data into two groups, we'll shuffle our data and then put the first 80 percent in one group and remaining in another.  Let's see an example with a small list."
   ]
  },
  {
   "cell_type": "code",
   "execution_count": 180,
   "metadata": {},
   "outputs": [
    {
     "data": {
      "text/plain": [
       "[25, 47, 93, 100, 10000]"
      ]
     },
     "execution_count": 180,
     "metadata": {},
     "output_type": "execute_result"
    }
   ],
   "source": [
    "from random import shuffle\n",
    "initial_list = [93, 25, 47, 100, 10000]\n",
    "shuffle(initial_list)\n",
    "initial_list"
   ]
  },
  {
   "cell_type": "code",
   "execution_count": 181,
   "metadata": {},
   "outputs": [
    {
     "data": {
      "text/plain": [
       "[25, 47, 93]"
      ]
     },
     "execution_count": 181,
     "metadata": {},
     "output_type": "execute_result"
    }
   ],
   "source": [
    "initial_list[0:3]"
   ]
  },
  {
   "cell_type": "markdown",
   "metadata": {},
   "source": [
    "Ok, now we want to do this with our datasets of `random_temperatures` and `noisy_customers` above.  But when we do so, we want need to make sure that we are maintaining the relationship between a temperature and the number of customers on that day.  We can do this by zipping together our data."
   ]
  },
  {
   "cell_type": "markdown",
   "metadata": {},
   "source": [
    "This way when we shuffle the data, we are shuffling the data as a pair."
   ]
  },
  {
   "cell_type": "code",
   "execution_count": 182,
   "metadata": {},
   "outputs": [
    {
     "data": {
      "text/plain": [
       "[(82, 305), (81, 309), (9, -9)]"
      ]
     },
     "execution_count": 182,
     "metadata": {},
     "output_type": "execute_result"
    }
   ],
   "source": [
    "from random import Random\n",
    "temps_and_customers = list(zip(random_temperatures, noisy_customers))\n",
    "temps_and_customers[0:3]\n",
    "# [(47, 146), (38, 104), (62, 224)]\n",
    "len(temps_and_customers)\n",
    "# 500\n",
    "\n",
    "Random(1).shuffle(temps_and_customers)\n",
    "temps_and_customers[0:3]"
   ]
  },
  {
   "cell_type": "markdown",
   "metadata": {},
   "source": [
    "So now that our paired list is shuffled, we select 80 percent of the dataset.  This is our first 400 elements, which we assign to be our training set.  We assign the second set of data to be our test set."
   ]
  },
  {
   "cell_type": "code",
   "execution_count": 183,
   "metadata": {},
   "outputs": [
    {
     "data": {
      "text/plain": [
       "320"
      ]
     },
     "execution_count": 183,
     "metadata": {},
     "output_type": "execute_result"
    }
   ],
   "source": [
    "training_set = temps_and_customers[:320]\n",
    "len(training_set)"
   ]
  },
  {
   "cell_type": "code",
   "execution_count": 184,
   "metadata": {},
   "outputs": [
    {
     "data": {
      "text/plain": [
       "80"
      ]
     },
     "execution_count": 184,
     "metadata": {},
     "output_type": "execute_result"
    }
   ],
   "source": [
    "test_set = temps_and_customers[320:]\n",
    "len(test_set)"
   ]
  },
  {
   "cell_type": "markdown",
   "metadata": {},
   "source": [
    "### Training our model"
   ]
  },
  {
   "cell_type": "markdown",
   "metadata": {},
   "source": [
    "Let's train our our model on our training data."
   ]
  },
  {
   "cell_type": "code",
   "execution_count": 185,
   "metadata": {},
   "outputs": [],
   "source": [
    "temperature_training_inputs = list(map(lambda datapoint: [datapoint[0]], training_set))\n",
    "weather_training = list(map(lambda datapoint: datapoint[1], training_set))"
   ]
  },
  {
   "cell_type": "code",
   "execution_count": 186,
   "metadata": {},
   "outputs": [
    {
     "data": {
      "text/plain": [
       "LinearRegression(copy_X=True, fit_intercept=True, n_jobs=1, normalize=False)"
      ]
     },
     "execution_count": 186,
     "metadata": {},
     "output_type": "execute_result"
    }
   ],
   "source": [
    "from sklearn.linear_model import LinearRegression\n",
    "model = LinearRegression()\n",
    "model.fit(temperature_training_inputs, weather_training)"
   ]
  },
  {
   "cell_type": "code",
   "execution_count": 187,
   "metadata": {},
   "outputs": [
    {
     "data": {
      "text/plain": [
       "array([3.02550185])"
      ]
     },
     "execution_count": 187,
     "metadata": {},
     "output_type": "execute_result"
    }
   ],
   "source": [
    "model.coef_"
   ]
  },
  {
   "cell_type": "code",
   "execution_count": 188,
   "metadata": {},
   "outputs": [
    {
     "data": {
      "text/plain": [
       "10.66080295100653"
      ]
     },
     "execution_count": 188,
     "metadata": {},
     "output_type": "execute_result"
    }
   ],
   "source": [
    "model.intercept_"
   ]
  },
  {
   "cell_type": "markdown",
   "metadata": {},
   "source": [
    "Now we once again have trained an model that adjusted to the randomness in the data.  And this is reflected in parameters that do not match the underlying model of $y = 3x + 10$.  Because our model matches randomness in data that it will not see again, we expect the it's score be relatively high."
   ]
  },
  {
   "cell_type": "code",
   "execution_count": 189,
   "metadata": {},
   "outputs": [
    {
     "data": {
      "text/plain": [
       "0.8932657840110381"
      ]
     },
     "execution_count": 189,
     "metadata": {},
     "output_type": "execute_result"
    }
   ],
   "source": [
    "model.score(temperature_training_inputs, weather_training)"
   ]
  },
  {
   "cell_type": "markdown",
   "metadata": {},
   "source": [
    "We know that when we put this model into production, the production dataset does not have the benefit of being trained on.  Now after we train the model, we still need to decide if we want to dedicate the resources (and potential risk) of relying on this model.  We don't want to wait around for a number of months to collect enough data to see if our model performs well. "
   ]
  },
  {
   "cell_type": "markdown",
   "metadata": {},
   "source": [
    "But, remember, there is one other dataset we have that also does not have the benefit of being trained on."
   ]
  },
  {
   "cell_type": "markdown",
   "metadata": {},
   "source": [
    "### Behold, the test set"
   ]
  },
  {
   "cell_type": "markdown",
   "metadata": {},
   "source": [
    "Just like our future production data, the test set has random data that our model did not adjust to.  Because of this, we *do not* expect the score from our test set to reflect that of an overfit model.  Our model won't pick up on the randomness of our test set, because it did not train on our test set.  Ok, let's see how well our model scores on this dataset."
   ]
  },
  {
   "cell_type": "code",
   "execution_count": 190,
   "metadata": {},
   "outputs": [
    {
     "data": {
      "text/plain": [
       "0.8732189863950993"
      ]
     },
     "execution_count": 190,
     "metadata": {},
     "output_type": "execute_result"
    }
   ],
   "source": [
    "test_weather_inputs = list(map(lambda datapoint: [datapoint[0]], test_set))\n",
    "test_customers = list(map(lambda datapoint: datapoint[1], test_set))\n",
    "model.score(test_weather_inputs, test_customers)"
   ]
  },
  {
   "cell_type": "markdown",
   "metadata": {},
   "source": [
    "Ok, so we can see that our model does slightly worse on the test set. So we did not use our test set to improve our model, but we did use it to get a more accurate sense of how it would perform in the wild."
   ]
  },
  {
   "cell_type": "markdown",
   "metadata": {},
   "source": [
    "### Putting it into production"
   ]
  },
  {
   "cell_type": "markdown",
   "metadata": {},
   "source": [
    "If we determine that a score of .87 is strong enough to place into production, we can then wait around and hopefully see that our model actually does do an ok job.\n",
    "\n",
    "Let's simulate that by generating some more data with the same characteristics as previously."
   ]
  },
  {
   "cell_type": "code",
   "execution_count": 214,
   "metadata": {},
   "outputs": [],
   "source": [
    "from random import randint, seed\n",
    "from graph import trace_values, plot\n",
    "seed(5)\n",
    "new_random_temperatures = list(map(lambda num: randint(-20,111), range(0, 80)))\n",
    "\n",
    "new_perfect_customers = list(map(lambda temp: 3*temp + 10, new_random_temperatures))\n",
    "new_random_errors = list(map(lambda num: randint(-70,70), range(0, 80)))\n",
    "new_noisy_customers = list(map(lambda index: new_perfect_customers[index] + new_random_errors[index],range(0, 80)))\n"
   ]
  },
  {
   "cell_type": "code",
   "execution_count": 215,
   "metadata": {},
   "outputs": [],
   "source": [
    "new_temperature_inputs = list(map(lambda temp: [temp], new_random_temperatures))"
   ]
  },
  {
   "cell_type": "code",
   "execution_count": 216,
   "metadata": {},
   "outputs": [
    {
     "data": {
      "text/plain": [
       "0.8859388984794805"
      ]
     },
     "execution_count": 216,
     "metadata": {},
     "output_type": "execute_result"
    }
   ],
   "source": [
    "model.score(new_temperature_inputs, new_noisy_customers)"
   ]
  },
  {
   "cell_type": "markdown",
   "metadata": {},
   "source": [
    "And we see that our production score is fairly close, and even performs a little better than our test set score.  (This is more likely to occur when working with a relatively small test set and production dataset, as we are here.)\n",
    "\n",
    "But the overall point is that by separating out against a test set, we are helping to protect against a training performance score that we cannot rely on, because of overfitting."
   ]
  },
  {
   "cell_type": "markdown",
   "metadata": {},
   "source": [
    "### Summary"
   ]
  },
  {
   "cell_type": "markdown",
   "metadata": {},
   "source": [
    "In this lesson, we saw the benefits of separating out our data into a training set and a test set.  Our training set is subject to an overfit model, as our model is susceptible to adjusting in the randomness in the data.  Thus if we were to evaluate the performance of our model on our training set, in general we expect our model to perform better than it would on production data.  We can protect against being overconfident in our model by separating out a test set that we do not train our model on.  Because our model has not seen our test set, our model does not have the risk of adjusting to the randomness in the test data.  Because of this, we evaluate the model against the test set."
   ]
  }
 ],
 "metadata": {
  "kernelspec": {
   "display_name": "Python 3",
   "language": "python",
   "name": "python3"
  },
  "language_info": {
   "codemirror_mode": {
    "name": "ipython",
    "version": 3
   },
   "file_extension": ".py",
   "mimetype": "text/x-python",
   "name": "python",
   "nbconvert_exporter": "python",
   "pygments_lexer": "ipython3",
   "version": "3.7.0"
  }
 },
 "nbformat": 4,
 "nbformat_minor": 2
}
