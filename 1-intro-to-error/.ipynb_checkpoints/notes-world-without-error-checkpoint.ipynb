{
 "cells": [
  {
   "cell_type": "markdown",
   "metadata": {},
   "source": [
    "# What could go wrong"
   ]
  },
  {
   "cell_type": "markdown",
   "metadata": {},
   "source": [
    "### Introduction"
   ]
  },
  {
   "cell_type": "markdown",
   "metadata": {},
   "source": [
    "As data scientists, we too, can call ourselves a creator.  We do research on data that we have gathered, train our machine learning model to find the parameters that best predict our data.  Then we release our model into production to have that model make predictions on real data that has never before been seen.  \n",
    "\n",
    "And just like other creators, we find that things can go wrong once we release our creation into production.  If we're not careful, we'll see that the accurate predictions we made on our training data doesn't occur in production.  \n",
    "\n",
    "In this section we'll explore some of the things that can go wrong."
   ]
  },
  {
   "cell_type": "markdown",
   "metadata": {},
   "source": [
    "### Let us count the ways"
   ]
  },
  {
   "cell_type": "markdown",
   "metadata": {},
   "source": [
    "When we develop a machine learning model, we use our model to predict future outcomes.  But we don't expect our model to be perfect.  As we know, the difference between what our model predicts and what we observe is our error.  As we'll see in this section, the error that we see in our model can come from three different sources: randomness, bias, and variance."
   ]
  },
  {
   "cell_type": "markdown",
   "metadata": {},
   "source": [
    "### Imagining a world without error"
   ]
  },
  {
   "cell_type": "markdown",
   "metadata": {},
   "source": [
    "In the real world, we'll never encounter a machine learning model that perfectly predicts the outcomes of data.  \n",
    "\n",
    "* But here, in this lesson, *we can create a dataset that our machine learning model can perfectly predict*.  Let's see how."
   ]
  },
  {
   "cell_type": "markdown",
   "metadata": {},
   "source": [
    "We'll return to our scenario of using temperatures to predict customers.  "
   ]
  },
  {
   "cell_type": "markdown",
   "metadata": {},
   "source": [
    "#### 1. Creating random numbers"
   ]
  },
  {
   "cell_type": "markdown",
   "metadata": {},
   "source": [
    "Let's start by creating some random temperatures."
   ]
  },
  {
   "cell_type": "code",
   "execution_count": 1,
   "metadata": {},
   "outputs": [
    {
     "data": {
      "text/plain": [
       "[57, 54, 78]"
      ]
     },
     "execution_count": 1,
     "metadata": {},
     "output_type": "execute_result"
    }
   ],
   "source": [
    "from random import randint\n",
    "random_temperatures = list(map(lambda num: randint(30,101), range(0, 50)))\n",
    "random_temperatures[0:3]"
   ]
  },
  {
   "cell_type": "markdown",
   "metadata": {},
   "source": [
    "Press shift + enter on the cell above multiple times.  Notice that every time the cell is executed, a different set of numbers is generated.  This makes sense, but it can also be problematic.  We don't want this process to generate a list of random numbers that perhaps results in a difficult to understand scenario, that no one else has.  So we can ensure that the same list of random numbers are generated each time, by *seeding* our random number generator. "
   ]
  },
  {
   "cell_type": "markdown",
   "metadata": {},
   "source": [
    "Let's see how seeding works."
   ]
  },
  {
   "cell_type": "code",
   "execution_count": 3,
   "metadata": {},
   "outputs": [
    {
     "data": {
      "text/plain": [
       "3"
      ]
     },
     "execution_count": 3,
     "metadata": {},
     "output_type": "execute_result"
    }
   ],
   "source": [
    "from random import randint\n",
    "import random\n",
    "random.seed(1)\n",
    "randint(1, 10)"
   ]
  },
  {
   "cell_type": "markdown",
   "metadata": {},
   "source": [
    "Seeding configures our random number generator to generate the same sequence of numbers.  Try re-executing the cell above, notice that the first random number is always 3."
   ]
  },
  {
   "cell_type": "markdown",
   "metadata": {},
   "source": [
    "So now let's use seeding to generate a list of 50 random numbers that will be the same list even if we re-execute the cell."
   ]
  },
  {
   "cell_type": "code",
   "execution_count": 4,
   "metadata": {},
   "outputs": [
    {
     "data": {
      "text/plain": [
       "[47, 38, 62]"
      ]
     },
     "execution_count": 4,
     "metadata": {},
     "output_type": "execute_result"
    }
   ],
   "source": [
    "from random import randint\n",
    "random.seed(1)\n",
    "random_temperatures = list(map(lambda num: randint(30,101), range(0, 50)))\n",
    "random_temperatures[0:3]"
   ]
  },
  {
   "cell_type": "markdown",
   "metadata": {},
   "source": [
    "So the first three numbers will always be 47, 38, and 62."
   ]
  },
  {
   "cell_type": "markdown",
   "metadata": {},
   "source": [
    "### 2. Generate some outcomes and model"
   ]
  },
  {
   "cell_type": "markdown",
   "metadata": {},
   "source": [
    "Ok, so now let's imagine that our restaurant sees the following list of customers related to the data generated above."
   ]
  },
  {
   "cell_type": "code",
   "execution_count": 5,
   "metadata": {},
   "outputs": [],
   "source": [
    "perfect_customers = list(map(lambda temp: 3*temp + 10, random_temperatures))"
   ]
  },
  {
   "cell_type": "markdown",
   "metadata": {},
   "source": [
    "We created our data according to the formula $y = 3*temperature + 10$.  Let's call this our **true model**.  In other words, this is the real process that generates this data.  And as we know, the goal of machine learning is to take a look at the data, and try to discover the true underlying model."
   ]
  },
  {
   "cell_type": "markdown",
   "metadata": {},
   "source": [
    "Ok, so let's plot our data."
   ]
  },
  {
   "cell_type": "code",
   "execution_count": 7,
   "metadata": {},
   "outputs": [
    {
     "data": {
      "application/vnd.plotly.v1+json": {
       "config": {
        "linkText": "Export to plot.ly",
        "plotlyServerURL": "https://plot.ly",
        "showLink": false
       },
       "data": [
        {
         "mode": "markers",
         "name": "initial data",
         "text": [],
         "type": "scatter",
         "uid": "56d0a12e-8392-49d5-8380-914d1afb424b",
         "x": [
          47,
          38,
          62,
          45,
          93,
          87,
          90,
          78,
          56,
          42,
          92,
          33,
          79,
          85,
          30,
          87,
          64,
          59,
          43,
          70,
          33,
          32,
          33,
          99,
          31,
          78,
          57,
          84,
          33,
          97,
          58,
          86,
          93,
          100,
          59,
          74,
          59,
          58,
          88,
          67,
          32,
          83,
          101,
          42,
          53,
          67,
          45,
          72,
          94,
          84
         ],
         "y": [
          151,
          124,
          196,
          145,
          289,
          271,
          280,
          244,
          178,
          136,
          286,
          109,
          247,
          265,
          100,
          271,
          202,
          187,
          139,
          220,
          109,
          106,
          109,
          307,
          103,
          244,
          181,
          262,
          109,
          301,
          184,
          268,
          289,
          310,
          187,
          232,
          187,
          184,
          274,
          211,
          106,
          259,
          313,
          136,
          169,
          211,
          145,
          226,
          292,
          262
         ]
        }
       ],
       "layout": {
        "autosize": true,
        "xaxis": {
         "autorange": true,
         "range": [
          25.534355179704015,
          105.46564482029598
         ],
         "title": {
          "text": "temperature"
         },
         "type": "linear"
        },
        "yaxis": {
         "autorange": true,
         "range": [
          84.39808917197452,
          328.6019108280255
         ],
         "title": {
          "text": "customers"
         },
         "type": "linear"
        }
       }
      },
      "image/png": "[encoded data removed]",
      "text/html": [
       "<div id=\"23ec6c31-0c87-4d97-9847-7448bbb2bcc3\" style=\"height: 525px; width: 100%;\" class=\"plotly-graph-div\"></div><script type=\"text/javascript\">require([\"plotly\"], function(Plotly) { window.PLOTLYENV=window.PLOTLYENV || {};window.PLOTLYENV.BASE_URL=\"https://plot.ly\";Plotly.newPlot(\"23ec6c31-0c87-4d97-9847-7448bbb2bcc3\", [{\"mode\": \"markers\", \"name\": \"initial data\", \"text\": [], \"x\": [47, 38, 62, 45, 93, 87, 90, 78, 56, 42, 92, 33, 79, 85, 30, 87, 64, 59, 43, 70, 33, 32, 33, 99, 31, 78, 57, 84, 33, 97, 58, 86, 93, 100, 59, 74, 59, 58, 88, 67, 32, 83, 101, 42, 53, 67, 45, 72, 94, 84], \"y\": [151, 124, 196, 145, 289, 271, 280, 244, 178, 136, 286, 109, 247, 265, 100, 271, 202, 187, 139, 220, 109, 106, 109, 307, 103, 244, 181, 262, 109, 301, 184, 268, 289, 310, 187, 232, 187, 184, 274, 211, 106, 259, 313, 136, 169, 211, 145, 226, 292, 262], \"type\": \"scatter\", \"uid\": \"d45bb361-1963-4037-b560-1854821e20a9\"}], {\"xaxis\": {\"title\": {\"text\": \"temperature\"}}, \"yaxis\": {\"title\": {\"text\": \"customers\"}}}, {\"showLink\": false, \"linkText\": \"Export to plot.ly\", \"plotlyServerURL\": \"https://plot.ly\"})});</script><script type=\"text/javascript\">window.addEventListener(\"resize\", function(){window._Plotly.Plots.resize(document.getElementById(\"23ec6c31-0c87-4d97-9847-7448bbb2bcc3\"));});</script>"
      ],
      "text/vnd.plotly.v1+html": [
       "<div id=\"23ec6c31-0c87-4d97-9847-7448bbb2bcc3\" style=\"height: 525px; width: 100%;\" class=\"plotly-graph-div\"></div><script type=\"text/javascript\">require([\"plotly\"], function(Plotly) { window.PLOTLYENV=window.PLOTLYENV || {};window.PLOTLYENV.BASE_URL=\"https://plot.ly\";Plotly.newPlot(\"23ec6c31-0c87-4d97-9847-7448bbb2bcc3\", [{\"mode\": \"markers\", \"name\": \"initial data\", \"text\": [], \"x\": [47, 38, 62, 45, 93, 87, 90, 78, 56, 42, 92, 33, 79, 85, 30, 87, 64, 59, 43, 70, 33, 32, 33, 99, 31, 78, 57, 84, 33, 97, 58, 86, 93, 100, 59, 74, 59, 58, 88, 67, 32, 83, 101, 42, 53, 67, 45, 72, 94, 84], \"y\": [151, 124, 196, 145, 289, 271, 280, 244, 178, 136, 286, 109, 247, 265, 100, 271, 202, 187, 139, 220, 109, 106, 109, 307, 103, 244, 181, 262, 109, 301, 184, 268, 289, 310, 187, 232, 187, 184, 274, 211, 106, 259, 313, 136, 169, 211, 145, 226, 292, 262], \"type\": \"scatter\", \"uid\": \"d45bb361-1963-4037-b560-1854821e20a9\"}], {\"xaxis\": {\"title\": {\"text\": \"temperature\"}}, \"yaxis\": {\"title\": {\"text\": \"customers\"}}}, {\"showLink\": false, \"linkText\": \"Export to plot.ly\", \"plotlyServerURL\": \"https://plot.ly\"})});</script><script type=\"text/javascript\">window.addEventListener(\"resize\", function(){window._Plotly.Plots.resize(document.getElementById(\"23ec6c31-0c87-4d97-9847-7448bbb2bcc3\"));});</script>"
      ]
     },
     "metadata": {},
     "output_type": "display_data"
    }
   ],
   "source": [
    "from graph import trace_values, plot\n",
    "data_trace = trace_values(random_temperatures, perfect_customers, name = 'initial data')\n",
    "layout = {'yaxis': {'title': 'customers'}, 'xaxis': {'title': 'temperature'}}\n",
    "plot([data_trace], layout = layout)"
   ]
  },
  {
   "cell_type": "markdown",
   "metadata": {},
   "source": [
    "Ok, so our restaurant observed the above beautiful data of temperatures and customers.  And what we feed our linear regression model to is this data, and hope that it can discover the formula underneath it all."
   ]
  },
  {
   "cell_type": "code",
   "execution_count": 8,
   "metadata": {},
   "outputs": [],
   "source": [
    "temperature_inputs = list(map(lambda temperature: [temperature], random_temperatures))"
   ]
  },
  {
   "cell_type": "code",
   "execution_count": 9,
   "metadata": {},
   "outputs": [
    {
     "data": {
      "text/plain": [
       "LinearRegression(copy_X=True, fit_intercept=True, n_jobs=1, normalize=False)"
      ]
     },
     "execution_count": 9,
     "metadata": {},
     "output_type": "execute_result"
    }
   ],
   "source": [
    "from sklearn.linear_model import LinearRegression\n",
    "perfect_model = LinearRegression()\n",
    "perfect_model.fit(temperature_inputs, perfect_customers)"
   ]
  },
  {
   "cell_type": "code",
   "execution_count": 10,
   "metadata": {},
   "outputs": [
    {
     "data": {
      "text/plain": [
       "array([3.])"
      ]
     },
     "execution_count": 10,
     "metadata": {},
     "output_type": "execute_result"
    }
   ],
   "source": [
    "perfect_model.coef_"
   ]
  },
  {
   "cell_type": "code",
   "execution_count": 11,
   "metadata": {},
   "outputs": [
    {
     "data": {
      "text/plain": [
       "10.000000000000028"
      ]
     },
     "execution_count": 11,
     "metadata": {},
     "output_type": "execute_result"
    }
   ],
   "source": [
    "perfect_model.intercept_"
   ]
  },
  {
   "cell_type": "markdown",
   "metadata": {},
   "source": [
    "Hot damn! Our regression model started off not knowing the underlying true model, but by feeding it data, it was able to discover this model.  We can confirm that this model matches the data well, by scoring the model against this data."
   ]
  },
  {
   "cell_type": "code",
   "execution_count": 12,
   "metadata": {},
   "outputs": [
    {
     "data": {
      "text/plain": [
       "1.0"
      ]
     },
     "execution_count": 12,
     "metadata": {},
     "output_type": "execute_result"
    }
   ],
   "source": [
    "perfect_model.score(temperature_inputs, perfect_customers)"
   ]
  },
  {
   "cell_type": "markdown",
   "metadata": {},
   "source": [
    "After training this model on the already seen data, we can place it into production to predict future amounts of customers. Because we live in make believe world  where $customers =  3*temp + 10 $, our model will predict the new number of customers perfectly as well."
   ]
  },
  {
   "cell_type": "code",
   "execution_count": 13,
   "metadata": {},
   "outputs": [
    {
     "data": {
      "text/plain": [
       "[94, 54, 68]"
      ]
     },
     "execution_count": 13,
     "metadata": {},
     "output_type": "execute_result"
    }
   ],
   "source": [
    "new_random_temperatures = list(map(lambda num: randint(30,101), range(0, 50)))\n",
    "new_perfect_customers = list(map(lambda temp: 3*temp + 10, new_random_temperatures))\n",
    "new_random_temperatures[0:3]"
   ]
  },
  {
   "cell_type": "code",
   "execution_count": 14,
   "metadata": {},
   "outputs": [
    {
     "data": {
      "text/plain": [
       "[[94], [54], [68]]"
      ]
     },
     "execution_count": 14,
     "metadata": {},
     "output_type": "execute_result"
    }
   ],
   "source": [
    "input_new_temperatures = list(map(lambda temp: [temp], new_random_temperatures))\n",
    "input_new_temperatures[0:3]"
   ]
  },
  {
   "cell_type": "code",
   "execution_count": 15,
   "metadata": {},
   "outputs": [
    {
     "data": {
      "application/vnd.plotly.v1+json": {
       "config": {
        "linkText": "Export to plot.ly",
        "plotlyServerURL": "https://plot.ly",
        "showLink": false
       },
       "data": [
        {
         "mode": "markers",
         "name": "initial data",
         "text": [],
         "type": "scatter",
         "uid": "3e40ad58-17cd-45be-9c8f-9327970de826",
         "x": [
          47,
          38,
          62,
          45,
          93,
          87,
          90,
          78,
          56,
          42,
          92,
          33,
          79,
          85,
          30,
          87,
          64,
          59,
          43,
          70,
          33,
          32,
          33,
          99,
          31,
          78,
          57,
          84,
          33,
          97,
          58,
          86,
          93,
          100,
          59,
          74,
          59,
          58,
          88,
          67,
          32,
          83,
          101,
          42,
          53,
          67,
          45,
          72,
          94,
          84
         ],
         "y": [
          151,
          124,
          196,
          145,
          289,
          271,
          280,
          244,
          178,
          136,
          286,
          109,
          247,
          265,
          100,
          271,
          202,
          187,
          139,
          220,
          109,
          106,
          109,
          307,
          103,
          244,
          181,
          262,
          109,
          301,
          184,
          268,
          289,
          310,
          187,
          232,
          187,
          184,
          274,
          211,
          106,
          259,
          313,
          136,
          169,
          211,
          145,
          226,
          292,
          262
         ]
        },
        {
         "mode": "markers",
         "name": "new",
         "text": [],
         "type": "scatter",
         "uid": "00a30973-f500-49fb-916f-7c20b8c68c7b",
         "x": [
          94,
          54,
          68,
          66,
          93,
          94,
          80,
          34,
          91,
          61,
          81,
          83,
          52,
          76,
          100,
          77,
          41,
          86,
          95,
          43,
          50,
          96,
          80,
          77,
          92,
          33,
          90,
          35,
          69,
          80,
          51,
          51,
          94,
          59,
          31,
          55,
          99,
          100,
          59,
          81,
          95,
          74,
          75,
          88,
          64,
          100,
          30,
          79,
          95,
          46
         ],
         "y": [
          292,
          172,
          214,
          208,
          289,
          292,
          250,
          112,
          283,
          193,
          253,
          259,
          166,
          238,
          310,
          241,
          133,
          268,
          295,
          139,
          160,
          298,
          250,
          241,
          286,
          109,
          280,
          115,
          217,
          250,
          163,
          163,
          292,
          187,
          103,
          175,
          307,
          310,
          187,
          253,
          295,
          232,
          235,
          274,
          202,
          310,
          100,
          247,
          295,
          148
         ]
        }
       ],
       "layout": {
        "autosize": true,
        "xaxis": {
         "autorange": true,
         "range": [
          25.49141876430206,
          105.50858123569795
         ],
         "title": {
          "text": "temperature"
         },
         "type": "linear"
        },
        "yaxis": {
         "autorange": true,
         "range": [
          84.39808917197452,
          328.6019108280255
         ],
         "title": {
          "text": "customers"
         },
         "type": "linear"
        }
       }
      },
      "image/png": "[encoded data removed]",
      "text/html": [
       "<div id=\"91af71dd-6398-46ba-a051-3b8f9922be4a\" style=\"height: 525px; width: 100%;\" class=\"plotly-graph-div\"></div><script type=\"text/javascript\">require([\"plotly\"], function(Plotly) { window.PLOTLYENV=window.PLOTLYENV || {};window.PLOTLYENV.BASE_URL=\"https://plot.ly\";Plotly.newPlot(\"91af71dd-6398-46ba-a051-3b8f9922be4a\", [{\"mode\": \"markers\", \"name\": \"initial data\", \"text\": [], \"x\": [47, 38, 62, 45, 93, 87, 90, 78, 56, 42, 92, 33, 79, 85, 30, 87, 64, 59, 43, 70, 33, 32, 33, 99, 31, 78, 57, 84, 33, 97, 58, 86, 93, 100, 59, 74, 59, 58, 88, 67, 32, 83, 101, 42, 53, 67, 45, 72, 94, 84], \"y\": [151, 124, 196, 145, 289, 271, 280, 244, 178, 136, 286, 109, 247, 265, 100, 271, 202, 187, 139, 220, 109, 106, 109, 307, 103, 244, 181, 262, 109, 301, 184, 268, 289, 310, 187, 232, 187, 184, 274, 211, 106, 259, 313, 136, 169, 211, 145, 226, 292, 262], \"type\": \"scatter\", \"uid\": \"d6e21ea0-3fc4-4075-bb04-52f15130f013\"}, {\"mode\": \"markers\", \"name\": \"new\", \"text\": [], \"x\": [94, 54, 68, 66, 93, 94, 80, 34, 91, 61, 81, 83, 52, 76, 100, 77, 41, 86, 95, 43, 50, 96, 80, 77, 92, 33, 90, 35, 69, 80, 51, 51, 94, 59, 31, 55, 99, 100, 59, 81, 95, 74, 75, 88, 64, 100, 30, 79, 95, 46], \"y\": [292, 172, 214, 208, 289, 292, 250, 112, 283, 193, 253, 259, 166, 238, 310, 241, 133, 268, 295, 139, 160, 298, 250, 241, 286, 109, 280, 115, 217, 250, 163, 163, 292, 187, 103, 175, 307, 310, 187, 253, 295, 232, 235, 274, 202, 310, 100, 247, 295, 148], \"type\": \"scatter\", \"uid\": \"d87beac6-158a-4005-a7f5-9a993c5c0bc5\"}], {\"xaxis\": {\"title\": {\"text\": \"temperature\"}}, \"yaxis\": {\"title\": {\"text\": \"customers\"}}}, {\"showLink\": false, \"linkText\": \"Export to plot.ly\", \"plotlyServerURL\": \"https://plot.ly\"})});</script><script type=\"text/javascript\">window.addEventListener(\"resize\", function(){window._Plotly.Plots.resize(document.getElementById(\"91af71dd-6398-46ba-a051-3b8f9922be4a\"));});</script>"
      ],
      "text/vnd.plotly.v1+html": [
       "<div id=\"91af71dd-6398-46ba-a051-3b8f9922be4a\" style=\"height: 525px; width: 100%;\" class=\"plotly-graph-div\"></div><script type=\"text/javascript\">require([\"plotly\"], function(Plotly) { window.PLOTLYENV=window.PLOTLYENV || {};window.PLOTLYENV.BASE_URL=\"https://plot.ly\";Plotly.newPlot(\"91af71dd-6398-46ba-a051-3b8f9922be4a\", [{\"mode\": \"markers\", \"name\": \"initial data\", \"text\": [], \"x\": [47, 38, 62, 45, 93, 87, 90, 78, 56, 42, 92, 33, 79, 85, 30, 87, 64, 59, 43, 70, 33, 32, 33, 99, 31, 78, 57, 84, 33, 97, 58, 86, 93, 100, 59, 74, 59, 58, 88, 67, 32, 83, 101, 42, 53, 67, 45, 72, 94, 84], \"y\": [151, 124, 196, 145, 289, 271, 280, 244, 178, 136, 286, 109, 247, 265, 100, 271, 202, 187, 139, 220, 109, 106, 109, 307, 103, 244, 181, 262, 109, 301, 184, 268, 289, 310, 187, 232, 187, 184, 274, 211, 106, 259, 313, 136, 169, 211, 145, 226, 292, 262], \"type\": \"scatter\", \"uid\": \"d6e21ea0-3fc4-4075-bb04-52f15130f013\"}, {\"mode\": \"markers\", \"name\": \"new\", \"text\": [], \"x\": [94, 54, 68, 66, 93, 94, 80, 34, 91, 61, 81, 83, 52, 76, 100, 77, 41, 86, 95, 43, 50, 96, 80, 77, 92, 33, 90, 35, 69, 80, 51, 51, 94, 59, 31, 55, 99, 100, 59, 81, 95, 74, 75, 88, 64, 100, 30, 79, 95, 46], \"y\": [292, 172, 214, 208, 289, 292, 250, 112, 283, 193, 253, 259, 166, 238, 310, 241, 133, 268, 295, 139, 160, 298, 250, 241, 286, 109, 280, 115, 217, 250, 163, 163, 292, 187, 103, 175, 307, 310, 187, 253, 295, 232, 235, 274, 202, 310, 100, 247, 295, 148], \"type\": \"scatter\", \"uid\": \"d87beac6-158a-4005-a7f5-9a993c5c0bc5\"}], {\"xaxis\": {\"title\": {\"text\": \"temperature\"}}, \"yaxis\": {\"title\": {\"text\": \"customers\"}}}, {\"showLink\": false, \"linkText\": \"Export to plot.ly\", \"plotlyServerURL\": \"https://plot.ly\"})});</script><script type=\"text/javascript\">window.addEventListener(\"resize\", function(){window._Plotly.Plots.resize(document.getElementById(\"91af71dd-6398-46ba-a051-3b8f9922be4a\"));});</script>"
      ]
     },
     "metadata": {},
     "output_type": "display_data"
    }
   ],
   "source": [
    "from graph import trace_values, plot\n",
    "new_data_trace = trace_values(new_random_temperatures, new_perfect_customers, name = 'new')\n",
    "plot([data_trace, new_data_trace], layout = layout)"
   ]
  },
  {
   "cell_type": "code",
   "execution_count": 16,
   "metadata": {},
   "outputs": [
    {
     "data": {
      "text/plain": [
       "1.0"
      ]
     },
     "execution_count": 16,
     "metadata": {},
     "output_type": "execute_result"
    }
   ],
   "source": [
    "perfect_model.score(input_new_temperatures, new_perfect_customers)"
   ]
  },
  {
   "cell_type": "markdown",
   "metadata": {},
   "source": [
    "### Summary"
   ]
  },
  {
   "cell_type": "markdown",
   "metadata": {},
   "source": [
    "In this lesson, we saw how to generate a dataset that perfectly matches an underlying linear model.  We simply create a random set of data, and set the outcomes such that they are generated from a linear equation, here $customers = 3xtemperature + 10$.  We saw that when our data perfectly matches a linear formula, our linear regression model discovers that underlying formula and perfectly predicts the outcomes.  We saw that it trains on this data, perfectly predicts the outcome, and then when the model is placed into production, because our data continues to adhere to this formula, it predicts future data as well."
   ]
  }
 ],
 "metadata": {
  "kernelspec": {
   "display_name": "Python 3",
   "language": "python",
   "name": "python3"
  },
  "language_info": {
   "codemirror_mode": {
    "name": "ipython",
    "version": 3
   },
   "file_extension": ".py",
   "mimetype": "text/x-python",
   "name": "python",
   "nbconvert_exporter": "python",
   "pygments_lexer": "ipython3",
   "version": "3.7.3"
  }
 },
 "nbformat": 4,
 "nbformat_minor": 2
}
